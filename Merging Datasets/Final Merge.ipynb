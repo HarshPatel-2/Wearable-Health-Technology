{
 "cells": [
  {
   "cell_type": "code",
   "execution_count": 1,
   "id": "f1da7f52",
   "metadata": {},
   "outputs": [],
   "source": [
    "from datetime import datetime\n",
    "import time \n",
    "import pandas as pd \n",
    "from sklearn.preprocessing import StandardScaler\n",
    "from sklearn.impute import SimpleImputer\n",
    "from sklearn.preprocessing import MinMaxScaler\n",
    "import numpy as np\n",
    "import matplotlib.pyplot as plt\n",
    "import os"
   ]
  },
  {
   "cell_type": "code",
   "execution_count": 2,
   "id": "a70ea9c2",
   "metadata": {},
   "outputs": [
    {
     "name": "stdout",
     "output_type": "stream",
     "text": [
      "Combined DataFrame from 'Inertia_Final.csv':\n",
      "       Timestamp (microseconds)  Accel X (g)  Accel Y (g)  Accel Z (g)  \\\n",
      "0              1616156158176000      -0.8857      -0.9150       9.5503   \n",
      "1              1616156158676000      -0.8139       1.2541       9.4306   \n",
      "2              1616156159175000     -10.2466     -11.1079      16.0610   \n",
      "3              1616156159676000      -4.3679      -7.6616      -4.6180   \n",
      "4              1616156160176000       5.0936      -7.1863      -5.2249   \n",
      "...                         ...          ...          ...          ...   \n",
      "32411          1621446623827000      -1.9750       4.6900       6.4240   \n",
      "32412          1621446624328000      -0.6940       4.2090       6.9890   \n",
      "32413          1621446624828000      -2.4640       3.8000       7.0220   \n",
      "32414          1621446625327000       0.4430       5.1760       5.7150   \n",
      "32415          1621446625828000      -3.9340       5.5670       9.8950   \n",
      "\n",
      "         Activity_Label  Gyro X (°/s)  Gyro Y (°/s)  Gyro Z (°/s)  \\\n",
      "0               Cycling       -1.0842       -1.7585        0.1958   \n",
      "1               Cycling        0.2783       -0.5358        1.6936   \n",
      "2               Cycling       -1.0009       -2.9897       -6.4581   \n",
      "3               Cycling        0.0703       -0.1928       -0.3580   \n",
      "4               Cycling       -0.4245        0.0546        0.3329   \n",
      "...                 ...           ...           ...           ...   \n",
      "32411  Walking Upstairs       -1.9460       -0.0440        0.9180   \n",
      "32412  Walking Upstairs        0.1590        0.0460       -0.6820   \n",
      "32413  Walking Upstairs       -0.3030       -0.5710        0.5110   \n",
      "32414  Walking Upstairs        0.3270        0.2390        0.1830   \n",
      "32415  Walking Upstairs       -0.1350        1.2320        1.0920   \n",
      "\n",
      "       Time_elapse  Subject_ID  \n",
      "0              8.0           1  \n",
      "1            508.0           1  \n",
      "2           1007.0           1  \n",
      "3           1508.0           1  \n",
      "4           2008.0           1  \n",
      "...            ...         ...  \n",
      "32411          NaN           4  \n",
      "32412          NaN           4  \n",
      "32413          NaN           4  \n",
      "32414          NaN           4  \n",
      "32415          NaN           4  \n",
      "\n",
      "[32416 rows x 10 columns]\n"
     ]
    }
   ],
   "source": [
    "combined_df = pd.read_csv('Inertia_Final.csv')\n",
    "\n",
    "print(\"Combined DataFrame from 'Inertia_Final.csv':\")\n",
    "print(combined_df)"
   ]
  },
  {
   "cell_type": "code",
   "execution_count": 3,
   "id": "082718e8",
   "metadata": {},
   "outputs": [
    {
     "name": "stdout",
     "output_type": "stream",
     "text": [
      "Combined DataFrame from 'HAR_final.csv':\n",
      "         Time_elapse  Accel X (g)  Accel Y (g)  Accel Z (g)  Gyro X (°/s)  \\\n",
      "0              0.009     5.223900    -1.424400     3.243000     -0.050164   \n",
      "1              0.020    -0.477850    -2.151500     8.487600     -0.257890   \n",
      "2              0.030    -4.294600    -3.317400    12.292000     -1.036600   \n",
      "3              0.039    -7.452800    -3.385200     9.447400     -2.078400   \n",
      "4              0.050    -8.972700    -3.144100     4.450400     -2.698400   \n",
      "...              ...          ...          ...          ...           ...   \n",
      "1066643       59.086     0.566857    -0.256331    -0.035400      0.000122   \n",
      "1066644       59.085     0.662857    -0.256331    -0.016401      0.000122   \n",
      "1066645       59.108     0.585444    -0.256621     0.022825      0.000016   \n",
      "1066646       59.109     0.470444    -0.199620     0.061825      0.000016   \n",
      "1066647       59.110     0.451444    -0.141621     0.118825      0.000016   \n",
      "\n",
      "         Gyro Y (°/s)  Gyro Z (°/s)  Subject_ID  Timestamp (microseconds)  \\\n",
      "0            0.970730     -0.281460           1          1614891210953047   \n",
      "1            1.258400     -0.166410           1          1616076132115131   \n",
      "2            0.987780      0.000832           1          1616342726910222   \n",
      "3            0.379510      0.069009           1          1619305896535412   \n",
      "4           -0.095597     -0.099303           1          1614490098121472   \n",
      "...               ...           ...         ...                       ...   \n",
      "1066643      0.000742     -0.000038          61          1614156994956682   \n",
      "1066644      0.000742     -0.000038          61          1614415526097549   \n",
      "1066645      0.000098     -0.000005          61          1616357432608418   \n",
      "1066646      0.000098     -0.000005          61          1614465037863056   \n",
      "1066647      0.000098     -0.000005          61          1619331576895488   \n",
      "\n",
      "        Activity_Label  \n",
      "0         Table Tennis  \n",
      "1         Table Tennis  \n",
      "2         Table Tennis  \n",
      "3         Table Tennis  \n",
      "4         Table Tennis  \n",
      "...                ...  \n",
      "1066643         Sit-up  \n",
      "1066644         Sit-up  \n",
      "1066645         Sit-up  \n",
      "1066646         Sit-up  \n",
      "1066647         Sit-up  \n",
      "\n",
      "[1066648 rows x 10 columns]\n"
     ]
    }
   ],
   "source": [
    "file_path = \"HAR_final.csv\"\n",
    "combined_df = pd. read_csv(file_path)\n",
    "\n",
    "print(\"Combined DataFrame from 'HAR_final.csv':\")\n",
    "print(combined_df)"
   ]
  },
  {
   "cell_type": "code",
   "execution_count": 4,
   "id": "8e32b251",
   "metadata": {},
   "outputs": [
    {
     "name": "stdout",
     "output_type": "stream",
     "text": [
      "Merged DataFrame:\n",
      "         Timestamp (microseconds)  Accel X (g)  Accel Y (g)  Accel Z (g)  \\\n",
      "0                1616156158176000    -0.885700    -0.915000     9.550300   \n",
      "1                1616156158676000    -0.813900     1.254100     9.430600   \n",
      "2                1616156159175000   -10.246600   -11.107900    16.061000   \n",
      "3                1616156159676000    -4.367900    -7.661600    -4.618000   \n",
      "4                1616156160176000     5.093600    -7.186300    -5.224900   \n",
      "...                           ...          ...          ...          ...   \n",
      "1099059          1614156994956682     0.566857    -0.256331    -0.035400   \n",
      "1099060          1614415526097549     0.662857    -0.256331    -0.016401   \n",
      "1099061          1616357432608418     0.585444    -0.256621     0.022825   \n",
      "1099062          1614465037863056     0.470444    -0.199620     0.061825   \n",
      "1099063          1619331576895488     0.451444    -0.141621     0.118825   \n",
      "\n",
      "        Activity_Label  Gyro X (°/s)  Gyro Y (°/s)  Gyro Z (°/s)  Time_elapse  \\\n",
      "0              Cycling     -1.084200     -1.758500      0.195800        8.000   \n",
      "1              Cycling      0.278300     -0.535800      1.693600      508.000   \n",
      "2              Cycling     -1.000900     -2.989700     -6.458100     1007.000   \n",
      "3              Cycling      0.070300     -0.192800     -0.358000     1508.000   \n",
      "4              Cycling     -0.424500      0.054600      0.332900     2008.000   \n",
      "...                ...           ...           ...           ...          ...   \n",
      "1099059         Sit-up      0.000122      0.000742     -0.000038       59.086   \n",
      "1099060         Sit-up      0.000122      0.000742     -0.000038       59.085   \n",
      "1099061         Sit-up      0.000016      0.000098     -0.000005       59.108   \n",
      "1099062         Sit-up      0.000016      0.000098     -0.000005       59.109   \n",
      "1099063         Sit-up      0.000016      0.000098     -0.000005       59.110   \n",
      "\n",
      "         Subject_ID  \n",
      "0                 1  \n",
      "1                 1  \n",
      "2                 1  \n",
      "3                 1  \n",
      "4                 1  \n",
      "...             ...  \n",
      "1099059          61  \n",
      "1099060          61  \n",
      "1099061          61  \n",
      "1099062          61  \n",
      "1099063          61  \n",
      "\n",
      "[1099064 rows x 10 columns]\n"
     ]
    }
   ],
   "source": [
    "combined_df = pd.read_csv('Inertia_Final.csv')\n",
    "\n",
    "file_path = \"HAR_final.csv\"\n",
    "df_har = pd.read_csv(file_path)\n",
    "\n",
    "merged_df = pd.concat([combined_df, df_har], ignore_index=True)\n",
    "\n",
    "print(\"Merged DataFrame:\")\n",
    "print (merged_df)"
   ]
  },
  {
   "cell_type": "code",
   "execution_count": 5,
   "id": "75aa46af",
   "metadata": {},
   "outputs": [
    {
     "name": "stdout",
     "output_type": "stream",
     "text": [
      "Index(['Timestamp (microseconds)', 'Accel X (g)', 'Accel Y (g)', 'Accel Z (g)',\n",
      "       'Activity_Label', 'Gyro X (°/s)', 'Gyro Y (°/s)', 'Gyro Z (°/s)',\n",
      "       'Time_elapse', 'Subject_ID'],\n",
      "      dtype='object')\n"
     ]
    }
   ],
   "source": [
    "print (merged_df.columns)"
   ]
  },
  {
   "cell_type": "code",
   "execution_count": 6,
   "id": "537b52e9",
   "metadata": {},
   "outputs": [
    {
     "name": "stdout",
     "output_type": "stream",
     "text": [
      "\n",
      "Reordered DataFrame:\n",
      "         Timestamp (microseconds)  Accel X (g)  Accel Y (g)  Accel Z (g)  \\\n",
      "0                1616156158176000    -0.885700    -0.915000     9.550300   \n",
      "1                1616156158676000    -0.813900     1.254100     9.430600   \n",
      "2                1616156159175000   -10.246600   -11.107900    16.061000   \n",
      "3                1616156159676000    -4.367900    -7.661600    -4.618000   \n",
      "4                1616156160176000     5.093600    -7.186300    -5.224900   \n",
      "...                           ...          ...          ...          ...   \n",
      "1099059          1614156994956682     0.566857    -0.256331    -0.035400   \n",
      "1099060          1614415526097549     0.662857    -0.256331    -0.016401   \n",
      "1099061          1616357432608418     0.585444    -0.256621     0.022825   \n",
      "1099062          1614465037863056     0.470444    -0.199620     0.061825   \n",
      "1099063          1619331576895488     0.451444    -0.141621     0.118825   \n",
      "\n",
      "         Gyro X (°/s)  Gyro Y (°/s)  Gyro Z (°/s) Activity_Label  Time_elapse  \\\n",
      "0           -1.084200     -1.758500      0.195800        Cycling        8.000   \n",
      "1            0.278300     -0.535800      1.693600        Cycling      508.000   \n",
      "2           -1.000900     -2.989700     -6.458100        Cycling     1007.000   \n",
      "3            0.070300     -0.192800     -0.358000        Cycling     1508.000   \n",
      "4           -0.424500      0.054600      0.332900        Cycling     2008.000   \n",
      "...               ...           ...           ...            ...          ...   \n",
      "1099059      0.000122      0.000742     -0.000038         Sit-up       59.086   \n",
      "1099060      0.000122      0.000742     -0.000038         Sit-up       59.085   \n",
      "1099061      0.000016      0.000098     -0.000005         Sit-up       59.108   \n",
      "1099062      0.000016      0.000098     -0.000005         Sit-up       59.109   \n",
      "1099063      0.000016      0.000098     -0.000005         Sit-up       59.110   \n",
      "\n",
      "         Subject_ID  \n",
      "0                 1  \n",
      "1                 1  \n",
      "2                 1  \n",
      "3                 1  \n",
      "4                 1  \n",
      "...             ...  \n",
      "1099059          61  \n",
      "1099060          61  \n",
      "1099061          61  \n",
      "1099062          61  \n",
      "1099063          61  \n",
      "\n",
      "[1099064 rows x 10 columns]\n"
     ]
    }
   ],
   "source": [
    "desired_column_order = [\n",
    "    'Timestamp (microseconds)', 'Accel X (g)', 'Accel Y (g)', 'Accel Z (g)',\n",
    "    'Gyro X (°/s)', 'Gyro Y (°/s)', 'Gyro Z (°/s)', 'Activity_Label',\n",
    "    'Time_elapse', 'Subject_ID'\n",
    "]\n",
    "\n",
    "merged_df = merged_df[desired_column_order]\n",
    "\n",
    "print(\"\\nReordered DataFrame:\")\n",
    "print(merged_df)"
   ]
  },
  {
   "cell_type": "code",
   "execution_count": 7,
   "id": "7e6174b1",
   "metadata": {},
   "outputs": [
    {
     "name": "stdout",
     "output_type": "stream",
     "text": [
      "Removed 18038 rows with NaN values.\n",
      "Removed 2413 duplicate rows.\n",
      "\n",
      "DataFrame after removing NaN values, duplicates, and resetting the index:\n",
      "         Timestamp (microseconds)  Accel X (g)  Accel Y (g)  Accel Z (g)  \\\n",
      "0                1616156158176000    -0.885700    -0.915000     9.550300   \n",
      "1                1616156158676000    -0.813900     1.254100     9.430600   \n",
      "2                1616156159175000   -10.246600   -11.107900    16.061000   \n",
      "3                1616156159676000    -4.367900    -7.661600    -4.618000   \n",
      "4                1616156160176000     5.093600    -7.186300    -5.224900   \n",
      "...                           ...          ...          ...          ...   \n",
      "1078608          1614156994956682     0.566857    -0.256331    -0.035400   \n",
      "1078609          1614415526097549     0.662857    -0.256331    -0.016401   \n",
      "1078610          1616357432608418     0.585444    -0.256621     0.022825   \n",
      "1078611          1614465037863056     0.470444    -0.199620     0.061825   \n",
      "1078612          1619331576895488     0.451444    -0.141621     0.118825   \n",
      "\n",
      "         Gyro X (°/s)  Gyro Y (°/s)  Gyro Z (°/s) Activity_Label  Time_elapse  \\\n",
      "0           -1.084200     -1.758500      0.195800        Cycling        8.000   \n",
      "1            0.278300     -0.535800      1.693600        Cycling      508.000   \n",
      "2           -1.000900     -2.989700     -6.458100        Cycling     1007.000   \n",
      "3            0.070300     -0.192800     -0.358000        Cycling     1508.000   \n",
      "4           -0.424500      0.054600      0.332900        Cycling     2008.000   \n",
      "...               ...           ...           ...            ...          ...   \n",
      "1078608      0.000122      0.000742     -0.000038         Sit-up       59.086   \n",
      "1078609      0.000122      0.000742     -0.000038         Sit-up       59.085   \n",
      "1078610      0.000016      0.000098     -0.000005         Sit-up       59.108   \n",
      "1078611      0.000016      0.000098     -0.000005         Sit-up       59.109   \n",
      "1078612      0.000016      0.000098     -0.000005         Sit-up       59.110   \n",
      "\n",
      "         Subject_ID  \n",
      "0                 1  \n",
      "1                 1  \n",
      "2                 1  \n",
      "3                 1  \n",
      "4                 1  \n",
      "...             ...  \n",
      "1078608          61  \n",
      "1078609          61  \n",
      "1078610          61  \n",
      "1078611          61  \n",
      "1078612          61  \n",
      "\n",
      "[1078613 rows x 10 columns]\n"
     ]
    }
   ],
   "source": [
    "initial_rows = merged_df.shape[0]\n",
    "merged_df.dropna(inplace=True)\n",
    "nan_removed = initial_rows - merged_df.shape[0]\n",
    "\n",
    "initial_rows = merged_df.shape[0]\n",
    "merged_df.drop_duplicates(inplace=True)\n",
    "duplicate_removed = initial_rows - merged_df.shape[0]\n",
    "\n",
    "merged_df.reset_index(drop=True, inplace=True)\n",
    "\n",
    "print(f\"Removed {nan_removed} rows with NaN values.\")\n",
    "print(f\"Removed {duplicate_removed} duplicate rows.\")\n",
    "\n",
    "print(\"\\nDataFrame after removing NaN values, duplicates, and resetting the index:\")\n",
    "print(merged_df)"
   ]
  },
  {
   "cell_type": "code",
   "execution_count": 8,
   "id": "4f7baa83",
   "metadata": {},
   "outputs": [
    {
     "name": "stdout",
     "output_type": "stream",
     "text": [
      "\n",
      "Normalized and scaled DataFrame:\n",
      "         Timestamp (microseconds)  Accel X (g)  Accel Y (g)  Accel Z (g)  \\\n",
      "0                1616156158176000    -0.173760    -0.137676     2.107255   \n",
      "1                1616156158676000    -0.160640     0.305352     2.080949   \n",
      "2                1616156159175000    -1.884325    -2.219527     3.538072   \n",
      "3                1616156159676000    -0.810081    -1.515637    -1.006428   \n",
      "4                1616156160176000     0.918867    -1.418559    -1.139802   \n",
      "...                           ...          ...          ...          ...   \n",
      "1078608          1614156994956682     0.091673    -0.003146     0.000663   \n",
      "1078609          1614415526097549     0.109215    -0.003146     0.004838   \n",
      "1078610          1616357432608418     0.095069    -0.003205     0.013459   \n",
      "1078611          1614465037863056     0.074055     0.008437     0.022030   \n",
      "1078612          1619331576895488     0.070583     0.020283     0.034556   \n",
      "\n",
      "         Gyro X (°/s)  Gyro Y (°/s)  Gyro Z (°/s) Activity_Label  Time_elapse  \\\n",
      "0           -0.764989     -0.845309      0.134371        Cycling        8.000   \n",
      "1            0.173658     -0.265426      1.160738        Cycling      508.000   \n",
      "2           -0.707602     -1.429224     -4.425213        Cycling     1007.000   \n",
      "3            0.030364     -0.102753     -0.245121        Cycling     1508.000   \n",
      "4           -0.310511      0.014580      0.228318        Cycling     2008.000   \n",
      "...               ...           ...           ...            ...          ...   \n",
      "1078608     -0.017983     -0.010963      0.000172         Sit-up       59.086   \n",
      "1078609     -0.017983     -0.010963      0.000172         Sit-up       59.085   \n",
      "1078610     -0.018056     -0.011269      0.000195         Sit-up       59.108   \n",
      "1078611     -0.018056     -0.011269      0.000195         Sit-up       59.109   \n",
      "1078612     -0.018056     -0.011269      0.000195         Sit-up       59.110   \n",
      "\n",
      "         Subject_ID  \n",
      "0                 1  \n",
      "1                 1  \n",
      "2                 1  \n",
      "3                 1  \n",
      "4                 1  \n",
      "...             ...  \n",
      "1078608          61  \n",
      "1078609          61  \n",
      "1078610          61  \n",
      "1078611          61  \n",
      "1078612          61  \n",
      "\n",
      "[1078613 rows x 10 columns]\n"
     ]
    }
   ],
   "source": [
    "numerical_cols = ['Accel X (g)', 'Accel Y (g)', 'Accel Z (g)',\n",
    "                  'Gyro X (°/s)', 'Gyro Y (°/s)', 'Gyro Z (°/s)']\n",
    "\n",
    "scaler_minmax = MinMaxScaler()\n",
    "merged_df[numerical_cols] = scaler_minmax.fit_transform(merged_df[numerical_cols])\n",
    "\n",
    "scaler_standard = StandardScaler()\n",
    "merged_df[numerical_cols] = scaler_standard.fit_transform(merged_df[numerical_cols])\n",
    "\n",
    "print(\"\\nNormalized and scaled DataFrame:\")\n",
    "print(merged_df)"
   ]
  },
  {
   "cell_type": "code",
   "execution_count": 9,
   "id": "56b6f990",
   "metadata": {},
   "outputs": [
    {
     "name": "stdout",
     "output_type": "stream",
     "text": [
      "\n",
      "DataFrame after saving:\n",
      "         Timestamp (microseconds)  Accel X (g)  Accel Y (g)  Accel Z (g)  \\\n",
      "0                1616156158176000    -0.173760    -0.137676     2.107255   \n",
      "1                1616156158676000    -0.160640     0.305352     2.080949   \n",
      "2                1616156159175000    -1.884325    -2.219527     3.538072   \n",
      "3                1616156159676000    -0.810081    -1.515637    -1.006428   \n",
      "4                1616156160176000     0.918867    -1.418559    -1.139802   \n",
      "...                           ...          ...          ...          ...   \n",
      "1078608          1614156994956682     0.091673    -0.003146     0.000663   \n",
      "1078609          1614415526097549     0.109215    -0.003146     0.004838   \n",
      "1078610          1616357432608418     0.095069    -0.003205     0.013459   \n",
      "1078611          1614465037863056     0.074055     0.008437     0.022030   \n",
      "1078612          1619331576895488     0.070583     0.020283     0.034556   \n",
      "\n",
      "         Gyro X (°/s)  Gyro Y (°/s)  Gyro Z (°/s) Activity_Label  Time_elapse  \\\n",
      "0           -0.764989     -0.845309      0.134371        Cycling        8.000   \n",
      "1            0.173658     -0.265426      1.160738        Cycling      508.000   \n",
      "2           -0.707602     -1.429224     -4.425213        Cycling     1007.000   \n",
      "3            0.030364     -0.102753     -0.245121        Cycling     1508.000   \n",
      "4           -0.310511      0.014580      0.228318        Cycling     2008.000   \n",
      "...               ...           ...           ...            ...          ...   \n",
      "1078608     -0.017983     -0.010963      0.000172         Sit-up       59.086   \n",
      "1078609     -0.017983     -0.010963      0.000172         Sit-up       59.085   \n",
      "1078610     -0.018056     -0.011269      0.000195         Sit-up       59.108   \n",
      "1078611     -0.018056     -0.011269      0.000195         Sit-up       59.109   \n",
      "1078612     -0.018056     -0.011269      0.000195         Sit-up       59.110   \n",
      "\n",
      "         Subject_ID  \n",
      "0                 1  \n",
      "1                 1  \n",
      "2                 1  \n",
      "3                 1  \n",
      "4                 1  \n",
      "...             ...  \n",
      "1078608          61  \n",
      "1078609          61  \n",
      "1078610          61  \n",
      "1078611          61  \n",
      "1078612          61  \n",
      "\n",
      "[1078613 rows x 10 columns]\n"
     ]
    }
   ],
   "source": [
    "merged_df.to_csv('Final_Cleaned_HAR_And_Inertia.csv', index=False)\n",
    "\n",
    "print(\"\\nDataFrame after saving:\")\n",
    "print(merged_df)"
   ]
  },
  {
   "cell_type": "markdown",
   "id": "bf691565",
   "metadata": {},
   "source": [
    "# Activity Distribution "
   ]
  },
  {
   "cell_type": "code",
   "execution_count": 10,
   "id": "1861bf6f",
   "metadata": {},
   "outputs": [
    {
     "data": {
      "image/png": "[encoded data removed]",
      "text/plain": [
       "<Figure size 720x432 with 1 Axes>"
      ]
     },
     "metadata": {
      "needs_background": "light"
     },
     "output_type": "display_data"
    }
   ],
   "source": [
    "import pandas as pd\n",
    "import matplotlib.pyplot as plt\n",
    "\n",
    "merged_df = pd.read_csv('Final_Cleaned_HAR_And_Inertia.csv')\n",
    "\n",
    "activity_counts = merged_df['Activity_Label'].value_counts().sort_index()\n",
    "\n",
    "plt.figure(figsize=(10, 6))\n",
    "plt.bar(activity_counts.index, activity_counts.values, align='center', alpha=0.5)\n",
    "plt.xlabel('Activity Label')\n",
    "plt.ylabel('Count')\n",
    "plt.title('Activity Distribution')\n",
    "plt.xticks(activity_counts.index, rotation=30)\n",
    "plt.grid(True)\n",
    "plt.tight_layout()\n",
    "plt.show()"
   ]
  },
  {
   "cell_type": "markdown",
   "id": "c64e9c2f",
   "metadata": {},
   "source": [
    "# Applying SMOTE "
   ]
  },
  {
   "cell_type": "code",
   "execution_count": 11,
   "id": "f1d05fb6",
   "metadata": {},
   "outputs": [
    {
     "data": {
      "image/png": "[encoded data removed]",
      "text/plain": [
       "<Figure size 720x432 with 1 Axes>"
      ]
     },
     "metadata": {
      "needs_background": "light"
     },
     "output_type": "display_data"
    }
   ],
   "source": [
    "import pandas as pd\n",
    "from imblearn.over_sampling import SMOTE\n",
    "import matplotlib.pyplot as plt\n",
    "\n",
    "merged_df = pd.read_csv('Final_Cleaned_HAR_And_Inertia.csv')\n",
    "\n",
    "X = merged_df.drop('Activity_Label', axis=1)\n",
    "y = merged_df['Activity_Label']\n",
    "\n",
    "smote = SMOTE(random_state=42)\n",
    "X_resampled, y_resampled = smote.fit_resample(X, y)\n",
    "\n",
    "resampled_df = pd.DataFrame(X_resampled, columns=X.columns)\n",
    "resampled_df['Activity_Label'] = y_resampled\n",
    "\n",
    "activity_counts = resampled_df['Activity_Label'].value_counts().sort_index()\n",
    "\n",
    "plt.figure(figsize=(10, 6))\n",
    "activity_counts.plot(kind='bar')\n",
    "plt.title('Activity Distribution after SMOTE')\n",
    "plt.xlabel('Activity Label')\n",
    "plt.ylabel('Count')\n",
    "plt.xticks(rotation=45)\n",
    "plt.grid(axis='y')\n",
    "plt.tight_layout()\n",
    "plt.show()"
   ]
  },
  {
   "cell_type": "code",
   "execution_count": 12,
   "id": "ffa65d87",
   "metadata": {},
   "outputs": [
    {
     "name": "stdout",
     "output_type": "stream",
     "text": [
      "Resampled dataset saved successfully.\n"
     ]
    }
   ],
   "source": [
    "import pandas as pd\n",
    "from imblearn.over_sampling import SMOTE\n",
    "\n",
    "merged_df = pd.read_csv('Final_Cleaned_HAR_And_Inertia.csv')\n",
    "\n",
    "X = merged_df.drop('Activity_Label', axis=1)\n",
    "y = merged_df['Activity_Label']\n",
    "\n",
    "smote = SMOTE(random_state=42)\n",
    "X_resampled, y_resampled = smote.fit_resample(X, y)\n",
    "\n",
    "resampled_df = pd.DataFrame(X_resampled, columns=X.columns)\n",
    "resampled_df['Activity_Label'] = y_resampled\n",
    "\n",
    "resampled_df.to_csv('Final_Resampled_HAR_And_Inertia.csv', index=False)\n",
    "print(\"Resampled dataset saved successfully.\")"
   ]
  },
  {
   "cell_type": "code",
   "execution_count": 13,
   "id": "2b61ff6c",
   "metadata": {},
   "outputs": [
    {
     "name": "stdout",
     "output_type": "stream",
     "text": [
      "\n",
      "DataFrame After loading:\n",
      "         Timestamp (microseconds)  Accel X (g)  Accel Y (g)  Accel Z (g)  \\\n",
      "0                1616156158176000    -0.173760    -0.137676     2.107255   \n",
      "1                1616156158676000    -0.160640     0.305352     2.080949   \n",
      "2                1616156159175000    -1.884325    -2.219527     3.538072   \n",
      "3                1616156159676000    -0.810081    -1.515637    -1.006428   \n",
      "4                1616156160176000     0.918867    -1.418559    -1.139802   \n",
      "...                           ...          ...          ...          ...   \n",
      "3177405          1621444994715142     0.233441    -1.648441    -0.820337   \n",
      "3177406          1621445416690000     0.074065    -1.330325    -0.403241   \n",
      "3177407          1621445368644327     0.593193    -1.481575     1.216546   \n",
      "3177408          1621445434867000     0.409219    -1.081881    -0.847780   \n",
      "3177409          1621444933158335    -0.185485    -2.102400    -0.736247   \n",
      "\n",
      "         Gyro X (°/s)  Gyro Y (°/s)  Gyro Z (°/s)    Time_elapse  Subject_ID  \\\n",
      "0           -0.764989     -0.845309      0.134371       8.000000           1   \n",
      "1            0.173658     -0.265426      1.160738     508.000000           1   \n",
      "2           -0.707602     -1.429224     -4.425213    1007.000000           1   \n",
      "3            0.030364     -0.102753     -0.245121    1508.000000           1   \n",
      "4           -0.310511      0.014580      0.228318    2008.000000           1   \n",
      "...               ...           ...           ...            ...         ...   \n",
      "3177405      0.172214      0.091231      0.304370  132395.000000           4   \n",
      "3177406      0.826956      0.248629      0.432797   98114.218238           1   \n",
      "3177407      0.325450     -0.097871     -0.068726   31259.327021           1   \n",
      "3177408     -1.273821      0.259347     -0.601108  129945.137103           2   \n",
      "3177409     -0.937949      0.152076     -0.006434   46467.571259           4   \n",
      "\n",
      "           Activity_Label  \n",
      "0                 Cycling  \n",
      "1                 Cycling  \n",
      "2                 Cycling  \n",
      "3                 Cycling  \n",
      "4                 Cycling  \n",
      "...                   ...  \n",
      "3177405  Walking Upstairs  \n",
      "3177406  Walking Upstairs  \n",
      "3177407  Walking Upstairs  \n",
      "3177408  Walking Upstairs  \n",
      "3177409  Walking Upstairs  \n",
      "\n",
      "[3177410 rows x 10 columns]\n"
     ]
    }
   ],
   "source": [
    "df = pd.read_csv('Final_Resampled_HAR_And_Inertia.csv')\n",
    "\n",
    "print(\"\\nDataFrame After loading:\")\n",
    "print(df)"
   ]
  },
  {
   "cell_type": "code",
   "execution_count": 6,
   "id": "7390f598",
   "metadata": {},
   "outputs": [
    {
     "name": "stdout",
     "output_type": "stream",
     "text": [
      "\n",
      "DataFrame Columns:\n",
      "Index(['Timestamp (microseconds)', 'Accel X (g)', 'Accel Y (g)', 'Accel Z (g)',\n",
      "       'Gyro X (°/s)', 'Gyro Y (°/s)', 'Gyro Z (°/s)', 'Time_elapse',\n",
      "       'Subject_ID', 'Activity_Label'],\n",
      "      dtype='object')\n",
      "\n",
      "DataFrame Head:\n",
      "   Timestamp (microseconds)  Accel X (g)  Accel Y (g)  Accel Z (g)  \\\n",
      "0          1616156158176000    -0.173760    -0.137676     2.107255   \n",
      "1          1616156158676000    -0.160640     0.305352     2.080949   \n",
      "2          1616156159175000    -1.884325    -2.219527     3.538072   \n",
      "3          1616156159676000    -0.810081    -1.515637    -1.006428   \n",
      "4          1616156160176000     0.918867    -1.418559    -1.139802   \n",
      "\n",
      "   Gyro X (°/s)  Gyro Y (°/s)  Gyro Z (°/s)  Time_elapse  Subject_ID  \\\n",
      "0     -0.764989     -0.845309      0.134371          8.0           1   \n",
      "1      0.173658     -0.265426      1.160738        508.0           1   \n",
      "2     -0.707602     -1.429224     -4.425213       1007.0           1   \n",
      "3      0.030364     -0.102753     -0.245121       1508.0           1   \n",
      "4     -0.310511      0.014580      0.228318       2008.0           1   \n",
      "\n",
      "  Activity_Label  \n",
      "0        Cycling  \n",
      "1        Cycling  \n",
      "2        Cycling  \n",
      "3        Cycling  \n",
      "4        Cycling  \n",
      "\n",
      "Unique values in the 'activity' column:\n",
      "['Cycling' 'Jogging' 'Jump Rope' 'Walking Downstairs' 'Walking Upstairs'\n",
      " 'Table Tennis' 'Push-up' 'Walk' 'Run' 'Sit-up']\n"
     ]
    }
   ],
   "source": [
    "import pandas as pd\n",
    "\n",
    "df = pd.read_csv('Final_Resampled_HAR_And_Inertia.csv')\n",
    "\n",
    "print(\"\\nDataFrame Columns:\")\n",
    "print(df.columns)\n",
    "\n",
    "print(\"\\nDataFrame Head:\")\n",
    "print(df.head())\n",
    "\n",
    "unique_values = df['Activity_Label'].unique()\n",
    "print(\"\\nUnique values in the 'activity' column:\")\n",
    "print(unique_values)"
   ]
  },
  {
   "cell_type": "code",
   "execution_count": null,
   "id": "d4c51364",
   "metadata": {},
   "outputs": [],
   "source": []
  }
 ],
 "metadata": {
  "kernelspec": {
   "display_name": "Python 3 (ipykernel)",
   "language": "python",
   "name": "python3"
  },
  "language_info": {
   "codemirror_mode": {
    "name": "ipython",
    "version": 3
   },
   "file_extension": ".py",
   "mimetype": "text/x-python",
   "name": "python",
   "nbconvert_exporter": "python",
   "pygments_lexer": "ipython3",
   "version": "3.9.7"
  }
 },
 "nbformat": 4,
 "nbformat_minor": 5
}
