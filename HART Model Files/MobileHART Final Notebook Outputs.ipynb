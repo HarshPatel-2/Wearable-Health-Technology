{
 "cells": [
  {
   "cell_type": "code",
   "execution_count": 4,
   "id": "9848f78f",
   "metadata": {
    "scrolled": true
   },
   "outputs": [],
   "source": [
    "import pandas as pd\n",
    "import numpy as np\n",
    "import model\n",
    "from sklearn.model_selection import train_test_split\n",
    "import tensorflow as tf\n",
    "from tensorflow import keras\n",
    "from sklearn.metrics import classification_report\n",
    "from collections import defaultdict\n",
    "from tensorflow import keras\n",
    "import tensorflow as tf\n",
    "from model import mobileHART_XS"
   ]
  },
  {
   "cell_type": "code",
   "execution_count": 2,
   "id": "f6077191",
   "metadata": {},
   "outputs": [
    {
     "name": "stdout",
     "output_type": "stream",
     "text": [
      "Defaulting to user installation because normal site-packages is not writeable\n",
      "Requirement already satisfied: tensorflow in ./.local/lib/python3.9/site-packages (2.16.1)\n",
      "Requirement already satisfied: absl-py>=1.0.0 in ./.local/lib/python3.9/site-packages (from tensorflow) (2.1.0)\n",
      "Requirement already satisfied: ml-dtypes~=0.3.1 in ./.local/lib/python3.9/site-packages (from tensorflow) (0.3.2)\n",
      "Requirement already satisfied: requests<3,>=2.21.0 in ./.local/lib/python3.9/site-packages (from tensorflow) (2.31.0)\n",
      "Requirement already satisfied: six>=1.12.0 in /opt/tljh/user/lib/python3.9/site-packages (from tensorflow) (1.16.0)\n",
      "Requirement already satisfied: protobuf!=4.21.0,!=4.21.1,!=4.21.2,!=4.21.3,!=4.21.4,!=4.21.5,<5.0.0dev,>=3.20.3 in ./.local/lib/python3.9/site-packages (from tensorflow) (4.25.3)\n",
      "Requirement already satisfied: libclang>=13.0.0 in ./.local/lib/python3.9/site-packages (from tensorflow) (18.1.1)\n",
      "Requirement already satisfied: tensorflow-io-gcs-filesystem>=0.23.1 in ./.local/lib/python3.9/site-packages (from tensorflow) (0.37.0)\n",
      "Requirement already satisfied: opt-einsum>=2.3.2 in ./.local/lib/python3.9/site-packages (from tensorflow) (3.3.0)\n",
      "Requirement already satisfied: google-pasta>=0.1.1 in ./.local/lib/python3.9/site-packages (from tensorflow) (0.2.0)\n",
      "Requirement already satisfied: packaging in ./.local/lib/python3.9/site-packages (from tensorflow) (24.0)\n",
      "Requirement already satisfied: gast!=0.5.0,!=0.5.1,!=0.5.2,>=0.2.1 in ./.local/lib/python3.9/site-packages (from tensorflow) (0.5.4)\n",
      "Requirement already satisfied: termcolor>=1.1.0 in ./.local/lib/python3.9/site-packages (from tensorflow) (2.4.0)\n",
      "Requirement already satisfied: typing-extensions>=3.6.6 in ./.local/lib/python3.9/site-packages (from tensorflow) (4.10.0)\n",
      "Requirement already satisfied: keras>=3.0.0 in ./.local/lib/python3.9/site-packages (from tensorflow) (3.3.3)\n",
      "Requirement already satisfied: astunparse>=1.6.0 in ./.local/lib/python3.9/site-packages (from tensorflow) (1.6.3)\n",
      "Requirement already satisfied: h5py>=3.10.0 in ./.local/lib/python3.9/site-packages (from tensorflow) (3.10.0)\n",
      "Requirement already satisfied: numpy<2.0.0,>=1.23.5 in ./.local/lib/python3.9/site-packages (from tensorflow) (1.26.4)\n",
      "Requirement already satisfied: setuptools in /opt/tljh/user/lib/python3.9/site-packages (from tensorflow) (58.2.0)\n",
      "Requirement already satisfied: flatbuffers>=23.5.26 in ./.local/lib/python3.9/site-packages (from tensorflow) (24.3.25)\n",
      "Requirement already satisfied: tensorboard<2.17,>=2.16 in ./.local/lib/python3.9/site-packages (from tensorflow) (2.16.2)\n",
      "Requirement already satisfied: wrapt>=1.11.0 in ./.local/lib/python3.9/site-packages (from tensorflow) (1.16.0)\n",
      "Requirement already satisfied: grpcio<2.0,>=1.24.3 in ./.local/lib/python3.9/site-packages (from tensorflow) (1.63.0)\n",
      "Requirement already satisfied: wheel<1.0,>=0.23.0 in /opt/tljh/user/lib/python3.9/site-packages (from astunparse>=1.6.0->tensorflow) (0.37.0)\n",
      "Requirement already satisfied: namex in ./.local/lib/python3.9/site-packages (from keras>=3.0.0->tensorflow) (0.0.8)\n",
      "Requirement already satisfied: rich in ./.local/lib/python3.9/site-packages (from keras>=3.0.0->tensorflow) (13.7.1)\n",
      "Requirement already satisfied: optree in ./.local/lib/python3.9/site-packages (from keras>=3.0.0->tensorflow) (0.11.0)\n",
      "Requirement already satisfied: idna<4,>=2.5 in /opt/tljh/user/lib/python3.9/site-packages (from requests<3,>=2.21.0->tensorflow) (3.1)\n",
      "Requirement already satisfied: charset-normalizer<4,>=2 in /opt/tljh/user/lib/python3.9/site-packages (from requests<3,>=2.21.0->tensorflow) (2.0.0)\n",
      "Requirement already satisfied: certifi>=2017.4.17 in /opt/tljh/user/lib/python3.9/site-packages (from requests<3,>=2.21.0->tensorflow) (2022.6.15)\n",
      "Requirement already satisfied: urllib3<3,>=1.21.1 in /opt/tljh/user/lib/python3.9/site-packages (from requests<3,>=2.21.0->tensorflow) (1.26.7)\n",
      "Requirement already satisfied: werkzeug>=1.0.1 in ./.local/lib/python3.9/site-packages (from tensorboard<2.17,>=2.16->tensorflow) (3.0.2)\n",
      "Requirement already satisfied: tensorboard-data-server<0.8.0,>=0.7.0 in ./.local/lib/python3.9/site-packages (from tensorboard<2.17,>=2.16->tensorflow) (0.7.2)\n",
      "Requirement already satisfied: markdown>=2.6.8 in ./.local/lib/python3.9/site-packages (from tensorboard<2.17,>=2.16->tensorflow) (3.6)\n",
      "Requirement already satisfied: importlib-metadata>=4.4 in ./.local/lib/python3.9/site-packages (from markdown>=2.6.8->tensorboard<2.17,>=2.16->tensorflow) (8.0.0)\n",
      "Requirement already satisfied: MarkupSafe>=2.1.1 in /opt/tljh/user/lib/python3.9/site-packages (from werkzeug>=1.0.1->tensorboard<2.17,>=2.16->tensorflow) (2.1.1)\n",
      "Requirement already satisfied: markdown-it-py>=2.2.0 in ./.local/lib/python3.9/site-packages (from rich->keras>=3.0.0->tensorflow) (3.0.0)\n",
      "Requirement already satisfied: pygments<3.0.0,>=2.13.0 in ./.local/lib/python3.9/site-packages (from rich->keras>=3.0.0->tensorflow) (2.18.0)\n",
      "Requirement already satisfied: zipp>=0.5 in /opt/tljh/user/lib/python3.9/site-packages (from importlib-metadata>=4.4->markdown>=2.6.8->tensorboard<2.17,>=2.16->tensorflow) (3.8.1)\n",
      "Requirement already satisfied: mdurl~=0.1 in ./.local/lib/python3.9/site-packages (from markdown-it-py>=2.2.0->rich->keras>=3.0.0->tensorflow) (0.1.2)\n"
     ]
    }
   ],
   "source": [
    "! pip install tensorflow"
   ]
  },
  {
   "cell_type": "code",
   "execution_count": 3,
   "id": "17a44bd2",
   "metadata": {},
   "outputs": [
    {
     "name": "stdout",
     "output_type": "stream",
     "text": [
      "   Accel X (g)  Accel Y (g)  Accel Z (g)  Gyro X (°/s)  Gyro Y (°/s)  \\\n",
      "0    -0.173760    -0.137676     2.107255     -0.764989     -0.845309   \n",
      "1    -0.160640     0.305352     2.080949      0.173658     -0.265426   \n",
      "2    -1.884325    -2.219527     3.538072     -0.707602     -1.429224   \n",
      "3    -0.810081    -1.515637    -1.006428      0.030364     -0.102753   \n",
      "4     0.918867    -1.418559    -1.139802     -0.310511      0.014580   \n",
      "\n",
      "   Gyro Z (°/s) Activity_Label  \n",
      "0      0.134371        Cycling  \n",
      "1      1.160738        Cycling  \n",
      "2     -4.425213        Cycling  \n",
      "3     -0.245121        Cycling  \n",
      "4      0.228318        Cycling  \n"
     ]
    }
   ],
   "source": [
    "columns = ['Accel X (g)', 'Accel Y (g)', 'Accel Z (g)',\n",
    "           'Gyro X (°/s)', 'Gyro Y (°/s)', 'Gyro Z (°/s)', 'Activity_Label']\n",
    "df = pd.read_csv(\"Final_Resampled_HAR_And_Inertia.csv\", usecols=columns)\n",
    "\n",
    "print(df.head())"
   ]
  },
  {
   "cell_type": "code",
   "execution_count": 4,
   "id": "278a8c2d",
   "metadata": {},
   "outputs": [],
   "source": [
    "labels = pd.factorize(df['Activity_Label'])[0]\n",
    "\n",
    "feature_columns = df.columns[:-1]\n",
    "data = df[feature_columns].values"
   ]
  },
  {
   "cell_type": "code",
   "execution_count": 5,
   "id": "1fae462e",
   "metadata": {
    "scrolled": false
   },
   "outputs": [
    {
     "name": "stderr",
     "output_type": "stream",
     "text": [
      "2024-07-18 21:10:02.573816: I external/local_xla/xla/stream_executor/cuda/cuda_executor.cc:998] successful NUMA node read from SysFS had negative value (-1), but there must be at least one NUMA node, so returning NUMA node zero. See more at https://github.com/torvalds/linux/blob/v6.0/Documentation/ABI/testing/sysfs-bus-pci#L344-L355\n",
      "2024-07-18 21:10:02.574004: I external/local_xla/xla/stream_executor/cuda/cuda_executor.cc:998] successful NUMA node read from SysFS had negative value (-1), but there must be at least one NUMA node, so returning NUMA node zero. See more at https://github.com/torvalds/linux/blob/v6.0/Documentation/ABI/testing/sysfs-bus-pci#L344-L355\n",
      "2024-07-18 21:10:02.589937: I external/local_xla/xla/stream_executor/cuda/cuda_executor.cc:998] successful NUMA node read from SysFS had negative value (-1), but there must be at least one NUMA node, so returning NUMA node zero. See more at https://github.com/torvalds/linux/blob/v6.0/Documentation/ABI/testing/sysfs-bus-pci#L344-L355\n",
      "2024-07-18 21:10:02.590137: I external/local_xla/xla/stream_executor/cuda/cuda_executor.cc:998] successful NUMA node read from SysFS had negative value (-1), but there must be at least one NUMA node, so returning NUMA node zero. See more at https://github.com/torvalds/linux/blob/v6.0/Documentation/ABI/testing/sysfs-bus-pci#L344-L355\n",
      "2024-07-18 21:10:02.590286: I external/local_xla/xla/stream_executor/cuda/cuda_executor.cc:998] successful NUMA node read from SysFS had negative value (-1), but there must be at least one NUMA node, so returning NUMA node zero. See more at https://github.com/torvalds/linux/blob/v6.0/Documentation/ABI/testing/sysfs-bus-pci#L344-L355\n",
      "2024-07-18 21:10:02.590426: I external/local_xla/xla/stream_executor/cuda/cuda_executor.cc:998] successful NUMA node read from SysFS had negative value (-1), but there must be at least one NUMA node, so returning NUMA node zero. See more at https://github.com/torvalds/linux/blob/v6.0/Documentation/ABI/testing/sysfs-bus-pci#L344-L355\n",
      "2024-07-18 21:10:02.664326: I external/local_xla/xla/stream_executor/cuda/cuda_executor.cc:998] successful NUMA node read from SysFS had negative value (-1), but there must be at least one NUMA node, so returning NUMA node zero. See more at https://github.com/torvalds/linux/blob/v6.0/Documentation/ABI/testing/sysfs-bus-pci#L344-L355\n",
      "2024-07-18 21:10:02.664510: I external/local_xla/xla/stream_executor/cuda/cuda_executor.cc:998] successful NUMA node read from SysFS had negative value (-1), but there must be at least one NUMA node, so returning NUMA node zero. See more at https://github.com/torvalds/linux/blob/v6.0/Documentation/ABI/testing/sysfs-bus-pci#L344-L355\n",
      "2024-07-18 21:10:02.664673: I external/local_xla/xla/stream_executor/cuda/cuda_executor.cc:998] successful NUMA node read from SysFS had negative value (-1), but there must be at least one NUMA node, so returning NUMA node zero. See more at https://github.com/torvalds/linux/blob/v6.0/Documentation/ABI/testing/sysfs-bus-pci#L344-L355\n",
      "2024-07-18 21:10:02.664820: I external/local_xla/xla/stream_executor/cuda/cuda_executor.cc:998] successful NUMA node read from SysFS had negative value (-1), but there must be at least one NUMA node, so returning NUMA node zero. See more at https://github.com/torvalds/linux/blob/v6.0/Documentation/ABI/testing/sysfs-bus-pci#L344-L355\n",
      "2024-07-18 21:10:02.664963: I external/local_xla/xla/stream_executor/cuda/cuda_executor.cc:998] successful NUMA node read from SysFS had negative value (-1), but there must be at least one NUMA node, so returning NUMA node zero. See more at https://github.com/torvalds/linux/blob/v6.0/Documentation/ABI/testing/sysfs-bus-pci#L344-L355\n",
      "2024-07-18 21:10:02.665105: I external/local_xla/xla/stream_executor/cuda/cuda_executor.cc:998] successful NUMA node read from SysFS had negative value (-1), but there must be at least one NUMA node, so returning NUMA node zero. See more at https://github.com/torvalds/linux/blob/v6.0/Documentation/ABI/testing/sysfs-bus-pci#L344-L355\n",
      "2024-07-18 21:10:02.671530: I external/local_xla/xla/stream_executor/cuda/cuda_executor.cc:998] successful NUMA node read from SysFS had negative value (-1), but there must be at least one NUMA node, so returning NUMA node zero. See more at https://github.com/torvalds/linux/blob/v6.0/Documentation/ABI/testing/sysfs-bus-pci#L344-L355\n",
      "2024-07-18 21:10:02.671695: I external/local_xla/xla/stream_executor/cuda/cuda_executor.cc:998] successful NUMA node read from SysFS had negative value (-1), but there must be at least one NUMA node, so returning NUMA node zero. See more at https://github.com/torvalds/linux/blob/v6.0/Documentation/ABI/testing/sysfs-bus-pci#L344-L355\n",
      "2024-07-18 21:10:02.671846: I external/local_xla/xla/stream_executor/cuda/cuda_executor.cc:998] successful NUMA node read from SysFS had negative value (-1), but there must be at least one NUMA node, so returning NUMA node zero. See more at https://github.com/torvalds/linux/blob/v6.0/Documentation/ABI/testing/sysfs-bus-pci#L344-L355\n",
      "2024-07-18 21:10:02.671996: I external/local_xla/xla/stream_executor/cuda/cuda_executor.cc:998] successful NUMA node read from SysFS had negative value (-1), but there must be at least one NUMA node, so returning NUMA node zero. See more at https://github.com/torvalds/linux/blob/v6.0/Documentation/ABI/testing/sysfs-bus-pci#L344-L355\n",
      "2024-07-18 21:10:02.672143: I external/local_xla/xla/stream_executor/cuda/cuda_executor.cc:998] successful NUMA node read from SysFS had negative value (-1), but there must be at least one NUMA node, so returning NUMA node zero. See more at https://github.com/torvalds/linux/blob/v6.0/Documentation/ABI/testing/sysfs-bus-pci#L344-L355\n",
      "2024-07-18 21:10:02.672263: I tensorflow/core/common_runtime/gpu/gpu_device.cc:1928] Created device /job:localhost/replica:0/task:0/device:GPU:0 with 22463 MB memory:  -> device: 0, name: NVIDIA GeForce RTX 3090, pci bus id: 0000:0b:00.0, compute capability: 8.6\n",
      "2024-07-18 21:10:02.672559: I external/local_xla/xla/stream_executor/cuda/cuda_executor.cc:998] successful NUMA node read from SysFS had negative value (-1), but there must be at least one NUMA node, so returning NUMA node zero. See more at https://github.com/torvalds/linux/blob/v6.0/Documentation/ABI/testing/sysfs-bus-pci#L344-L355\n",
      "2024-07-18 21:10:02.672790: I tensorflow/core/common_runtime/gpu/gpu_device.cc:1928] Created device /job:localhost/replica:0/task:0/device:GPU:1 with 23792 MB memory:  -> device: 1, name: Quadro P6000, pci bus id: 0000:0a:00.0, compute capability: 6.1\n"
     ]
    }
   ],
   "source": [
    "input_shape = (128, 6)\n",
    "activityCount = 10\n",
    "MobileHART = mobileHART_XS(input_shape, activityCount)"
   ]
  },
  {
   "cell_type": "code",
   "execution_count": 6,
   "id": "641eac6d",
   "metadata": {},
   "outputs": [],
   "source": [
    "def create_overlapping_windows(data, window_size, step_size, features):\n",
    "    segments = []\n",
    "    for start in range(0, len(data) - window_size + 1, step_size):\n",
    "        segment = data[start:start + window_size, :features]\n",
    "        segments.append(segment)\n",
    "    return np.array(segments)\n",
    "\n",
    "window_size = 128\n",
    "step_size = 64\n",
    "num_features = 6\n",
    "\n",
    "reshaped_data = create_overlapping_windows(data, window_size, step_size, num_features)\n",
    "\n",
    "def assign_labels_to_windows(labels, window_size, step_size):\n",
    "    window_labels = []\n",
    "    for start in range(0, len(labels) - window_size + 1, step_size):\n",
    "        window_label = np.bincount(labels[start:start + window_size]).argmax()\n",
    "        window_labels.append(window_label)\n",
    "    return np.array(window_labels)\n",
    "\n",
    "window_labels = assign_labels_to_windows(labels, window_size, step_size)"
   ]
  },
  {
   "cell_type": "code",
   "execution_count": 7,
   "id": "538bab81",
   "metadata": {},
   "outputs": [],
   "source": [
    "from sklearn.model_selection import train_test_split\n",
    "\n",
    "X_train, X_test, y_train, y_test = train_test_split(reshaped_data, window_labels, test_size=0.2, random_state=21)"
   ]
  },
  {
   "cell_type": "code",
   "execution_count": 8,
   "id": "71faf24d",
   "metadata": {},
   "outputs": [],
   "source": [
    "MobileHART.compile(optimizer='adam', loss='sparse_categorical_crossentropy', metrics=['accuracy'])"
   ]
  },
  {
   "cell_type": "code",
   "execution_count": 9,
   "id": "278f3a35",
   "metadata": {},
   "outputs": [],
   "source": [
    "import tensorflow.keras as keras\n",
    "\n",
    "early_stopping = keras.callbacks.EarlyStopping(\n",
    "    monitor='val_loss', \n",
    "    patience=5,        \n",
    "    restore_best_weights=True  \n",
    ")"
   ]
  },
  {
   "cell_type": "code",
   "execution_count": 10,
   "id": "c6ced53c",
   "metadata": {
    "scrolled": true
   },
   "outputs": [
    {
     "name": "stdout",
     "output_type": "stream",
     "text": [
      "Epoch 1/100\n"
     ]
    },
    {
     "name": "stderr",
     "output_type": "stream",
     "text": [
      "WARNING: All log messages before absl::InitializeLog() is called are written to STDERR\n",
      "I0000 00:00:1721351431.681234  198587 service.cc:145] XLA service 0x7fbc4402b4e0 initialized for platform CUDA (this does not guarantee that XLA will be used). Devices:\n",
      "I0000 00:00:1721351431.681269  198587 service.cc:153]   StreamExecutor device (0): NVIDIA GeForce RTX 3090, Compute Capability 8.6\n",
      "I0000 00:00:1721351431.681274  198587 service.cc:153]   StreamExecutor device (1): Quadro P6000, Compute Capability 6.1\n",
      "2024-07-18 21:10:32.438938: I tensorflow/compiler/mlir/tensorflow/utils/dump_mlir_util.cc:268] disabling MLIR crash reproducer, set env var `MLIR_CRASH_REPRODUCER_DIRECTORY` to enable.\n",
      "W0000 00:00:1721351433.363244  198587 random_ops.cc:59] Warning: Using tf.random.uniform with XLA compilation will ignore seeds; consider using tf.random.stateless_uniform instead if reproducible behavior is desired. functional_1_1/AccMHA_0_1/drop_path_1_1/random_uniform/RandomUniform\n",
      "2024-07-18 21:10:35.020489: I external/local_xla/xla/stream_executor/cuda/cuda_dnn.cc:465] Loaded cuDNN version 8906\n",
      "WARNING: All log messages before absl::InitializeLog() is called are written to STDERR\n",
      "I0000 00:00:1721351449.440079  198626 asm_compiler.cc:369] ptxas warning : Registers are spilled to local memory in function 'triton_gemm_dot_63', 336 bytes spill stores, 324 bytes spill loads\n",
      "\n",
      "I0000 00:00:1721351450.092231  198627 asm_compiler.cc:369] ptxas warning : Registers are spilled to local memory in function 'triton_gemm_dot_63', 176 bytes spill stores, 176 bytes spill loads\n",
      "\n",
      "I0000 00:00:1721351450.354860  198632 asm_compiler.cc:369] ptxas warning : Registers are spilled to local memory in function 'triton_gemm_dot_63', 1756 bytes spill stores, 1744 bytes spill loads\n",
      "\n",
      "I0000 00:00:1721351450.784319  198631 asm_compiler.cc:369] ptxas warning : Registers are spilled to local memory in function 'triton_gemm_dot_116', 16 bytes spill stores, 16 bytes spill loads\n",
      "\n",
      "I0000 00:00:1721351451.293370  198637 asm_compiler.cc:369] ptxas warning : Registers are spilled to local memory in function 'triton_gemm_dot_428', 300 bytes spill stores, 184 bytes spill loads\n",
      "\n",
      "I0000 00:00:1721351451.720320  198627 asm_compiler.cc:369] ptxas warning : Registers are spilled to local memory in function 'triton_gemm_dot_106', 16 bytes spill stores, 16 bytes spill loads\n",
      "\n",
      "I0000 00:00:1721351452.422401  198637 asm_compiler.cc:369] ptxas warning : Registers are spilled to local memory in function 'triton_gemm_dot_87', 120 bytes spill stores, 120 bytes spill loads\n",
      "\n",
      "I0000 00:00:1721351453.670549  198634 asm_compiler.cc:369] ptxas warning : Registers are spilled to local memory in function 'triton_gemm_dot_428', 272 bytes spill stores, 280 bytes spill loads\n",
      "\n",
      "I0000 00:00:1721351455.147659  198631 asm_compiler.cc:369] ptxas warning : Registers are spilled to local memory in function 'triton_gemm_dot_81', 120 bytes spill stores, 120 bytes spill loads\n",
      "\n",
      "I0000 00:00:1721351455.239639  198637 asm_compiler.cc:369] ptxas warning : Registers are spilled to local memory in function 'triton_gemm_dot_83', 120 bytes spill stores, 120 bytes spill loads\n",
      "\n",
      "I0000 00:00:1721351455.374309  198626 asm_compiler.cc:369] ptxas warning : Registers are spilled to local memory in function 'triton_gemm_dot_49', 300 bytes spill stores, 184 bytes spill loads\n",
      "\n",
      "I0000 00:00:1721351455.495600  198629 asm_compiler.cc:369] ptxas warning : Registers are spilled to local memory in function 'triton_gemm_dot_49', 272 bytes spill stores, 280 bytes spill loads\n",
      "\n",
      "I0000 00:00:1721351456.788583  198634 asm_compiler.cc:369] ptxas warning : Registers are spilled to local memory in function 'triton_gemm_dot_8', 16 bytes spill stores, 16 bytes spill loads\n",
      "\n",
      "I0000 00:00:1721351457.358810  198631 asm_compiler.cc:369] ptxas warning : Registers are spilled to local memory in function 'triton_gemm_dot_65', 336 bytes spill stores, 324 bytes spill loads\n",
      "\n",
      "I0000 00:00:1721351457.509681  198635 asm_compiler.cc:369] ptxas warning : Registers are spilled to local memory in function 'triton_gemm_dot_65', 176 bytes spill stores, 176 bytes spill loads\n",
      "\n",
      "I0000 00:00:1721351457.717764  198633 asm_compiler.cc:369] ptxas warning : Registers are spilled to local memory in function 'triton_gemm_dot_20', 16 bytes spill stores, 16 bytes spill loads\n",
      "\n",
      "I0000 00:00:1721351459.567177  198636 asm_compiler.cc:369] ptxas warning : Registers are spilled to local memory in function 'triton_gemm_dot_69', 336 bytes spill stores, 324 bytes spill loads\n",
      "\n",
      "I0000 00:00:1721351460.174798  198626 asm_compiler.cc:369] ptxas warning : Registers are spilled to local memory in function 'triton_gemm_dot_69', 176 bytes spill stores, 176 bytes spill loads\n",
      "\n",
      "I0000 00:00:1721351460.367303  198637 asm_compiler.cc:369] ptxas warning : Registers are spilled to local memory in function 'triton_gemm_dot_69', 1756 bytes spill stores, 1744 bytes spill loads\n",
      "\n",
      "I0000 00:00:1721351460.911784  198631 asm_compiler.cc:369] ptxas warning : Registers are spilled to local memory in function 'triton_gemm_dot_65', 1756 bytes spill stores, 1744 bytes spill loads\n",
      "\n"
     ]
    },
    {
     "name": "stdout",
     "output_type": "stream",
     "text": [
      "\u001b[1m   8/3972\u001b[0m \u001b[37m━━━━━━━━━━━━━━━━━━━━\u001b[0m \u001b[1m1:00\u001b[0m 15ms/step - accuracy: 0.0667 - loss: 2.3279      "
     ]
    },
    {
     "name": "stderr",
     "output_type": "stream",
     "text": [
      "I0000 00:00:1721351495.117388  198587 device_compiler.h:188] Compiled cluster using XLA!  This line is logged at most once for the lifetime of the process.\n"
     ]
    },
    {
     "name": "stdout",
     "output_type": "stream",
     "text": [
      "\u001b[1m3970/3972\u001b[0m \u001b[32m━━━━━━━━━━━━━━━━━━━\u001b[0m\u001b[37m━\u001b[0m \u001b[1m0s\u001b[0m 13ms/step - accuracy: 0.5241 - loss: 1.1313"
     ]
    },
    {
     "name": "stderr",
     "output_type": "stream",
     "text": [
      "I0000 00:00:1721351563.345047  199162 asm_compiler.cc:369] ptxas warning : Registers are spilled to local memory in function 'triton_gemm_dot_63', 24 bytes spill stores, 24 bytes spill loads\n",
      "\n",
      "I0000 00:00:1721351565.199343  199165 asm_compiler.cc:369] ptxas warning : Registers are spilled to local memory in function 'triton_gemm_dot_63', 504 bytes spill stores, 500 bytes spill loads\n",
      "\n",
      "I0000 00:00:1721351566.176198  199166 asm_compiler.cc:369] ptxas warning : Registers are spilled to local memory in function 'triton_gemm_dot_8', 16 bytes spill stores, 16 bytes spill loads\n",
      "\n",
      "I0000 00:00:1721351566.628372  199160 asm_compiler.cc:369] ptxas warning : Registers are spilled to local memory in function 'triton_gemm_dot_65', 24 bytes spill stores, 24 bytes spill loads\n",
      "\n",
      "I0000 00:00:1721351567.213165  199165 asm_compiler.cc:369] ptxas warning : Registers are spilled to local memory in function 'triton_gemm_dot_65', 504 bytes spill stores, 500 bytes spill loads\n",
      "\n",
      "I0000 00:00:1721351567.224456  199157 asm_compiler.cc:369] ptxas warning : Registers are spilled to local memory in function 'triton_gemm_dot_69', 24 bytes spill stores, 24 bytes spill loads\n",
      "\n",
      "I0000 00:00:1721351569.903227  199167 asm_compiler.cc:369] ptxas warning : Registers are spilled to local memory in function 'triton_gemm_dot_20', 16 bytes spill stores, 16 bytes spill loads\n",
      "\n",
      "I0000 00:00:1721351570.027942  199165 asm_compiler.cc:369] ptxas warning : Registers are spilled to local memory in function 'triton_gemm_dot_69', 504 bytes spill stores, 500 bytes spill loads\n",
      "\n",
      "I0000 00:00:1721351570.679230  199164 asm_compiler.cc:369] ptxas warning : Registers are spilled to local memory in function 'triton_gemm_dot_26211', 4 bytes spill stores, 4 bytes spill loads\n",
      "\n"
     ]
    },
    {
     "name": "stdout",
     "output_type": "stream",
     "text": [
      "\u001b[1m3972/3972\u001b[0m \u001b[32m━━━━━━━━━━━━━━━━━━━━\u001b[0m\u001b[37m\u001b[0m \u001b[1m199s\u001b[0m 29ms/step - accuracy: 0.5242 - loss: 1.1310 - val_accuracy: 0.8895 - val_loss: 0.3494\n",
      "Epoch 2/100\n",
      "\u001b[1m3972/3972\u001b[0m \u001b[32m━━━━━━━━━━━━━━━━━━━━\u001b[0m\u001b[37m\u001b[0m \u001b[1m54s\u001b[0m 14ms/step - accuracy: 0.8976 - loss: 0.3110 - val_accuracy: 0.9335 - val_loss: 0.2171\n",
      "Epoch 3/100\n",
      "\u001b[1m3972/3972\u001b[0m \u001b[32m━━━━━━━━━━━━━━━━━━━━\u001b[0m\u001b[37m\u001b[0m \u001b[1m54s\u001b[0m 14ms/step - accuracy: 0.9239 - loss: 0.2357 - val_accuracy: 0.9621 - val_loss: 0.1358\n",
      "Epoch 4/100\n",
      "\u001b[1m3972/3972\u001b[0m \u001b[32m━━━━━━━━━━━━━━━━━━━━\u001b[0m\u001b[37m\u001b[0m \u001b[1m54s\u001b[0m 14ms/step - accuracy: 0.9403 - loss: 0.1863 - val_accuracy: 0.9523 - val_loss: 0.1733\n",
      "Epoch 5/100\n",
      "\u001b[1m3972/3972\u001b[0m \u001b[32m━━━━━━━━━━━━━━━━━━━━\u001b[0m\u001b[37m\u001b[0m \u001b[1m54s\u001b[0m 14ms/step - accuracy: 0.9468 - loss: 0.1709 - val_accuracy: 0.9549 - val_loss: 0.1489\n",
      "Epoch 6/100\n",
      "\u001b[1m3972/3972\u001b[0m \u001b[32m━━━━━━━━━━━━━━━━━━━━\u001b[0m\u001b[37m\u001b[0m \u001b[1m54s\u001b[0m 14ms/step - accuracy: 0.9539 - loss: 0.1485 - val_accuracy: 0.9746 - val_loss: 0.0817\n",
      "Epoch 7/100\n",
      "\u001b[1m3972/3972\u001b[0m \u001b[32m━━━━━━━━━━━━━━━━━━━━\u001b[0m\u001b[37m\u001b[0m \u001b[1m54s\u001b[0m 14ms/step - accuracy: 0.9584 - loss: 0.1349 - val_accuracy: 0.9736 - val_loss: 0.0816\n",
      "Epoch 8/100\n",
      "\u001b[1m3972/3972\u001b[0m \u001b[32m━━━━━━━━━━━━━━━━━━━━\u001b[0m\u001b[37m\u001b[0m \u001b[1m55s\u001b[0m 14ms/step - accuracy: 0.9604 - loss: 0.1264 - val_accuracy: 0.9244 - val_loss: 0.2534\n",
      "Epoch 9/100\n",
      "\u001b[1m3972/3972\u001b[0m \u001b[32m━━━━━━━━━━━━━━━━━━━━\u001b[0m\u001b[37m\u001b[0m \u001b[1m55s\u001b[0m 14ms/step - accuracy: 0.9640 - loss: 0.1124 - val_accuracy: 0.9360 - val_loss: 0.1939\n",
      "Epoch 10/100\n",
      "\u001b[1m3972/3972\u001b[0m \u001b[32m━━━━━━━━━━━━━━━━━━━━\u001b[0m\u001b[37m\u001b[0m \u001b[1m55s\u001b[0m 14ms/step - accuracy: 0.9659 - loss: 0.1120 - val_accuracy: 0.9362 - val_loss: 0.1822\n",
      "Epoch 11/100\n",
      "\u001b[1m3972/3972\u001b[0m \u001b[32m━━━━━━━━━━━━━━━━━━━━\u001b[0m\u001b[37m\u001b[0m \u001b[1m55s\u001b[0m 14ms/step - accuracy: 0.9683 - loss: 0.1014 - val_accuracy: 0.9721 - val_loss: 0.0878\n",
      "Epoch 12/100\n",
      "\u001b[1m3972/3972\u001b[0m \u001b[32m━━━━━━━━━━━━━━━━━━━━\u001b[0m\u001b[37m\u001b[0m \u001b[1m55s\u001b[0m 14ms/step - accuracy: 0.9719 - loss: 0.0884 - val_accuracy: 0.9699 - val_loss: 0.0925\n"
     ]
    }
   ],
   "source": [
    "history = MobileHART.fit(X_train, y_train, epochs=100, batch_size=10, validation_data=(X_test, y_test), callbacks=[early_stopping])"
   ]
  },
  {
   "cell_type": "code",
   "execution_count": 11,
   "id": "098f444e",
   "metadata": {},
   "outputs": [
    {
     "name": "stderr",
     "output_type": "stream",
     "text": [
      "I0000 00:00:1721352381.094130  199993 asm_compiler.cc:369] ptxas warning : Registers are spilled to local memory in function 'triton_gemm_dot_20', 16 bytes spill stores, 16 bytes spill loads\n",
      "\n",
      "I0000 00:00:1721352381.977934  199997 asm_compiler.cc:369] ptxas warning : Registers are spilled to local memory in function 'triton_gemm_dot_49', 120 bytes spill stores, 128 bytes spill loads\n",
      "\n",
      "I0000 00:00:1721352385.212042  199991 asm_compiler.cc:369] ptxas warning : Registers are spilled to local memory in function 'triton_gemm_dot_8', 16 bytes spill stores, 16 bytes spill loads\n",
      "\n",
      "I0000 00:00:1721352385.469546  199988 asm_compiler.cc:369] ptxas warning : Registers are spilled to local memory in function 'triton_gemm_dot_91', 120 bytes spill stores, 128 bytes spill loads\n",
      "\n"
     ]
    },
    {
     "name": "stdout",
     "output_type": "stream",
     "text": [
      "\u001b[1m311/311\u001b[0m \u001b[32m━━━━━━━━━━━━━━━━━━━━\u001b[0m\u001b[37m\u001b[0m \u001b[1m14s\u001b[0m 12ms/step - accuracy: 0.9739 - loss: 0.0833\n",
      "Test Loss: 0.08163713663816452, Test Accuracy: 0.973615288734436\n"
     ]
    }
   ],
   "source": [
    "performance = MobileHART.evaluate(X_test, y_test)\n",
    "print(f\"Test Loss: {performance[0]}, Test Accuracy: {performance[1]}\")"
   ]
  },
  {
   "cell_type": "code",
   "execution_count": 12,
   "id": "dcb9a9d1",
   "metadata": {
    "scrolled": false
   },
   "outputs": [
    {
     "name": "stdout",
     "output_type": "stream",
     "text": [
      "\u001b[1m311/311\u001b[0m \u001b[32m━━━━━━━━━━━━━━━━━━━━\u001b[0m\u001b[37m\u001b[0m \u001b[1m9s\u001b[0m 16ms/step\n",
      "              precision    recall  f1-score   support\n",
      "\n",
      "     Class 0       1.00      1.00      1.00       980\n",
      "     Class 1       1.00      1.00      1.00       945\n",
      "     Class 2       1.00      1.00      1.00      1012\n",
      "     Class 3       0.99      1.00      1.00       985\n",
      "     Class 4       1.00      0.99      0.99       989\n",
      "     Class 5       0.96      0.97      0.96       987\n",
      "     Class 6       0.89      0.94      0.92      1022\n",
      "     Class 7       0.98      0.90      0.94       990\n",
      "     Class 8       0.99      0.95      0.97      1002\n",
      "     Class 9       0.94      0.99      0.96      1018\n",
      "\n",
      "    accuracy                           0.97      9930\n",
      "   macro avg       0.97      0.97      0.97      9930\n",
      "weighted avg       0.97      0.97      0.97      9930\n",
      "\n"
     ]
    }
   ],
   "source": [
    "y_pred_prob = MobileHART.predict(X_test)\n",
    "y_pred = np.argmax(y_pred_prob, axis=1)\n",
    "\n",
    "report = classification_report(y_test, y_pred, target_names=[f\"Class {i}\" for i in range(activityCount)])\n",
    "\n",
    "print(report)"
   ]
  },
  {
   "cell_type": "markdown",
   "id": "fd574a0b",
   "metadata": {},
   "source": [
    "  # Testing the trained model"
   ]
  },
  {
   "cell_type": "code",
   "execution_count": 13,
   "id": "54ba79e1",
   "metadata": {
    "scrolled": false
   },
   "outputs": [
    {
     "name": "stdout",
     "output_type": "stream",
     "text": [
      "\u001b[1m1543/1552\u001b[0m \u001b[32m━━━━━━━━━━━━━━━━━━━\u001b[0m\u001b[37m━\u001b[0m \u001b[1m0s\u001b[0m 4ms/step - accuracy: 0.1186 - loss: 164310.1406"
     ]
    },
    {
     "name": "stderr",
     "output_type": "stream",
     "text": [
      "I0000 00:00:1721352548.815953  200226 asm_compiler.cc:369] ptxas warning : Registers are spilled to local memory in function 'triton_gemm_dot_8', 16 bytes spill stores, 16 bytes spill loads\n",
      "\n",
      "I0000 00:00:1721352549.746662  200232 asm_compiler.cc:369] ptxas warning : Registers are spilled to local memory in function 'triton_gemm_dot_20', 16 bytes spill stores, 16 bytes spill loads\n",
      "\n",
      "I0000 00:00:1721352551.118471  200234 asm_compiler.cc:369] ptxas warning : Registers are spilled to local memory in function 'triton_gemm_dot_91', 300 bytes spill stores, 184 bytes spill loads\n",
      "\n",
      "I0000 00:00:1721352552.014214  200224 asm_compiler.cc:369] ptxas warning : Registers are spilled to local memory in function 'triton_gemm_dot_91', 272 bytes spill stores, 280 bytes spill loads\n",
      "\n"
     ]
    },
    {
     "name": "stdout",
     "output_type": "stream",
     "text": [
      "\u001b[1m1552/1552\u001b[0m \u001b[32m━━━━━━━━━━━━━━━━━━━━\u001b[0m\u001b[37m\u001b[0m \u001b[1m15s\u001b[0m 9ms/step - accuracy: 0.1185 - loss: 164711.5312\n",
      "Test Loss: 226776.5625, Test Accuracy: 0.10866937786340714\n"
     ]
    }
   ],
   "source": [
    "import pandas as pd\n",
    "import numpy as np\n",
    "\n",
    "test_columns = ['Accel X (g)', 'Accel Y (g)', 'Accel Z (g)',\n",
    "           'Gyro X (°/s)', 'Gyro Y (°/s)', 'Gyro Z (°/s)', 'Activity_Label']\n",
    "\n",
    "test_df = pd.read_csv(\"Final_Resampled_HAR_And_Inertia.csv\", header=0, names=test_columns)\n",
    "\n",
    "test_labels = pd.factorize(test_df['Activity_Label'])[0]\n",
    "\n",
    "test_feature_columns = test_df.columns[:-1]\n",
    "test_data = test_df[test_feature_columns].values\n",
    "\n",
    "test_reshaped_data = create_overlapping_windows(test_data, window_size, step_size, num_features)\n",
    "\n",
    "test_window_labels = assign_labels_to_windows(test_labels, window_size, step_size)\n",
    "\n",
    "test_performance = MobileHART.evaluate(test_reshaped_data, test_window_labels)\n",
    "print(f\"Test Loss: {test_performance[0]}, Test Accuracy: {test_performance[1]}\")"
   ]
  },
  {
   "cell_type": "code",
   "execution_count": 14,
   "id": "e49ca214",
   "metadata": {
    "scrolled": false
   },
   "outputs": [
    {
     "name": "stdout",
     "output_type": "stream",
     "text": [
      "\u001b[1m1552/1552\u001b[0m \u001b[32m━━━━━━━━━━━━━━━━━━━━\u001b[0m\u001b[37m\u001b[0m \u001b[1m9s\u001b[0m 5ms/step\n",
      "              precision    recall  f1-score   support\n",
      "\n",
      "           0       0.00      0.00      0.00      4964\n",
      "           1       0.00      0.00      0.00      4965\n",
      "           2       0.00      0.00      0.00      4965\n",
      "           3       0.00      0.00      0.00      4964\n",
      "           4       0.00      0.00      0.00      4965\n",
      "           5       0.00      0.00      0.00      4965\n",
      "           6       0.00      0.00      0.00      4964\n",
      "           7       0.00      0.00      0.00      4965\n",
      "           8       0.10      0.98      0.19      4964\n",
      "           9       0.36      0.11      0.17      4965\n",
      "\n",
      "    accuracy                           0.11     49646\n",
      "   macro avg       0.05      0.11      0.04     49646\n",
      "weighted avg       0.05      0.11      0.04     49646\n",
      "\n"
     ]
    },
    {
     "name": "stderr",
     "output_type": "stream",
     "text": [
      "/home/jupyter-dpemmasa/.local/lib/python3.9/site-packages/sklearn/metrics/_classification.py:1509: UndefinedMetricWarning: Precision is ill-defined and being set to 0.0 in labels with no predicted samples. Use `zero_division` parameter to control this behavior.\n",
      "  _warn_prf(average, modifier, f\"{metric.capitalize()} is\", len(result))\n",
      "/home/jupyter-dpemmasa/.local/lib/python3.9/site-packages/sklearn/metrics/_classification.py:1509: UndefinedMetricWarning: Precision is ill-defined and being set to 0.0 in labels with no predicted samples. Use `zero_division` parameter to control this behavior.\n",
      "  _warn_prf(average, modifier, f\"{metric.capitalize()} is\", len(result))\n",
      "/home/jupyter-dpemmasa/.local/lib/python3.9/site-packages/sklearn/metrics/_classification.py:1509: UndefinedMetricWarning: Precision is ill-defined and being set to 0.0 in labels with no predicted samples. Use `zero_division` parameter to control this behavior.\n",
      "  _warn_prf(average, modifier, f\"{metric.capitalize()} is\", len(result))\n"
     ]
    }
   ],
   "source": [
    "test_predictions = MobileHART.predict(test_reshaped_data)\n",
    "test_predictions = np.argmax(test_predictions, axis=1)\n",
    "\n",
    "print(classification_report(test_window_labels, test_predictions))"
   ]
  },
  {
   "cell_type": "code",
   "execution_count": 15,
   "id": "c100d5ca",
   "metadata": {},
   "outputs": [
    {
     "name": "stdout",
     "output_type": "stream",
     "text": [
      "                   Label  Count  Total     Ratio\n",
      "1   actual_1_predicted_8   4964   4965  0.999799\n",
      "2   actual_2_predicted_8   4964   4965  0.999799\n",
      "0   actual_0_predicted_8   4963   4964  0.999799\n",
      "4   actual_4_predicted_8   4963   4965  0.999597\n",
      "3   actual_3_predicted_8   4962   4964  0.999597\n",
      "15  actual_8_predicted_8   4844   4964  0.975826\n",
      "5   actual_5_predicted_8   4644   4965  0.935347\n",
      "11  actual_7_predicted_8   4471   4965  0.900504\n",
      "8   actual_6_predicted_8   4402   4964  0.886785\n",
      "17  actual_9_predicted_8   4195   4965  0.844914\n",
      "18  actual_9_predicted_9    551   4965  0.110977\n",
      "9   actual_6_predicted_9    420   4964  0.084609\n",
      "12  actual_7_predicted_9    336   4965  0.067674\n",
      "19  actual_9_predicted_3    219   4965  0.044109\n",
      "7   actual_5_predicted_3    194   4965  0.039074\n",
      "13  actual_7_predicted_3    158   4965  0.031823\n",
      "10  actual_6_predicted_3    142   4964  0.028606\n",
      "6   actual_5_predicted_9    127   4965  0.025579\n",
      "14  actual_8_predicted_9    110   4964  0.022160\n",
      "16  actual_8_predicted_3     10   4964  0.002015\n",
      "23  actual_3_predicted_9      2   4964  0.000403\n",
      "24  actual_4_predicted_9      2   4965  0.000403\n",
      "20  actual_0_predicted_9      1   4964  0.000201\n",
      "21  actual_1_predicted_9      1   4965  0.000201\n",
      "22  actual_2_predicted_9      1   4965  0.000201\n"
     ]
    }
   ],
   "source": [
    "label_counts = defaultdict(int)\n",
    "total_counts = defaultdict(int)\n",
    "\n",
    "for i in range(len(test_window_labels)):\n",
    "    actual_label = test_window_labels[i]\n",
    "    predicted_label = test_predictions[i]\n",
    "    label_counts[f\"actual_{actual_label}_predicted_{predicted_label}\"] += 1\n",
    "    total_counts[f\"actual{actual_label}\"] += 1\n",
    "\n",
    "data = []\n",
    "for label, count in label_counts.items():\n",
    "    actual_label = label.split(\"_\")[1]\n",
    "    total = total_counts[f\"actual{actual_label}\"]\n",
    "    ratio = count / total if total > 0 else 0\n",
    "    data.append([label, count, total, ratio])\n",
    "\n",
    "results_df = pd.DataFrame(data, columns=[\"Label\", \"Count\", \"Total\", \"Ratio\"])\n",
    "results_df.sort_values(by=\"Ratio\", ascending=False, inplace=True)\n",
    "print(results_df)"
   ]
  },
  {
   "cell_type": "markdown",
   "id": "40406398",
   "metadata": {},
   "source": [
    "# Mobile HART Trained on HAR and Inertia dataset finetuning on 30% of the Data"
   ]
  },
  {
   "cell_type": "code",
   "execution_count": 16,
   "id": "c8e5e8bf",
   "metadata": {},
   "outputs": [],
   "source": [
    "columns = ['Accel X (g)', 'Accel Y (g)', 'Accel Z (g)',\n",
    "           'Gyro X (°/s)', 'Gyro Y (°/s)', 'Gyro Z (°/s)', 'Activity_Label']\n",
    "\n",
    "df1 = pd.read_csv(\"Final_Resampled_HAR_And_Inertia.csv\", header=0, names=columns)\n",
    "\n",
    "labels = pd.factorize(df1['Activity_Label'])[0]\n",
    "\n",
    "feature_columns = df1.columns[:-1] \n",
    "data = df1[feature_columns].values"
   ]
  },
  {
   "cell_type": "code",
   "execution_count": 17,
   "id": "11285082",
   "metadata": {},
   "outputs": [],
   "source": [
    "window_size = 128 \n",
    "step_size = 64    \n",
    "num_features = 6 \n",
    "\n",
    "reshaped_data = create_overlapping_windows(data, window_size, step_size, num_features)\n",
    "\n",
    "window_labels = assign_labels_to_windows(labels, window_size, step_size)\n",
    "\n",
    "input_shape = (128, 6)\n",
    "activityCount = len(np.unique(labels))"
   ]
  },
  {
   "cell_type": "code",
   "execution_count": 18,
   "id": "a946c548",
   "metadata": {},
   "outputs": [],
   "source": [
    "MHART = model.mobileHART_XS(input_shape, activityCount)\n",
    "\n",
    "X_train, X_test, y_train, y_test = train_test_split(reshaped_data, window_labels, test_size=0.2, random_state=42)\n",
    "\n",
    "MHART.compile(optimizer='adam', loss='sparse_categorical_crossentropy', metrics=['accuracy'])\n",
    "\n",
    "early_stopping = keras.callbacks.EarlyStopping(\n",
    "    monitor='val_loss',\n",
    "    patience=5,\n",
    "    restore_best_weights=True\n",
    ")"
   ]
  },
  {
   "cell_type": "code",
   "execution_count": 19,
   "id": "801d9917",
   "metadata": {},
   "outputs": [
    {
     "name": "stdout",
     "output_type": "stream",
     "text": [
      "Epoch 1/200\n"
     ]
    },
    {
     "name": "stderr",
     "output_type": "stream",
     "text": [
      "I0000 00:00:1721353057.954028  200435 asm_compiler.cc:369] ptxas warning : Registers are spilled to local memory in function 'triton_gemm_dot_8', 16 bytes spill stores, 16 bytes spill loads\n",
      "\n",
      "I0000 00:00:1721353058.076380  200433 asm_compiler.cc:369] ptxas warning : Registers are spilled to local memory in function 'triton_gemm_dot_32195', 436 bytes spill stores, 436 bytes spill loads\n",
      "\n",
      "I0000 00:00:1721353059.103706  200434 asm_compiler.cc:369] ptxas warning : Registers are spilled to local memory in function 'triton_gemm_dot_32195', 440 bytes spill stores, 440 bytes spill loads\n",
      "\n",
      "I0000 00:00:1721353064.584312  200425 asm_compiler.cc:369] ptxas warning : Registers are spilled to local memory in function 'triton_gemm_dot_32181', 84 bytes spill stores, 84 bytes spill loads\n",
      "\n",
      "I0000 00:00:1721353064.939872  200433 asm_compiler.cc:369] ptxas warning : Registers are spilled to local memory in function 'triton_gemm_dot_32181', 4 bytes spill stores, 4 bytes spill loads\n",
      "\n",
      "I0000 00:00:1721353064.967725  200430 asm_compiler.cc:369] ptxas warning : Registers are spilled to local memory in function 'triton_gemm_dot_20', 16 bytes spill stores, 16 bytes spill loads\n",
      "\n"
     ]
    },
    {
     "name": "stdout",
     "output_type": "stream",
     "text": [
      "\u001b[1m  1/621\u001b[0m \u001b[37m━━━━━━━━━━━━━━━━━━━━\u001b[0m \u001b[1m13:50:51\u001b[0m 80s/step - accuracy: 0.0781 - loss: 2.3020"
     ]
    },
    {
     "name": "stderr",
     "output_type": "stream",
     "text": [
      "I0000 00:00:1721353097.117896  198587 asm_compiler.cc:369] ptxas warning : Registers are spilled to local memory in function 'input_slice_fusion_3', 4 bytes spill stores, 4 bytes spill loads\n",
      "\n"
     ]
    },
    {
     "name": "stdout",
     "output_type": "stream",
     "text": [
      "\u001b[1m619/621\u001b[0m \u001b[32m━━━━━━━━━━━━━━━━━━━\u001b[0m\u001b[37m━\u001b[0m \u001b[1m0s\u001b[0m 16ms/step - accuracy: 0.6722 - loss: 0.7622"
     ]
    },
    {
     "name": "stderr",
     "output_type": "stream",
     "text": [
      "I0000 00:00:1721353124.187476  200631 asm_compiler.cc:369] ptxas warning : Registers are spilled to local memory in function 'triton_gemm_dot_32195', 432 bytes spill stores, 432 bytes spill loads\n",
      "\n",
      "I0000 00:00:1721353124.256066  200634 asm_compiler.cc:369] ptxas warning : Registers are spilled to local memory in function 'triton_gemm_dot_32195', 396 bytes spill stores, 396 bytes spill loads\n",
      "\n",
      "I0000 00:00:1721353124.415139  200640 asm_compiler.cc:369] ptxas warning : Registers are spilled to local memory in function 'triton_gemm_dot_32195', 36 bytes spill stores, 24 bytes spill loads\n",
      "\n",
      "I0000 00:00:1721353126.905367  200637 asm_compiler.cc:369] ptxas warning : Registers are spilled to local memory in function 'triton_gemm_dot_8', 16 bytes spill stores, 16 bytes spill loads\n",
      "\n",
      "I0000 00:00:1721353127.711774  200638 asm_compiler.cc:369] ptxas warning : Registers are spilled to local memory in function 'triton_gemm_dot_20', 16 bytes spill stores, 16 bytes spill loads\n",
      "\n",
      "I0000 00:00:1721353129.483724  200637 asm_compiler.cc:369] ptxas warning : Registers are spilled to local memory in function 'triton_gemm_dot_26211', 148 bytes spill stores, 148 bytes spill loads\n",
      "\n",
      "I0000 00:00:1721353131.224440  200630 asm_compiler.cc:369] ptxas warning : Registers are spilled to local memory in function 'triton_gemm_dot_32181', 96 bytes spill stores, 96 bytes spill loads\n",
      "\n"
     ]
    },
    {
     "name": "stdout",
     "output_type": "stream",
     "text": [
      "\u001b[1m621/621\u001b[0m \u001b[32m━━━━━━━━━━━━━━━━━━━━\u001b[0m\u001b[37m\u001b[0m \u001b[1m156s\u001b[0m 121ms/step - accuracy: 0.6729 - loss: 0.7607 - val_accuracy: 0.6823 - val_loss: 1.0688\n",
      "Epoch 2/200\n",
      "\u001b[1m621/621\u001b[0m \u001b[32m━━━━━━━━━━━━━━━━━━━━\u001b[0m\u001b[37m\u001b[0m \u001b[1m11s\u001b[0m 17ms/step - accuracy: 0.9469 - loss: 0.1628 - val_accuracy: 0.9523 - val_loss: 0.1567\n",
      "Epoch 3/200\n",
      "\u001b[1m621/621\u001b[0m \u001b[32m━━━━━━━━━━━━━━━━━━━━\u001b[0m\u001b[37m\u001b[0m \u001b[1m11s\u001b[0m 17ms/step - accuracy: 0.9657 - loss: 0.1147 - val_accuracy: 0.8990 - val_loss: 0.2901\n",
      "Epoch 4/200\n",
      "\u001b[1m621/621\u001b[0m \u001b[32m━━━━━━━━━━━━━━━━━━━━\u001b[0m\u001b[37m\u001b[0m \u001b[1m11s\u001b[0m 17ms/step - accuracy: 0.9660 - loss: 0.1147 - val_accuracy: 0.9769 - val_loss: 0.0775\n",
      "Epoch 5/200\n",
      "\u001b[1m621/621\u001b[0m \u001b[32m━━━━━━━━━━━━━━━━━━━━\u001b[0m\u001b[37m\u001b[0m \u001b[1m11s\u001b[0m 17ms/step - accuracy: 0.9758 - loss: 0.0817 - val_accuracy: 0.9736 - val_loss: 0.0826\n",
      "Epoch 6/200\n",
      "\u001b[1m621/621\u001b[0m \u001b[32m━━━━━━━━━━━━━━━━━━━━\u001b[0m\u001b[37m\u001b[0m \u001b[1m11s\u001b[0m 17ms/step - accuracy: 0.9764 - loss: 0.0854 - val_accuracy: 0.9756 - val_loss: 0.0802\n",
      "Epoch 7/200\n",
      "\u001b[1m621/621\u001b[0m \u001b[32m━━━━━━━━━━━━━━━━━━━━\u001b[0m\u001b[37m\u001b[0m \u001b[1m11s\u001b[0m 17ms/step - accuracy: 0.9739 - loss: 0.0950 - val_accuracy: 0.9770 - val_loss: 0.0691\n",
      "Epoch 8/200\n",
      "\u001b[1m621/621\u001b[0m \u001b[32m━━━━━━━━━━━━━━━━━━━━\u001b[0m\u001b[37m\u001b[0m \u001b[1m11s\u001b[0m 17ms/step - accuracy: 0.9785 - loss: 0.0728 - val_accuracy: 0.9394 - val_loss: 0.1935\n",
      "Epoch 9/200\n",
      "\u001b[1m621/621\u001b[0m \u001b[32m━━━━━━━━━━━━━━━━━━━━\u001b[0m\u001b[37m\u001b[0m \u001b[1m11s\u001b[0m 17ms/step - accuracy: 0.9802 - loss: 0.0668 - val_accuracy: 0.9815 - val_loss: 0.0643\n",
      "Epoch 10/200\n",
      "\u001b[1m621/621\u001b[0m \u001b[32m━━━━━━━━━━━━━━━━━━━━\u001b[0m\u001b[37m\u001b[0m \u001b[1m11s\u001b[0m 17ms/step - accuracy: 0.9796 - loss: 0.0764 - val_accuracy: 0.9733 - val_loss: 0.1130\n",
      "Epoch 11/200\n",
      "\u001b[1m621/621\u001b[0m \u001b[32m━━━━━━━━━━━━━━━━━━━━\u001b[0m\u001b[37m\u001b[0m \u001b[1m11s\u001b[0m 17ms/step - accuracy: 0.9814 - loss: 0.0748 - val_accuracy: 0.8755 - val_loss: 0.6176\n",
      "Epoch 12/200\n",
      "\u001b[1m621/621\u001b[0m \u001b[32m━━━━━━━━━━━━━━━━━━━━\u001b[0m\u001b[37m\u001b[0m \u001b[1m11s\u001b[0m 17ms/step - accuracy: 0.9840 - loss: 0.0542 - val_accuracy: 0.9652 - val_loss: 0.1272\n",
      "Epoch 13/200\n",
      "\u001b[1m621/621\u001b[0m \u001b[32m━━━━━━━━━━━━━━━━━━━━\u001b[0m\u001b[37m\u001b[0m \u001b[1m11s\u001b[0m 17ms/step - accuracy: 0.9834 - loss: 0.0586 - val_accuracy: 0.9795 - val_loss: 0.0789\n",
      "Epoch 14/200\n",
      "\u001b[1m621/621\u001b[0m \u001b[32m━━━━━━━━━━━━━━━━━━━━\u001b[0m\u001b[37m\u001b[0m \u001b[1m11s\u001b[0m 17ms/step - accuracy: 0.9867 - loss: 0.0491 - val_accuracy: 0.7811 - val_loss: 1.4158\n"
     ]
    }
   ],
   "source": [
    "history = MHART.fit(X_train, y_train, epochs=200, batch_size=64, validation_data=(X_test, y_test), callbacks=[early_stopping])"
   ]
  },
  {
   "cell_type": "code",
   "execution_count": 20,
   "id": "20710fea",
   "metadata": {
    "scrolled": false
   },
   "outputs": [
    {
     "name": "stdout",
     "output_type": "stream",
     "text": [
      "\u001b[1m311/311\u001b[0m \u001b[32m━━━━━━━━━━━━━━━━━━━━\u001b[0m\u001b[37m\u001b[0m \u001b[1m3s\u001b[0m 4ms/step - accuracy: 0.9815 - loss: 0.0632\n",
      "Test Loss: 0.06462661921977997, Test Accuracy: 0.9815710186958313\n"
     ]
    }
   ],
   "source": [
    "performance = MHART.evaluate(X_test, y_test)\n",
    "print(f\"Test Loss: {performance[0]}, Test Accuracy: {performance[1]}\")"
   ]
  },
  {
   "cell_type": "code",
   "execution_count": 21,
   "id": "fe5326d6",
   "metadata": {
    "scrolled": false
   },
   "outputs": [
    {
     "name": "stdout",
     "output_type": "stream",
     "text": [
      "\u001b[1m1552/1552\u001b[0m \u001b[32m━━━━━━━━━━━━━━━━━━━━\u001b[0m\u001b[37m\u001b[0m \u001b[1m12s\u001b[0m 6ms/step\n",
      "              precision    recall  f1-score   support\n",
      "\n",
      "           0       1.00      1.00      1.00      4964\n",
      "           1       1.00      1.00      1.00      4965\n",
      "           2       1.00      1.00      1.00      4965\n",
      "           3       1.00      1.00      1.00      4964\n",
      "           4       1.00      0.99      1.00      4965\n",
      "           5       0.92      0.99      0.95      4965\n",
      "           6       0.99      0.94      0.96      4964\n",
      "           7       0.99      0.98      0.98      4965\n",
      "           8       1.00      0.93      0.96      4964\n",
      "           9       0.94      1.00      0.97      4965\n",
      "\n",
      "    accuracy                           0.98     49646\n",
      "   macro avg       0.98      0.98      0.98     49646\n",
      "weighted avg       0.98      0.98      0.98     49646\n",
      "\n"
     ]
    }
   ],
   "source": [
    "test_predictions = MHART.predict(test_reshaped_data)\n",
    "test_predictions = np.argmax(test_predictions, axis=1)\n",
    "\n",
    "print(classification_report(test_window_labels, test_predictions))"
   ]
  },
  {
   "cell_type": "code",
   "execution_count": 22,
   "id": "e166dafe",
   "metadata": {},
   "outputs": [],
   "source": [
    "columns = ['Accel X (g)', 'Accel Y (g)', 'Accel Z (g)',\n",
    "           'Gyro X (°/s)', 'Gyro Y (°/s)', 'Gyro Z (°/s)', 'Activity_Label']\n",
    "df = pd.read_csv(\"Final_Resampled_HAR_And_Inertia.csv\", header=0, names=columns)\n",
    "\n",
    "labels = pd.factorize(df['Activity_Label'])[0]\n",
    "\n",
    "feature_columns = df.columns[:-1]  \n",
    "data = df[feature_columns].values"
   ]
  },
  {
   "cell_type": "code",
   "execution_count": 23,
   "id": "add4f487",
   "metadata": {},
   "outputs": [
    {
     "name": "stdout",
     "output_type": "stream",
     "text": [
      "Epoch 1/200\n",
      "\u001b[1m  4/621\u001b[0m \u001b[37m━━━━━━━━━━━━━━━━━━━━\u001b[0m \u001b[1m11s\u001b[0m 19ms/step - accuracy: 0.1514 - loss: 2.1984    "
     ]
    },
    {
     "name": "stderr",
     "output_type": "stream",
     "text": [
      "I0000 00:00:1721353550.184777  198588 asm_compiler.cc:369] ptxas warning : Registers are spilled to local memory in function 'input_slice_fusion_3', 4 bytes spill stores, 4 bytes spill loads\n",
      "\n"
     ]
    },
    {
     "name": "stdout",
     "output_type": "stream",
     "text": [
      "\u001b[1m621/621\u001b[0m \u001b[32m━━━━━━━━━━━━━━━━━━━━\u001b[0m\u001b[37m\u001b[0m \u001b[1m130s\u001b[0m 99ms/step - accuracy: 0.7086 - loss: 0.6976 - val_accuracy: 0.8030 - val_loss: 0.6636\n",
      "Epoch 2/200\n",
      "\u001b[1m621/621\u001b[0m \u001b[32m━━━━━━━━━━━━━━━━━━━━\u001b[0m\u001b[37m\u001b[0m \u001b[1m11s\u001b[0m 18ms/step - accuracy: 0.9445 - loss: 0.1771 - val_accuracy: 0.9751 - val_loss: 0.0928\n",
      "Epoch 3/200\n",
      "\u001b[1m621/621\u001b[0m \u001b[32m━━━━━━━━━━━━━━━━━━━━\u001b[0m\u001b[37m\u001b[0m \u001b[1m11s\u001b[0m 17ms/step - accuracy: 0.9609 - loss: 0.1317 - val_accuracy: 0.9515 - val_loss: 0.1487\n",
      "Epoch 4/200\n",
      "\u001b[1m621/621\u001b[0m \u001b[32m━━━━━━━━━━━━━━━━━━━━\u001b[0m\u001b[37m\u001b[0m \u001b[1m11s\u001b[0m 18ms/step - accuracy: 0.9701 - loss: 0.0957 - val_accuracy: 0.9788 - val_loss: 0.0712\n",
      "Epoch 5/200\n",
      "\u001b[1m621/621\u001b[0m \u001b[32m━━━━━━━━━━━━━━━━━━━━\u001b[0m\u001b[37m\u001b[0m \u001b[1m11s\u001b[0m 18ms/step - accuracy: 0.9743 - loss: 0.0850 - val_accuracy: 0.9859 - val_loss: 0.0538\n",
      "Epoch 6/200\n",
      "\u001b[1m621/621\u001b[0m \u001b[32m━━━━━━━━━━━━━━━━━━━━\u001b[0m\u001b[37m\u001b[0m \u001b[1m11s\u001b[0m 17ms/step - accuracy: 0.9727 - loss: 0.0983 - val_accuracy: 0.8901 - val_loss: 0.4449\n",
      "Epoch 7/200\n",
      "\u001b[1m621/621\u001b[0m \u001b[32m━━━━━━━━━━━━━━━━━━━━\u001b[0m\u001b[37m\u001b[0m \u001b[1m11s\u001b[0m 17ms/step - accuracy: 0.9789 - loss: 0.0708 - val_accuracy: 0.9822 - val_loss: 0.0561\n",
      "Epoch 8/200\n",
      "\u001b[1m621/621\u001b[0m \u001b[32m━━━━━━━━━━━━━━━━━━━━\u001b[0m\u001b[37m\u001b[0m \u001b[1m11s\u001b[0m 17ms/step - accuracy: 0.9819 - loss: 0.0615 - val_accuracy: 0.9002 - val_loss: 0.6425\n",
      "Epoch 9/200\n",
      "\u001b[1m621/621\u001b[0m \u001b[32m━━━━━━━━━━━━━━━━━━━━\u001b[0m\u001b[37m\u001b[0m \u001b[1m11s\u001b[0m 17ms/step - accuracy: 0.9789 - loss: 0.0747 - val_accuracy: 0.9822 - val_loss: 0.0672\n",
      "Epoch 10/200\n",
      "\u001b[1m621/621\u001b[0m \u001b[32m━━━━━━━━━━━━━━━━━━━━\u001b[0m\u001b[37m\u001b[0m \u001b[1m11s\u001b[0m 18ms/step - accuracy: 0.9838 - loss: 0.0557 - val_accuracy: 0.9853 - val_loss: 0.0538\n",
      "Epoch 11/200\n",
      "\u001b[1m621/621\u001b[0m \u001b[32m━━━━━━━━━━━━━━━━━━━━\u001b[0m\u001b[37m\u001b[0m \u001b[1m11s\u001b[0m 17ms/step - accuracy: 0.9832 - loss: 0.0564 - val_accuracy: 0.9800 - val_loss: 0.0648\n",
      "Epoch 12/200\n",
      "\u001b[1m621/621\u001b[0m \u001b[32m━━━━━━━━━━━━━━━━━━━━\u001b[0m\u001b[37m\u001b[0m \u001b[1m11s\u001b[0m 17ms/step - accuracy: 0.9840 - loss: 0.0563 - val_accuracy: 0.9880 - val_loss: 0.0460\n",
      "Epoch 13/200\n",
      "\u001b[1m621/621\u001b[0m \u001b[32m━━━━━━━━━━━━━━━━━━━━\u001b[0m\u001b[37m\u001b[0m \u001b[1m11s\u001b[0m 17ms/step - accuracy: 0.9830 - loss: 0.0615 - val_accuracy: 0.9852 - val_loss: 0.0504\n",
      "Epoch 14/200\n",
      "\u001b[1m621/621\u001b[0m \u001b[32m━━━━━━━━━━━━━━━━━━━━\u001b[0m\u001b[37m\u001b[0m \u001b[1m11s\u001b[0m 17ms/step - accuracy: 0.9849 - loss: 0.0501 - val_accuracy: 0.9879 - val_loss: 0.0504\n",
      "Epoch 15/200\n",
      "\u001b[1m621/621\u001b[0m \u001b[32m━━━━━━━━━━━━━━━━━━━━\u001b[0m\u001b[37m\u001b[0m \u001b[1m11s\u001b[0m 18ms/step - accuracy: 0.9863 - loss: 0.0498 - val_accuracy: 0.9893 - val_loss: 0.0338\n",
      "Epoch 16/200\n",
      "\u001b[1m621/621\u001b[0m \u001b[32m━━━━━━━━━━━━━━━━━━━━\u001b[0m\u001b[37m\u001b[0m \u001b[1m11s\u001b[0m 17ms/step - accuracy: 0.9884 - loss: 0.0427 - val_accuracy: 0.9833 - val_loss: 0.0651\n",
      "Epoch 17/200\n",
      "\u001b[1m621/621\u001b[0m \u001b[32m━━━━━━━━━━━━━━━━━━━━\u001b[0m\u001b[37m\u001b[0m \u001b[1m11s\u001b[0m 17ms/step - accuracy: 0.9846 - loss: 0.0568 - val_accuracy: 0.9854 - val_loss: 0.0521\n",
      "Epoch 18/200\n",
      "\u001b[1m621/621\u001b[0m \u001b[32m━━━━━━━━━━━━━━━━━━━━\u001b[0m\u001b[37m\u001b[0m \u001b[1m11s\u001b[0m 17ms/step - accuracy: 0.9881 - loss: 0.0453 - val_accuracy: 0.9874 - val_loss: 0.0379\n",
      "Epoch 19/200\n",
      "\u001b[1m621/621\u001b[0m \u001b[32m━━━━━━━━━━━━━━━━━━━━\u001b[0m\u001b[37m\u001b[0m \u001b[1m11s\u001b[0m 17ms/step - accuracy: 0.9884 - loss: 0.0387 - val_accuracy: 0.9847 - val_loss: 0.0504\n",
      "Epoch 20/200\n",
      "\u001b[1m621/621\u001b[0m \u001b[32m━━━━━━━━━━━━━━━━━━━━\u001b[0m\u001b[37m\u001b[0m \u001b[1m11s\u001b[0m 17ms/step - accuracy: 0.9890 - loss: 0.0369 - val_accuracy: 0.9900 - val_loss: 0.0353\n"
     ]
    }
   ],
   "source": [
    "window_size = 128 \n",
    "step_size = 64    \n",
    "num_features = 6\n",
    "\n",
    "reshaped_data = create_overlapping_windows(data, window_size, step_size, num_features)\n",
    "\n",
    "window_labels = assign_labels_to_windows(labels, window_size, step_size)\n",
    "\n",
    "input_shape = (128, 6)\n",
    "activityCount = len(np.unique(labels))  \n",
    "\n",
    "MHART = model.mobileHART_XS(input_shape, activityCount)\n",
    "\n",
    "X_train, X_test, y_train, y_test = train_test_split(reshaped_data, window_labels, test_size=0.2, random_state=42)\n",
    "\n",
    "MHART.compile(optimizer='adam', loss='sparse_categorical_crossentropy', metrics=['accuracy'])\n",
    "\n",
    "early_stopping = keras.callbacks.EarlyStopping(\n",
    "    monitor='val_loss',\n",
    "    patience=5,\n",
    "    restore_best_weights=True\n",
    ")\n",
    "\n",
    "history = MHART.fit(X_train, y_train, epochs=200, batch_size=64, validation_data=(X_test, y_test), callbacks=[early_stopping])"
   ]
  },
  {
   "cell_type": "code",
   "execution_count": 24,
   "id": "bc7e0bf5",
   "metadata": {
    "scrolled": false
   },
   "outputs": [
    {
     "name": "stdout",
     "output_type": "stream",
     "text": [
      "\u001b[1m311/311\u001b[0m \u001b[32m━━━━━━━━━━━━━━━━━━━━\u001b[0m\u001b[37m\u001b[0m \u001b[1m3s\u001b[0m 4ms/step - accuracy: 0.9895 - loss: 0.0357\n",
      "Test Loss: 0.033871620893478394, Test Accuracy: 0.9891238808631897\n"
     ]
    }
   ],
   "source": [
    "performance = MHART.evaluate(X_test, y_test)\n",
    "print(f\"Test Loss: {performance[0]}, Test Accuracy: {performance[1]}\")"
   ]
  },
  {
   "cell_type": "code",
   "execution_count": 25,
   "id": "a3c8cd31",
   "metadata": {},
   "outputs": [],
   "source": [
    "columns = ['Accel X (g)', 'Accel Y (g)', 'Accel Z (g)',\n",
    "           'Gyro X (°/s)', 'Gyro Y (°/s)', 'Gyro Z (°/s)', 'Activity_Label']\n",
    "df = pd.read_csv(\"Final_Resampled_HAR_And_Inertia.csv\", header=0, names=columns)\n",
    "\n",
    "from sklearn.preprocessing import LabelEncoder\n",
    "\n",
    "LE = LabelEncoder()\n",
    "df['Activity_Label'] = LE.fit_transform(df['Activity_Label'])"
   ]
  },
  {
   "cell_type": "code",
   "execution_count": 26,
   "id": "dfe8ef7f",
   "metadata": {},
   "outputs": [
    {
     "name": "stdout",
     "output_type": "stream",
     "text": [
      "Epoch 1/200\n",
      "\u001b[1m187/187\u001b[0m \u001b[32m━━━━━━━━━━━━━━━━━━━━\u001b[0m\u001b[37m\u001b[0m \u001b[1m0s\u001b[0m 275ms/step - accuracy: 0.8749 - loss: 0.8382"
     ]
    },
    {
     "name": "stderr",
     "output_type": "stream",
     "text": [
      "I0000 00:00:1721354018.188111  202244 asm_compiler.cc:369] ptxas warning : Registers are spilled to local memory in function 'triton_gemm_dot_8', 16 bytes spill stores, 16 bytes spill loads\n",
      "\n",
      "I0000 00:00:1721354018.761224  202236 asm_compiler.cc:369] ptxas warning : Registers are spilled to local memory in function 'triton_gemm_dot_20', 16 bytes spill stores, 16 bytes spill loads\n",
      "\n",
      "I0000 00:00:1721354019.740998  202241 asm_compiler.cc:369] ptxas warning : Registers are spilled to local memory in function 'triton_gemm_dot_3266', 148 bytes spill stores, 148 bytes spill loads\n",
      "\n"
     ]
    },
    {
     "name": "stdout",
     "output_type": "stream",
     "text": [
      "\u001b[1m187/187\u001b[0m \u001b[32m━━━━━━━━━━━━━━━━━━━━\u001b[0m\u001b[37m\u001b[0m \u001b[1m59s\u001b[0m 320ms/step - accuracy: 0.8750 - loss: 0.8361 - val_accuracy: 0.8647 - val_loss: 0.5283\n",
      "Epoch 2/200\n",
      "\u001b[1m187/187\u001b[0m \u001b[32m━━━━━━━━━━━━━━━━━━━━\u001b[0m\u001b[37m\u001b[0m \u001b[1m3s\u001b[0m 18ms/step - accuracy: 0.9270 - loss: 0.2201 - val_accuracy: 0.9584 - val_loss: 0.1462\n",
      "Epoch 3/200\n",
      "\u001b[1m187/187\u001b[0m \u001b[32m━━━━━━━━━━━━━━━━━━━━\u001b[0m\u001b[37m\u001b[0m \u001b[1m3s\u001b[0m 17ms/step - accuracy: 0.9644 - loss: 0.1246 - val_accuracy: 0.9762 - val_loss: 0.0788\n",
      "Epoch 4/200\n",
      "\u001b[1m187/187\u001b[0m \u001b[32m━━━━━━━━━━━━━━━━━━━━\u001b[0m\u001b[37m\u001b[0m \u001b[1m3s\u001b[0m 17ms/step - accuracy: 0.9744 - loss: 0.0794 - val_accuracy: 0.9869 - val_loss: 0.0494\n",
      "Epoch 5/200\n",
      "\u001b[1m187/187\u001b[0m \u001b[32m━━━━━━━━━━━━━━━━━━━━\u001b[0m\u001b[37m\u001b[0m \u001b[1m3s\u001b[0m 17ms/step - accuracy: 0.9789 - loss: 0.0755 - val_accuracy: 0.9842 - val_loss: 0.0462\n"
     ]
    },
    {
     "data": {
      "text/plain": [
       "<keras.src.callbacks.history.History at 0x7fbd5b363be0>"
      ]
     },
     "execution_count": 26,
     "metadata": {},
     "output_type": "execute_result"
    }
   ],
   "source": [
    "features = df.columns[:-1]  \n",
    "labels_encoded = df['Activity_Label'].values\n",
    "\n",
    "data_filtered = df[features].values\n",
    "\n",
    "window_size = 128\n",
    "step_size = 64\n",
    "num_features = 6\n",
    "\n",
    "reshaped_data_filtered = create_overlapping_windows(data_filtered, window_size, step_size, num_features)\n",
    "\n",
    "window_labels_filtered = assign_labels_to_windows(labels_encoded, window_size, step_size)\n",
    "\n",
    "X_fine_tune, X_test_new, y_fine_tune, y_test_new = train_test_split(reshaped_data_filtered, window_labels_filtered, test_size=0.7, random_state=21)\n",
    "\n",
    "MHART.fit(X_fine_tune, y_fine_tune, epochs=200, batch_size=64, validation_split=0.2, callbacks=[early_stopping])"
   ]
  },
  {
   "cell_type": "code",
   "execution_count": 27,
   "id": "c699ef1d",
   "metadata": {
    "scrolled": false
   },
   "outputs": [
    {
     "name": "stdout",
     "output_type": "stream",
     "text": [
      "\u001b[1m1087/1087\u001b[0m \u001b[32m━━━━━━━━━━━━━━━━━━━━\u001b[0m\u001b[37m\u001b[0m \u001b[1m7s\u001b[0m 7ms/step - accuracy: 0.8680 - loss: 0.5122\n",
      "Test Loss: 0.5187253952026367, Test Accuracy: 0.867292046546936\n"
     ]
    }
   ],
   "source": [
    "performance_new = MHART.evaluate(X_test_new, y_test_new)\n",
    "print(f\"Test Loss: {performance_new[0]}, Test Accuracy: {performance_new[1]}\")"
   ]
  },
  {
   "cell_type": "markdown",
   "id": "ff7ed702",
   "metadata": {},
   "source": [
    "# Mobile HART Trained on HAR and Inertia dataset finetuning on 80% of the Data"
   ]
  },
  {
   "cell_type": "code",
   "execution_count": 28,
   "id": "7bd8f170",
   "metadata": {},
   "outputs": [
    {
     "name": "stdout",
     "output_type": "stream",
     "text": [
      "Epoch 1/200\n",
      "\u001b[1m  1/621\u001b[0m \u001b[37m━━━━━━━━━━━━━━━━━━━━\u001b[0m \u001b[1m11:54:42\u001b[0m 69s/step - accuracy: 0.1094 - loss: 2.3080"
     ]
    },
    {
     "name": "stderr",
     "output_type": "stream",
     "text": [
      "I0000 00:00:1721354183.729171  198586 asm_compiler.cc:369] ptxas warning : Registers are spilled to local memory in function 'input_slice_fusion_3', 4 bytes spill stores, 4 bytes spill loads\n",
      "\n"
     ]
    },
    {
     "name": "stdout",
     "output_type": "stream",
     "text": [
      "\u001b[1m621/621\u001b[0m \u001b[32m━━━━━━━━━━━━━━━━━━━━\u001b[0m\u001b[37m\u001b[0m \u001b[1m132s\u001b[0m 102ms/step - accuracy: 0.6962 - loss: 0.7306 - val_accuracy: 0.7144 - val_loss: 0.7912\n",
      "Epoch 2/200\n",
      "\u001b[1m621/621\u001b[0m \u001b[32m━━━━━━━━━━━━━━━━━━━━\u001b[0m\u001b[37m\u001b[0m \u001b[1m11s\u001b[0m 17ms/step - accuracy: 0.9424 - loss: 0.1857 - val_accuracy: 0.8773 - val_loss: 0.3834\n",
      "Epoch 3/200\n",
      "\u001b[1m621/621\u001b[0m \u001b[32m━━━━━━━━━━━━━━━━━━━━\u001b[0m\u001b[37m\u001b[0m \u001b[1m11s\u001b[0m 17ms/step - accuracy: 0.9633 - loss: 0.1226 - val_accuracy: 0.9764 - val_loss: 0.0795\n",
      "Epoch 4/200\n",
      "\u001b[1m621/621\u001b[0m \u001b[32m━━━━━━━━━━━━━━━━━━━━\u001b[0m\u001b[37m\u001b[0m \u001b[1m11s\u001b[0m 17ms/step - accuracy: 0.9684 - loss: 0.1015 - val_accuracy: 0.9832 - val_loss: 0.0567\n",
      "Epoch 5/200\n",
      "\u001b[1m621/621\u001b[0m \u001b[32m━━━━━━━━━━━━━━━━━━━━\u001b[0m\u001b[37m\u001b[0m \u001b[1m11s\u001b[0m 17ms/step - accuracy: 0.9749 - loss: 0.0849 - val_accuracy: 0.9740 - val_loss: 0.0854\n",
      "Epoch 6/200\n",
      "\u001b[1m621/621\u001b[0m \u001b[32m━━━━━━━━━━━━━━━━━━━━\u001b[0m\u001b[37m\u001b[0m \u001b[1m11s\u001b[0m 17ms/step - accuracy: 0.9737 - loss: 0.0850 - val_accuracy: 0.9702 - val_loss: 0.0993\n",
      "Epoch 7/200\n",
      "\u001b[1m621/621\u001b[0m \u001b[32m━━━━━━━━━━━━━━━━━━━━\u001b[0m\u001b[37m\u001b[0m \u001b[1m11s\u001b[0m 17ms/step - accuracy: 0.9750 - loss: 0.0876 - val_accuracy: 0.9753 - val_loss: 0.0771\n",
      "Epoch 8/200\n",
      "\u001b[1m621/621\u001b[0m \u001b[32m━━━━━━━━━━━━━━━━━━━━\u001b[0m\u001b[37m\u001b[0m \u001b[1m11s\u001b[0m 17ms/step - accuracy: 0.9781 - loss: 0.0720 - val_accuracy: 0.9707 - val_loss: 0.0999\n",
      "Epoch 9/200\n",
      "\u001b[1m621/621\u001b[0m \u001b[32m━━━━━━━━━━━━━━━━━━━━\u001b[0m\u001b[37m\u001b[0m \u001b[1m11s\u001b[0m 17ms/step - accuracy: 0.9694 - loss: 0.0992 - val_accuracy: 0.9368 - val_loss: 0.2102\n"
     ]
    }
   ],
   "source": [
    "MHART = model.mobileHART_XS(input_shape, activityCount)\n",
    "\n",
    "X_train, X_test, y_train, y_test = train_test_split(reshaped_data, window_labels, test_size=0.2, random_state=42)\n",
    "\n",
    "MHART.compile(optimizer='adam', loss='sparse_categorical_crossentropy', metrics=['accuracy'])\n",
    "\n",
    "early_stopping = keras.callbacks.EarlyStopping(\n",
    "    monitor='val_loss',\n",
    "    patience=5,\n",
    "    restore_best_weights=True\n",
    ")\n",
    "\n",
    "history = MHART.fit(X_train, y_train, epochs=200, batch_size=64, validation_data=(X_test, y_test), callbacks=[early_stopping])"
   ]
  },
  {
   "cell_type": "code",
   "execution_count": 29,
   "id": "b5bb0a6e",
   "metadata": {},
   "outputs": [
    {
     "name": "stdout",
     "output_type": "stream",
     "text": [
      "Epoch 1/200\n",
      "\u001b[1m496/497\u001b[0m \u001b[32m━━━━━━━━━━━━━━━━━━━\u001b[0m\u001b[37m━\u001b[0m \u001b[1m0s\u001b[0m 16ms/step - accuracy: 0.9219 - loss: 0.4175"
     ]
    },
    {
     "name": "stderr",
     "output_type": "stream",
     "text": [
      "I0000 00:00:1721354446.187211  202927 asm_compiler.cc:369] ptxas warning : Registers are spilled to local memory in function 'triton_gemm_dot_32195', 40 bytes spill stores, 40 bytes spill loads\n",
      "\n",
      "I0000 00:00:1721354446.465592  202929 asm_compiler.cc:369] ptxas warning : Registers are spilled to local memory in function 'triton_gemm_dot_32195', 32 bytes spill stores, 32 bytes spill loads\n",
      "\n",
      "I0000 00:00:1721354446.569497  202927 asm_compiler.cc:369] ptxas warning : Registers are spilled to local memory in function 'triton_gemm_dot_32195', 32 bytes spill stores, 32 bytes spill loads\n",
      "\n",
      "I0000 00:00:1721354446.663470  202924 asm_compiler.cc:369] ptxas warning : Registers are spilled to local memory in function 'triton_gemm_dot_32195', 48 bytes spill stores, 48 bytes spill loads\n",
      "\n",
      "I0000 00:00:1721354446.847789  202920 asm_compiler.cc:369] ptxas warning : Registers are spilled to local memory in function 'triton_gemm_dot_8', 16 bytes spill stores, 16 bytes spill loads\n",
      "\n",
      "I0000 00:00:1721354449.583460  202929 asm_compiler.cc:369] ptxas warning : Registers are spilled to local memory in function 'triton_gemm_dot_65', 136 bytes spill stores, 136 bytes spill loads\n",
      "\n",
      "I0000 00:00:1721354449.940565  202926 asm_compiler.cc:369] ptxas warning : Registers are spilled to local memory in function 'triton_gemm_dot_20', 16 bytes spill stores, 16 bytes spill loads\n",
      "\n",
      "I0000 00:00:1721354452.436481  202922 asm_compiler.cc:369] ptxas warning : Registers are spilled to local memory in function 'triton_gemm_dot_63', 136 bytes spill stores, 136 bytes spill loads\n",
      "\n",
      "I0000 00:00:1721354453.202447  202927 asm_compiler.cc:369] ptxas warning : Registers are spilled to local memory in function 'triton_gemm_dot_69', 136 bytes spill stores, 136 bytes spill loads\n",
      "\n",
      "I0000 00:00:1721354453.760805  202920 asm_compiler.cc:369] ptxas warning : Registers are spilled to local memory in function 'triton_gemm_dot_32181', 92 bytes spill stores, 92 bytes spill loads\n",
      "\n",
      "I0000 00:00:1721354455.227915  202924 asm_compiler.cc:369] ptxas warning : Registers are spilled to local memory in function 'triton_gemm_dot_428', 120 bytes spill stores, 128 bytes spill loads\n",
      "\n"
     ]
    },
    {
     "name": "stdout",
     "output_type": "stream",
     "text": [
      "\u001b[1m497/497\u001b[0m \u001b[32m━━━━━━━━━━━━━━━━━━━━\u001b[0m\u001b[37m\u001b[0m \u001b[1m0s\u001b[0m 160ms/step - accuracy: 0.9219 - loss: 0.4170"
     ]
    },
    {
     "name": "stderr",
     "output_type": "stream",
     "text": [
      "I0000 00:00:1721354502.199142  203107 asm_compiler.cc:369] ptxas warning : Registers are spilled to local memory in function 'triton_gemm_dot_8', 16 bytes spill stores, 16 bytes spill loads\n",
      "\n",
      "I0000 00:00:1721354502.601811  203109 asm_compiler.cc:369] ptxas warning : Registers are spilled to local memory in function 'triton_gemm_dot_20', 16 bytes spill stores, 16 bytes spill loads\n",
      "\n",
      "I0000 00:00:1721354505.193755  203109 asm_compiler.cc:369] ptxas warning : Registers are spilled to local memory in function 'triton_gemm_dot_3266', 4 bytes spill stores, 4 bytes spill loads\n",
      "\n"
     ]
    },
    {
     "name": "stdout",
     "output_type": "stream",
     "text": [
      "\u001b[1m497/497\u001b[0m \u001b[32m━━━━━━━━━━━━━━━━━━━━\u001b[0m\u001b[37m\u001b[0m \u001b[1m88s\u001b[0m 177ms/step - accuracy: 0.9220 - loss: 0.4165 - val_accuracy: 0.9739 - val_loss: 0.1202\n",
      "Epoch 2/200\n",
      "\u001b[1m497/497\u001b[0m \u001b[32m━━━━━━━━━━━━━━━━━━━━\u001b[0m\u001b[37m\u001b[0m \u001b[1m9s\u001b[0m 17ms/step - accuracy: 0.9712 - loss: 0.1016 - val_accuracy: 0.6548 - val_loss: 2.9844\n",
      "Epoch 3/200\n",
      "\u001b[1m497/497\u001b[0m \u001b[32m━━━━━━━━━━━━━━━━━━━━\u001b[0m\u001b[37m\u001b[0m \u001b[1m9s\u001b[0m 17ms/step - accuracy: 0.9747 - loss: 0.0828 - val_accuracy: 0.9869 - val_loss: 0.0442\n",
      "Epoch 4/200\n",
      "\u001b[1m497/497\u001b[0m \u001b[32m━━━━━━━━━━━━━━━━━━━━\u001b[0m\u001b[37m\u001b[0m \u001b[1m9s\u001b[0m 17ms/step - accuracy: 0.9805 - loss: 0.0624 - val_accuracy: 0.9846 - val_loss: 0.0507\n",
      "Epoch 5/200\n",
      "\u001b[1m497/497\u001b[0m \u001b[32m━━━━━━━━━━━━━━━━━━━━\u001b[0m\u001b[37m\u001b[0m \u001b[1m9s\u001b[0m 17ms/step - accuracy: 0.9773 - loss: 0.0750 - val_accuracy: 0.7216 - val_loss: 1.1055\n",
      "Epoch 6/200\n",
      "\u001b[1m497/497\u001b[0m \u001b[32m━━━━━━━━━━━━━━━━━━━━\u001b[0m\u001b[37m\u001b[0m \u001b[1m9s\u001b[0m 17ms/step - accuracy: 0.9808 - loss: 0.0607 - val_accuracy: 0.9856 - val_loss: 0.0511\n",
      "Epoch 7/200\n",
      "\u001b[1m497/497\u001b[0m \u001b[32m━━━━━━━━━━━━━━━━━━━━\u001b[0m\u001b[37m\u001b[0m \u001b[1m9s\u001b[0m 17ms/step - accuracy: 0.9817 - loss: 0.0595 - val_accuracy: 0.9812 - val_loss: 0.0547\n",
      "Epoch 8/200\n",
      "\u001b[1m497/497\u001b[0m \u001b[32m━━━━━━━━━━━━━━━━━━━━\u001b[0m\u001b[37m\u001b[0m \u001b[1m9s\u001b[0m 17ms/step - accuracy: 0.9823 - loss: 0.0557 - val_accuracy: 0.9795 - val_loss: 0.0865\n"
     ]
    },
    {
     "data": {
      "text/plain": [
       "<keras.src.callbacks.history.History at 0x7fb68522eeb0>"
      ]
     },
     "execution_count": 29,
     "metadata": {},
     "output_type": "execute_result"
    }
   ],
   "source": [
    "features = df.columns[:-1]  \n",
    "labels_encoded = df['Activity_Label'].values\n",
    "\n",
    "data_filtered = df[features].values\n",
    "\n",
    "window_size = 128\n",
    "step_size = 64\n",
    "num_features = 6\n",
    "\n",
    "reshaped_data_filtered = create_overlapping_windows(data_filtered, window_size, step_size, num_features)\n",
    "\n",
    "window_labels_filtered = assign_labels_to_windows(labels_encoded, window_size, step_size)\n",
    "\n",
    "X_fine_tune, X_test_new, y_fine_tune, y_test_new = train_test_split(reshaped_data_filtered, window_labels_filtered, test_size=0.2, random_state=21)\n",
    "\n",
    "MHART.fit(X_fine_tune, y_fine_tune, epochs=200, batch_size=64, validation_split=0.2, callbacks=[early_stopping])"
   ]
  },
  {
   "cell_type": "code",
   "execution_count": 30,
   "id": "9f7626d1",
   "metadata": {
    "scrolled": false
   },
   "outputs": [
    {
     "name": "stdout",
     "output_type": "stream",
     "text": [
      "\u001b[1m311/311\u001b[0m \u001b[32m━━━━━━━━━━━━━━━━━━━━\u001b[0m\u001b[37m\u001b[0m \u001b[1m3s\u001b[0m 4ms/step - accuracy: 0.9847 - loss: 0.0488\n",
      "Test Loss: 0.05061814561486244, Test Accuracy: 0.9844914674758911\n"
     ]
    }
   ],
   "source": [
    "performance_new = MHART.evaluate(X_test_new, y_test_new)\n",
    "print(f\"Test Loss: {performance_new[0]}, Test Accuracy: {performance_new[1]}\")"
   ]
  },
  {
   "cell_type": "code",
   "execution_count": 8,
   "id": "6848f4bf",
   "metadata": {},
   "outputs": [
    {
     "name": "stderr",
     "output_type": "stream",
     "text": [
      "WARNING: All log messages before absl::InitializeLog() is called are written to STDERR\n",
      "I0000 00:00:1721836896.322692  246561 cuda_executor.cc:1015] successful NUMA node read from SysFS had negative value (-1), but there must be at least one NUMA node, so returning NUMA node zero. See more at https://github.com/torvalds/linux/blob/v6.0/Documentation/ABI/testing/sysfs-bus-pci#L344-L355\n",
      "I0000 00:00:1721836896.322888  246561 cuda_executor.cc:1015] successful NUMA node read from SysFS had negative value (-1), but there must be at least one NUMA node, so returning NUMA node zero. See more at https://github.com/torvalds/linux/blob/v6.0/Documentation/ABI/testing/sysfs-bus-pci#L344-L355\n",
      "I0000 00:00:1721836896.343774  246561 cuda_executor.cc:1015] successful NUMA node read from SysFS had negative value (-1), but there must be at least one NUMA node, so returning NUMA node zero. See more at https://github.com/torvalds/linux/blob/v6.0/Documentation/ABI/testing/sysfs-bus-pci#L344-L355\n",
      "I0000 00:00:1721836896.343988  246561 cuda_executor.cc:1015] successful NUMA node read from SysFS had negative value (-1), but there must be at least one NUMA node, so returning NUMA node zero. See more at https://github.com/torvalds/linux/blob/v6.0/Documentation/ABI/testing/sysfs-bus-pci#L344-L355\n",
      "I0000 00:00:1721836896.344131  246561 cuda_executor.cc:1015] successful NUMA node read from SysFS had negative value (-1), but there must be at least one NUMA node, so returning NUMA node zero. See more at https://github.com/torvalds/linux/blob/v6.0/Documentation/ABI/testing/sysfs-bus-pci#L344-L355\n",
      "I0000 00:00:1721836896.344268  246561 cuda_executor.cc:1015] successful NUMA node read from SysFS had negative value (-1), but there must be at least one NUMA node, so returning NUMA node zero. See more at https://github.com/torvalds/linux/blob/v6.0/Documentation/ABI/testing/sysfs-bus-pci#L344-L355\n",
      "I0000 00:00:1721836896.417807  246561 cuda_executor.cc:1015] successful NUMA node read from SysFS had negative value (-1), but there must be at least one NUMA node, so returning NUMA node zero. See more at https://github.com/torvalds/linux/blob/v6.0/Documentation/ABI/testing/sysfs-bus-pci#L344-L355\n",
      "I0000 00:00:1721836896.417996  246561 cuda_executor.cc:1015] successful NUMA node read from SysFS had negative value (-1), but there must be at least one NUMA node, so returning NUMA node zero. See more at https://github.com/torvalds/linux/blob/v6.0/Documentation/ABI/testing/sysfs-bus-pci#L344-L355\n",
      "I0000 00:00:1721836896.418152  246561 cuda_executor.cc:1015] successful NUMA node read from SysFS had negative value (-1), but there must be at least one NUMA node, so returning NUMA node zero. See more at https://github.com/torvalds/linux/blob/v6.0/Documentation/ABI/testing/sysfs-bus-pci#L344-L355\n",
      "I0000 00:00:1721836896.418287  246561 cuda_executor.cc:1015] successful NUMA node read from SysFS had negative value (-1), but there must be at least one NUMA node, so returning NUMA node zero. See more at https://github.com/torvalds/linux/blob/v6.0/Documentation/ABI/testing/sysfs-bus-pci#L344-L355\n",
      "I0000 00:00:1721836896.418423  246561 cuda_executor.cc:1015] successful NUMA node read from SysFS had negative value (-1), but there must be at least one NUMA node, so returning NUMA node zero. See more at https://github.com/torvalds/linux/blob/v6.0/Documentation/ABI/testing/sysfs-bus-pci#L344-L355\n",
      "I0000 00:00:1721836896.418557  246561 cuda_executor.cc:1015] successful NUMA node read from SysFS had negative value (-1), but there must be at least one NUMA node, so returning NUMA node zero. See more at https://github.com/torvalds/linux/blob/v6.0/Documentation/ABI/testing/sysfs-bus-pci#L344-L355\n",
      "I0000 00:00:1721836896.425235  246561 cuda_executor.cc:1015] successful NUMA node read from SysFS had negative value (-1), but there must be at least one NUMA node, so returning NUMA node zero. See more at https://github.com/torvalds/linux/blob/v6.0/Documentation/ABI/testing/sysfs-bus-pci#L344-L355\n",
      "I0000 00:00:1721836896.425395  246561 cuda_executor.cc:1015] successful NUMA node read from SysFS had negative value (-1), but there must be at least one NUMA node, so returning NUMA node zero. See more at https://github.com/torvalds/linux/blob/v6.0/Documentation/ABI/testing/sysfs-bus-pci#L344-L355\n",
      "I0000 00:00:1721836896.425540  246561 cuda_executor.cc:1015] successful NUMA node read from SysFS had negative value (-1), but there must be at least one NUMA node, so returning NUMA node zero. See more at https://github.com/torvalds/linux/blob/v6.0/Documentation/ABI/testing/sysfs-bus-pci#L344-L355\n",
      "I0000 00:00:1721836896.425681  246561 cuda_executor.cc:1015] successful NUMA node read from SysFS had negative value (-1), but there must be at least one NUMA node, so returning NUMA node zero. See more at https://github.com/torvalds/linux/blob/v6.0/Documentation/ABI/testing/sysfs-bus-pci#L344-L355\n",
      "I0000 00:00:1721836896.425820  246561 cuda_executor.cc:1015] successful NUMA node read from SysFS had negative value (-1), but there must be at least one NUMA node, so returning NUMA node zero. See more at https://github.com/torvalds/linux/blob/v6.0/Documentation/ABI/testing/sysfs-bus-pci#L344-L355\n",
      "2024-07-24 12:01:36.425938: I tensorflow/core/common_runtime/gpu/gpu_device.cc:2021] Created device /job:localhost/replica:0/task:0/device:GPU:0 with 22463 MB memory:  -> device: 0, name: NVIDIA GeForce RTX 3090, pci bus id: 0000:0b:00.0, compute capability: 8.6\n",
      "I0000 00:00:1721836896.426277  246561 cuda_executor.cc:1015] successful NUMA node read from SysFS had negative value (-1), but there must be at least one NUMA node, so returning NUMA node zero. See more at https://github.com/torvalds/linux/blob/v6.0/Documentation/ABI/testing/sysfs-bus-pci#L344-L355\n",
      "2024-07-24 12:01:36.426397: I tensorflow/core/common_runtime/gpu/gpu_device.cc:2021] Created device /job:localhost/replica:0/task:0/device:GPU:1 with 23792 MB memory:  -> device: 1, name: Quadro P6000, pci bus id: 0000:0a:00.0, compute capability: 6.1\n"
     ]
    },
    {
     "name": "stdout",
     "output_type": "stream",
     "text": [
      "INFO:tensorflow:Assets written to: /tmp/tmpxae3cqkx/assets\n"
     ]
    },
    {
     "name": "stderr",
     "output_type": "stream",
     "text": [
      "INFO:tensorflow:Assets written to: /tmp/tmpxae3cqkx/assets\n"
     ]
    },
    {
     "name": "stdout",
     "output_type": "stream",
     "text": [
      "Saved artifact at '/tmp/tmpxae3cqkx'. The following endpoints are available:\n",
      "\n",
      "* Endpoint 'serve'\n",
      "  args_0 (POSITIONAL_ONLY): TensorSpec(shape=(None, 128, 6), dtype=tf.float32, name='keras_tensor')\n",
      "Output Type:\n",
      "  TensorSpec(shape=(None, 10), dtype=tf.float32, name=None)\n",
      "Captures:\n",
      "  139794762444640: TensorSpec(shape=(), dtype=tf.resource, name=None)\n",
      "  139794736951360: TensorSpec(shape=(), dtype=tf.resource, name=None)\n",
      "  139793615685584: TensorSpec(shape=(), dtype=tf.resource, name=None)\n",
      "  139794762442704: TensorSpec(shape=(), dtype=tf.resource, name=None)\n",
      "  139794011560064: TensorSpec(shape=(), dtype=tf.resource, name=None)\n",
      "  139794736953296: TensorSpec(shape=(), dtype=tf.resource, name=None)\n",
      "  139794011587152: TensorSpec(shape=(), dtype=tf.resource, name=None)\n",
      "  139794011588208: TensorSpec(shape=(), dtype=tf.resource, name=None)\n",
      "  139794011561472: TensorSpec(shape=(), dtype=tf.resource, name=None)\n",
      "  139794011586976: TensorSpec(shape=(), dtype=tf.resource, name=None)\n",
      "  139794736959552: TensorSpec(shape=(), dtype=tf.resource, name=None)\n",
      "  139794736959728: TensorSpec(shape=(), dtype=tf.resource, name=None)\n",
      "  139794736954704: TensorSpec(shape=(), dtype=tf.resource, name=None)\n",
      "  139794736954880: TensorSpec(shape=(), dtype=tf.resource, name=None)\n",
      "  139794011596224: TensorSpec(shape=(), dtype=tf.resource, name=None)\n",
      "  139794736962544: TensorSpec(shape=(), dtype=tf.resource, name=None)\n",
      "  139794011607280: TensorSpec(shape=(), dtype=tf.resource, name=None)\n",
      "  139794011608336: TensorSpec(shape=(), dtype=tf.resource, name=None)\n",
      "  139794011597984: TensorSpec(shape=(), dtype=tf.resource, name=None)\n",
      "  139794011607104: TensorSpec(shape=(), dtype=tf.resource, name=None)\n",
      "  139794736985008: TensorSpec(shape=(), dtype=tf.resource, name=None)\n",
      "  139794736985360: TensorSpec(shape=(), dtype=tf.resource, name=None)\n",
      "  139794736984480: TensorSpec(shape=(), dtype=tf.resource, name=None)\n",
      "  139794736984656: TensorSpec(shape=(), dtype=tf.resource, name=None)\n",
      "  139794011624544: TensorSpec(shape=(), dtype=tf.resource, name=None)\n",
      "  139794736988000: TensorSpec(shape=(), dtype=tf.resource, name=None)\n",
      "  139794011640576: TensorSpec(shape=(), dtype=tf.resource, name=None)\n",
      "  139794011640752: TensorSpec(shape=(), dtype=tf.resource, name=None)\n",
      "  139794011626304: TensorSpec(shape=(), dtype=tf.resource, name=None)\n",
      "  139794011627184: TensorSpec(shape=(), dtype=tf.resource, name=None)\n",
      "  139794737002448: TensorSpec(shape=(), dtype=tf.resource, name=None)\n",
      "  139794737002800: TensorSpec(shape=(), dtype=tf.resource, name=None)\n",
      "  139794737001920: TensorSpec(shape=(), dtype=tf.resource, name=None)\n",
      "  139794737002096: TensorSpec(shape=(), dtype=tf.resource, name=None)\n",
      "  139794011643744: TensorSpec(shape=(), dtype=tf.resource, name=None)\n",
      "  139794737017072: TensorSpec(shape=(), dtype=tf.resource, name=None)\n",
      "  139794011134256: TensorSpec(shape=(), dtype=tf.resource, name=None)\n",
      "  139794011135312: TensorSpec(shape=(), dtype=tf.resource, name=None)\n",
      "  139794011133200: TensorSpec(shape=(), dtype=tf.resource, name=None)\n",
      "  139794011134080: TensorSpec(shape=(), dtype=tf.resource, name=None)\n",
      "  139794737019008: TensorSpec(shape=(), dtype=tf.resource, name=None)\n",
      "  139794737019360: TensorSpec(shape=(), dtype=tf.resource, name=None)\n",
      "  139794737018480: TensorSpec(shape=(), dtype=tf.resource, name=None)\n",
      "  139794737018656: TensorSpec(shape=(), dtype=tf.resource, name=None)\n",
      "  139794011152224: TensorSpec(shape=(), dtype=tf.resource, name=None)\n",
      "  139794737036448: TensorSpec(shape=(), dtype=tf.resource, name=None)\n",
      "  139794011193408: TensorSpec(shape=(), dtype=tf.resource, name=None)\n",
      "  139794011193584: TensorSpec(shape=(), dtype=tf.resource, name=None)\n",
      "  139794011179136: TensorSpec(shape=(), dtype=tf.resource, name=None)\n",
      "  139794011180016: TensorSpec(shape=(), dtype=tf.resource, name=None)\n",
      "  139794737051776: TensorSpec(shape=(), dtype=tf.resource, name=None)\n",
      "  139794737052832: TensorSpec(shape=(), dtype=tf.resource, name=None)\n",
      "  139794737050720: TensorSpec(shape=(), dtype=tf.resource, name=None)\n",
      "  139794737051600: TensorSpec(shape=(), dtype=tf.resource, name=None)\n",
      "  139794011197280: TensorSpec(shape=(), dtype=tf.resource, name=None)\n",
      "  139794737060848: TensorSpec(shape=(), dtype=tf.resource, name=None)\n",
      "  139794011220800: TensorSpec(shape=(), dtype=tf.resource, name=None)\n",
      "  139794011242736: TensorSpec(shape=(), dtype=tf.resource, name=None)\n",
      "  139794011219744: TensorSpec(shape=(), dtype=tf.resource, name=None)\n",
      "  139794011220624: TensorSpec(shape=(), dtype=tf.resource, name=None)\n",
      "  139794737076000: TensorSpec(shape=(), dtype=tf.resource, name=None)\n",
      "  139794737077056: TensorSpec(shape=(), dtype=tf.resource, name=None)\n",
      "  139794737074944: TensorSpec(shape=(), dtype=tf.resource, name=None)\n",
      "  139794737075824: TensorSpec(shape=(), dtype=tf.resource, name=None)\n",
      "  139794011245376: TensorSpec(shape=(), dtype=tf.resource, name=None)\n",
      "  139794737088288: TensorSpec(shape=(), dtype=tf.resource, name=None)\n",
      "  139794011264272: TensorSpec(shape=(), dtype=tf.resource, name=None)\n",
      "  139794011265328: TensorSpec(shape=(), dtype=tf.resource, name=None)\n",
      "  139794011263216: TensorSpec(shape=(), dtype=tf.resource, name=None)\n",
      "  139794011264096: TensorSpec(shape=(), dtype=tf.resource, name=None)\n",
      "  139794737098992: TensorSpec(shape=(), dtype=tf.resource, name=None)\n",
      "  139794737100048: TensorSpec(shape=(), dtype=tf.resource, name=None)\n",
      "  139794737089696: TensorSpec(shape=(), dtype=tf.resource, name=None)\n",
      "  139794737098816: TensorSpec(shape=(), dtype=tf.resource, name=None)\n",
      "  139794011281536: TensorSpec(shape=(), dtype=tf.resource, name=None)\n",
      "  139794737108064: TensorSpec(shape=(), dtype=tf.resource, name=None)\n",
      "  139794011308976: TensorSpec(shape=(), dtype=tf.resource, name=None)\n",
      "  139794011310032: TensorSpec(shape=(), dtype=tf.resource, name=None)\n",
      "  139794011283296: TensorSpec(shape=(), dtype=tf.resource, name=None)\n",
      "  139794011308800: TensorSpec(shape=(), dtype=tf.resource, name=None)\n",
      "  139794737136384: TensorSpec(shape=(), dtype=tf.resource, name=None)\n",
      "  139794737136560: TensorSpec(shape=(), dtype=tf.resource, name=None)\n",
      "  139794737109824: TensorSpec(shape=(), dtype=tf.resource, name=None)\n",
      "  139794737110704: TensorSpec(shape=(), dtype=tf.resource, name=None)\n",
      "  139794011313952: TensorSpec(shape=(), dtype=tf.resource, name=None)\n",
      "  139794737144576: TensorSpec(shape=(), dtype=tf.resource, name=None)\n",
      "  139794011345488: TensorSpec(shape=(), dtype=tf.resource, name=None)\n",
      "  139794011346544: TensorSpec(shape=(), dtype=tf.resource, name=None)\n",
      "  139794011315712: TensorSpec(shape=(), dtype=tf.resource, name=None)\n",
      "  139794011345312: TensorSpec(shape=(), dtype=tf.resource, name=None)\n",
      "  139794737156512: TensorSpec(shape=(), dtype=tf.resource, name=None)\n",
      "  139794737156688: TensorSpec(shape=(), dtype=tf.resource, name=None)\n",
      "  139794737146336: TensorSpec(shape=(), dtype=tf.resource, name=None)\n",
      "  139794737147216: TensorSpec(shape=(), dtype=tf.resource, name=None)\n",
      "  139794011371120: TensorSpec(shape=(), dtype=tf.resource, name=None)\n",
      "  139794011390544: TensorSpec(shape=(), dtype=tf.resource, name=None)\n",
      "  139793891065920: TensorSpec(shape=(), dtype=tf.resource, name=None)\n",
      "  139793891066976: TensorSpec(shape=(), dtype=tf.resource, name=None)\n",
      "  139794011372528: TensorSpec(shape=(), dtype=tf.resource, name=None)\n",
      "  139794011373408: TensorSpec(shape=(), dtype=tf.resource, name=None)\n",
      "  139794011392832: TensorSpec(shape=(), dtype=tf.resource, name=None)\n",
      "  139794011406576: TensorSpec(shape=(), dtype=tf.resource, name=None)\n",
      "  139794011391952: TensorSpec(shape=(), dtype=tf.resource, name=None)\n",
      "  139794011392656: TensorSpec(shape=(), dtype=tf.resource, name=None)\n",
      "  139793891083184: TensorSpec(shape=(), dtype=tf.resource, name=None)\n",
      "  139794011410096: TensorSpec(shape=(), dtype=tf.resource, name=None)\n",
      "  139793891107408: TensorSpec(shape=(), dtype=tf.resource, name=None)\n",
      "  139793891107584: TensorSpec(shape=(), dtype=tf.resource, name=None)\n",
      "  139793891084944: TensorSpec(shape=(), dtype=tf.resource, name=None)\n",
      "  139793891085824: TensorSpec(shape=(), dtype=tf.resource, name=None)\n",
      "  139794011417056: TensorSpec(shape=(), dtype=tf.resource, name=None)\n",
      "  139794011418112: TensorSpec(shape=(), dtype=tf.resource, name=None)\n",
      "  139794011416000: TensorSpec(shape=(), dtype=tf.resource, name=None)\n",
      "  139794011416880: TensorSpec(shape=(), dtype=tf.resource, name=None)\n",
      "  139794762237904: TensorSpec(shape=(), dtype=tf.resource, name=None)\n",
      "  139794011434320: TensorSpec(shape=(), dtype=tf.resource, name=None)\n",
      "  139793891109168: TensorSpec(shape=(), dtype=tf.resource, name=None)\n",
      "  139793891108464: TensorSpec(shape=(), dtype=tf.resource, name=None)\n",
      "  139794762442528: TensorSpec(shape=(), dtype=tf.resource, name=None)\n",
      "  139793615686992: TensorSpec(shape=(), dtype=tf.resource, name=None)\n",
      "  139794011453568: TensorSpec(shape=(), dtype=tf.resource, name=None)\n",
      "  139794011454624: TensorSpec(shape=(), dtype=tf.resource, name=None)\n",
      "  139794011452512: TensorSpec(shape=(), dtype=tf.resource, name=None)\n",
      "  139794011453392: TensorSpec(shape=(), dtype=tf.resource, name=None)\n",
      "  139793615419696: TensorSpec(shape=(), dtype=tf.resource, name=None)\n",
      "  139794011466912: TensorSpec(shape=(), dtype=tf.resource, name=None)\n",
      "  139794762539776: TensorSpec(shape=(), dtype=tf.resource, name=None)\n",
      "  139794762540832: TensorSpec(shape=(), dtype=tf.resource, name=None)\n",
      "  139793615421104: TensorSpec(shape=(), dtype=tf.resource, name=None)\n",
      "  139794762539600: TensorSpec(shape=(), dtype=tf.resource, name=None)\n",
      "  139794011481712: TensorSpec(shape=(), dtype=tf.resource, name=None)\n",
      "  139794011482768: TensorSpec(shape=(), dtype=tf.resource, name=None)\n",
      "  139794011480656: TensorSpec(shape=(), dtype=tf.resource, name=None)\n",
      "  139794011481536: TensorSpec(shape=(), dtype=tf.resource, name=None)\n",
      "  139793615796880: TensorSpec(shape=(), dtype=tf.resource, name=None)\n",
      "  139794011495760: TensorSpec(shape=(), dtype=tf.resource, name=None)\n",
      "  139793615869728: TensorSpec(shape=(), dtype=tf.resource, name=None)\n",
      "  139793615870784: TensorSpec(shape=(), dtype=tf.resource, name=None)\n",
      "  139793615868672: TensorSpec(shape=(), dtype=tf.resource, name=None)\n",
      "  139793615869552: TensorSpec(shape=(), dtype=tf.resource, name=None)\n",
      "  139794011519456: TensorSpec(shape=(), dtype=tf.resource, name=None)\n",
      "  139794011520512: TensorSpec(shape=(), dtype=tf.resource, name=None)\n",
      "  139794011518400: TensorSpec(shape=(), dtype=tf.resource, name=None)\n",
      "  139794011519280: TensorSpec(shape=(), dtype=tf.resource, name=None)\n",
      "  139793891125904: TensorSpec(shape=(), dtype=tf.resource, name=None)\n",
      "  139794011536720: TensorSpec(shape=(), dtype=tf.resource, name=None)\n",
      "  139793891132864: TensorSpec(shape=(), dtype=tf.resource, name=None)\n",
      "  139793891133920: TensorSpec(shape=(), dtype=tf.resource, name=None)\n",
      "  139793891131808: TensorSpec(shape=(), dtype=tf.resource, name=None)\n",
      "  139793891132688: TensorSpec(shape=(), dtype=tf.resource, name=None)\n",
      "  139794011547776: TensorSpec(shape=(), dtype=tf.resource, name=None)\n",
      "  139794011548832: TensorSpec(shape=(), dtype=tf.resource, name=None)\n",
      "  139794011546720: TensorSpec(shape=(), dtype=tf.resource, name=None)\n",
      "  139794011547600: TensorSpec(shape=(), dtype=tf.resource, name=None)\n",
      "  139793891162768: TensorSpec(shape=(), dtype=tf.resource, name=None)\n",
      "  139793891162944: TensorSpec(shape=(), dtype=tf.resource, name=None)\n",
      "  139793891145152: TensorSpec(shape=(), dtype=tf.resource, name=None)\n",
      "  139793891144976: TensorSpec(shape=(), dtype=tf.resource, name=None)\n",
      "  139793891147616: TensorSpec(shape=(), dtype=tf.resource, name=None)\n",
      "  139793891161360: TensorSpec(shape=(), dtype=tf.resource, name=None)\n",
      "  139793891173824: TensorSpec(shape=(), dtype=tf.resource, name=None)\n",
      "  139793891173648: TensorSpec(shape=(), dtype=tf.resource, name=None)\n",
      "  139793891185760: TensorSpec(shape=(), dtype=tf.resource, name=None)\n",
      "  139793891185936: TensorSpec(shape=(), dtype=tf.resource, name=None)\n",
      "  139793890814960: TensorSpec(shape=(), dtype=tf.resource, name=None)\n",
      "  139793890814784: TensorSpec(shape=(), dtype=tf.resource, name=None)\n",
      "  139793891231872: TensorSpec(shape=(), dtype=tf.resource, name=None)\n",
      "  139793891232576: TensorSpec(shape=(), dtype=tf.resource, name=None)\n",
      "  139793891230816: TensorSpec(shape=(), dtype=tf.resource, name=None)\n",
      "  139793891206768: TensorSpec(shape=(), dtype=tf.resource, name=None)\n",
      "  139793891207824: TensorSpec(shape=(), dtype=tf.resource, name=None)\n",
      "  139793890879792: TensorSpec(shape=(), dtype=tf.resource, name=None)\n",
      "  139793891205712: TensorSpec(shape=(), dtype=tf.resource, name=None)\n",
      "  139793891205888: TensorSpec(shape=(), dtype=tf.resource, name=None)\n",
      "  139793890660592: TensorSpec(shape=(), dtype=tf.resource, name=None)\n",
      "  139793890661824: TensorSpec(shape=(), dtype=tf.resource, name=None)\n",
      "  139793890959200: TensorSpec(shape=(), dtype=tf.resource, name=None)\n",
      "  139793890956032: TensorSpec(shape=(), dtype=tf.resource, name=None)\n",
      "  139793890988624: TensorSpec(shape=(), dtype=tf.resource, name=None)\n",
      "  139793890772416: TensorSpec(shape=(), dtype=tf.resource, name=None)\n",
      "  139793890696528: TensorSpec(shape=(), dtype=tf.resource, name=None)\n",
      "  139793890771536: TensorSpec(shape=(), dtype=tf.resource, name=None)\n",
      "  139793890413376: TensorSpec(shape=(), dtype=tf.resource, name=None)\n",
      "  139793890989504: TensorSpec(shape=(), dtype=tf.resource, name=None)\n",
      "  139793890773120: TensorSpec(shape=(), dtype=tf.resource, name=None)\n",
      "  139793890957616: TensorSpec(shape=(), dtype=tf.resource, name=None)\n",
      "  139793890508864: TensorSpec(shape=(), dtype=tf.resource, name=None)\n",
      "  139793890509040: TensorSpec(shape=(), dtype=tf.resource, name=None)\n",
      "  139793890456848: TensorSpec(shape=(), dtype=tf.resource, name=None)\n",
      "  139793890457024: TensorSpec(shape=(), dtype=tf.resource, name=None)\n",
      "  139793890458608: TensorSpec(shape=(), dtype=tf.resource, name=None)\n",
      "  139793890404304: TensorSpec(shape=(), dtype=tf.resource, name=None)\n",
      "  139793890759248: TensorSpec(shape=(), dtype=tf.resource, name=None)\n",
      "  139793890762416: TensorSpec(shape=(), dtype=tf.resource, name=None)\n",
      "  139793890762240: TensorSpec(shape=(), dtype=tf.resource, name=None)\n",
      "  139793890540528: TensorSpec(shape=(), dtype=tf.resource, name=None)\n",
      "  139793890541056: TensorSpec(shape=(), dtype=tf.resource, name=None)\n",
      "  139793890668608: TensorSpec(shape=(), dtype=tf.resource, name=None)\n",
      "  139793890459312: TensorSpec(shape=(), dtype=tf.resource, name=None)\n",
      "  139793890459488: TensorSpec(shape=(), dtype=tf.resource, name=None)\n",
      "  139793890040464: TensorSpec(shape=(), dtype=tf.resource, name=None)\n",
      "  139793890039760: TensorSpec(shape=(), dtype=tf.resource, name=None)\n",
      "  139793890040816: TensorSpec(shape=(), dtype=tf.resource, name=None)\n",
      "  139793890196112: TensorSpec(shape=(), dtype=tf.resource, name=None)\n",
      "  139793890196640: TensorSpec(shape=(), dtype=tf.resource, name=None)\n",
      "  139793889779776: TensorSpec(shape=(), dtype=tf.resource, name=None)\n",
      "  139793889780480: TensorSpec(shape=(), dtype=tf.resource, name=None)\n",
      "  139793890061648: TensorSpec(shape=(), dtype=tf.resource, name=None)\n",
      "  139793889874512: TensorSpec(shape=(), dtype=tf.resource, name=None)\n",
      "  139793889876624: TensorSpec(shape=(), dtype=tf.resource, name=None)\n",
      "  139793890002544: TensorSpec(shape=(), dtype=tf.resource, name=None)\n",
      "  139793890002368: TensorSpec(shape=(), dtype=tf.resource, name=None)\n",
      "  139793889551104: TensorSpec(shape=(), dtype=tf.resource, name=None)\n",
      "  139793889550928: TensorSpec(shape=(), dtype=tf.resource, name=None)\n",
      "  139793889621616: TensorSpec(shape=(), dtype=tf.resource, name=None)\n",
      "  139793889621440: TensorSpec(shape=(), dtype=tf.resource, name=None)\n",
      "  139793889592064: TensorSpec(shape=(), dtype=tf.resource, name=None)\n",
      "  139793889591888: TensorSpec(shape=(), dtype=tf.resource, name=None)\n",
      "  139793889595056: TensorSpec(shape=(), dtype=tf.resource, name=None)\n",
      "  139793889595232: TensorSpec(shape=(), dtype=tf.resource, name=None)\n",
      "  139793889636944: TensorSpec(shape=(), dtype=tf.resource, name=None)\n",
      "  139793889636768: TensorSpec(shape=(), dtype=tf.resource, name=None)\n",
      "  139793889639936: TensorSpec(shape=(), dtype=tf.resource, name=None)\n",
      "  139793889640112: TensorSpec(shape=(), dtype=tf.resource, name=None)\n",
      "  139793889671824: TensorSpec(shape=(), dtype=tf.resource, name=None)\n",
      "  139793889702656: TensorSpec(shape=(), dtype=tf.resource, name=None)\n",
      "  139793889703712: TensorSpec(shape=(), dtype=tf.resource, name=None)\n",
      "  139793889701952: TensorSpec(shape=(), dtype=tf.resource, name=None)\n",
      "  139793889702480: TensorSpec(shape=(), dtype=tf.resource, name=None)\n",
      "  139793889731856: TensorSpec(shape=(), dtype=tf.resource, name=None)\n",
      "  139793889733792: TensorSpec(shape=(), dtype=tf.resource, name=None)\n",
      "  139793889734144: TensorSpec(shape=(), dtype=tf.resource, name=None)\n",
      "  139793889733264: TensorSpec(shape=(), dtype=tf.resource, name=None)\n",
      "  139793889733440: TensorSpec(shape=(), dtype=tf.resource, name=None)\n",
      "  139793890683184: TensorSpec(shape=(), dtype=tf.resource, name=None)\n",
      "  139793889493232: TensorSpec(shape=(), dtype=tf.resource, name=None)\n",
      "  139793889493584: TensorSpec(shape=(), dtype=tf.resource, name=None)\n",
      "  139793890684592: TensorSpec(shape=(), dtype=tf.resource, name=None)\n",
      "  139793889493056: TensorSpec(shape=(), dtype=tf.resource, name=None)\n",
      "  139793889495520: TensorSpec(shape=(), dtype=tf.resource, name=None)\n",
      "  139793889495344: TensorSpec(shape=(), dtype=tf.resource, name=None)\n",
      "  139793889743264: TensorSpec(shape=(), dtype=tf.resource, name=None)\n",
      "  139793889743088: TensorSpec(shape=(), dtype=tf.resource, name=None)\n",
      "  139793889745024: TensorSpec(shape=(), dtype=tf.resource, name=None)\n",
      "  139793889745200: TensorSpec(shape=(), dtype=tf.resource, name=None)\n",
      "  139793890189904: TensorSpec(shape=(), dtype=tf.resource, name=None)\n",
      "  139793890189728: TensorSpec(shape=(), dtype=tf.resource, name=None)\n",
      "  139793890191136: TensorSpec(shape=(), dtype=tf.resource, name=None)\n",
      "  139793890190256: TensorSpec(shape=(), dtype=tf.resource, name=None)\n",
      "  139793890193072: TensorSpec(shape=(), dtype=tf.resource, name=None)\n",
      "  139793890193248: TensorSpec(shape=(), dtype=tf.resource, name=None)\n",
      "  139793890055968: TensorSpec(shape=(), dtype=tf.resource, name=None)\n",
      "  139793890056144: TensorSpec(shape=(), dtype=tf.resource, name=None)\n",
      "  139793889941280: TensorSpec(shape=(), dtype=tf.resource, name=None)\n",
      "  139793889942336: TensorSpec(shape=(), dtype=tf.resource, name=None)\n",
      "  139793889981712: TensorSpec(shape=(), dtype=tf.resource, name=None)\n",
      "  139793889981536: TensorSpec(shape=(), dtype=tf.resource, name=None)\n",
      "  139793889904944: TensorSpec(shape=(), dtype=tf.resource, name=None)\n",
      "  139793889904768: TensorSpec(shape=(), dtype=tf.resource, name=None)\n",
      "  139793889883760: TensorSpec(shape=(), dtype=tf.resource, name=None)\n",
      "  139793889884464: TensorSpec(shape=(), dtype=tf.resource, name=None)\n",
      "  139793889801664: TensorSpec(shape=(), dtype=tf.resource, name=None)\n",
      "  139793889801488: TensorSpec(shape=(), dtype=tf.resource, name=None)\n",
      "  139793889804128: TensorSpec(shape=(), dtype=tf.resource, name=None)\n",
      "  139793889226816: TensorSpec(shape=(), dtype=tf.resource, name=None)\n",
      "  139793889229456: TensorSpec(shape=(), dtype=tf.resource, name=None)\n",
      "  139793889229632: TensorSpec(shape=(), dtype=tf.resource, name=None)\n",
      "  139793889252096: TensorSpec(shape=(), dtype=tf.resource, name=None)\n",
      "  139793889251920: TensorSpec(shape=(), dtype=tf.resource, name=None)\n",
      "  139793889264384: TensorSpec(shape=(), dtype=tf.resource, name=None)\n",
      "  139793889265440: TensorSpec(shape=(), dtype=tf.resource, name=None)\n",
      "  139793889272048: TensorSpec(shape=(), dtype=tf.resource, name=None)\n",
      "  139793889271872: TensorSpec(shape=(), dtype=tf.resource, name=None)\n",
      "  139793889289488: TensorSpec(shape=(), dtype=tf.resource, name=None)\n",
      "  139793889289312: TensorSpec(shape=(), dtype=tf.resource, name=None)\n",
      "  139793889301072: TensorSpec(shape=(), dtype=tf.resource, name=None)\n",
      "  139793889301776: TensorSpec(shape=(), dtype=tf.resource, name=None)\n",
      "  139793889321376: TensorSpec(shape=(), dtype=tf.resource, name=None)\n",
      "  139793889321200: TensorSpec(shape=(), dtype=tf.resource, name=None)\n",
      "  139793889324016: TensorSpec(shape=(), dtype=tf.resource, name=None)\n",
      "  139793889324192: TensorSpec(shape=(), dtype=tf.resource, name=None)\n",
      "  139793889338992: TensorSpec(shape=(), dtype=tf.resource, name=None)\n",
      "  139793889338816: TensorSpec(shape=(), dtype=tf.resource, name=None)\n",
      "  139793889357488: TensorSpec(shape=(), dtype=tf.resource, name=None)\n",
      "  139793889357664: TensorSpec(shape=(), dtype=tf.resource, name=None)\n",
      "  139793889369776: TensorSpec(shape=(), dtype=tf.resource, name=None)\n",
      "  139793889379072: TensorSpec(shape=(), dtype=tf.resource, name=None)\n",
      "  139793889381536: TensorSpec(shape=(), dtype=tf.resource, name=None)\n",
      "  139793889381712: TensorSpec(shape=(), dtype=tf.resource, name=None)\n",
      "  139793889423600: TensorSpec(shape=(), dtype=tf.resource, name=None)\n",
      "  139793889423424: TensorSpec(shape=(), dtype=tf.resource, name=None)\n",
      "  139793889426944: TensorSpec(shape=(), dtype=tf.resource, name=None)\n",
      "  139793889448176: TensorSpec(shape=(), dtype=tf.resource, name=None)\n",
      "  139793889451344: TensorSpec(shape=(), dtype=tf.resource, name=None)\n",
      "  139793889451520: TensorSpec(shape=(), dtype=tf.resource, name=None)\n",
      "  139793889478608: TensorSpec(shape=(), dtype=tf.resource, name=None)\n",
      "  139793889478784: TensorSpec(shape=(), dtype=tf.resource, name=None)\n",
      "  139793889485392: TensorSpec(shape=(), dtype=tf.resource, name=None)\n",
      "  139793889485216: TensorSpec(shape=(), dtype=tf.resource, name=None)\n",
      "  139793888995984: TensorSpec(shape=(), dtype=tf.resource, name=None)\n",
      "  139793888996160: TensorSpec(shape=(), dtype=tf.resource, name=None)\n",
      "  139793889008272: TensorSpec(shape=(), dtype=tf.resource, name=None)\n",
      "  139793889009328: TensorSpec(shape=(), dtype=tf.resource, name=None)\n",
      "  139793889032320: TensorSpec(shape=(), dtype=tf.resource, name=None)\n",
      "  139793889032144: TensorSpec(shape=(), dtype=tf.resource, name=None)\n",
      "  139793889057952: TensorSpec(shape=(), dtype=tf.resource, name=None)\n",
      "  139793889058128: TensorSpec(shape=(), dtype=tf.resource, name=None)\n",
      "  139793889065616: TensorSpec(shape=(), dtype=tf.resource, name=None)\n",
      "  139793889065792: TensorSpec(shape=(), dtype=tf.resource, name=None)\n",
      "  139793889094288: TensorSpec(shape=(), dtype=tf.resource, name=None)\n",
      "  139793889094464: TensorSpec(shape=(), dtype=tf.resource, name=None)\n",
      "  139793889117808: TensorSpec(shape=(), dtype=tf.resource, name=None)\n",
      "  139793889141152: TensorSpec(shape=(), dtype=tf.resource, name=None)\n",
      "  139793889142208: TensorSpec(shape=(), dtype=tf.resource, name=None)\n",
      "  139793889119568: TensorSpec(shape=(), dtype=tf.resource, name=None)\n",
      "  139793889140976: TensorSpec(shape=(), dtype=tf.resource, name=None)\n",
      "  139793889159296: TensorSpec(shape=(), dtype=tf.resource, name=None)\n",
      "  139793889191184: TensorSpec(shape=(), dtype=tf.resource, name=None)\n",
      "  139793889192240: TensorSpec(shape=(), dtype=tf.resource, name=None)\n",
      "  139793889190128: TensorSpec(shape=(), dtype=tf.resource, name=None)\n",
      "  139793889191008: TensorSpec(shape=(), dtype=tf.resource, name=None)\n",
      "  139793889204352: TensorSpec(shape=(), dtype=tf.resource, name=None)\n",
      "  139793888707504: TensorSpec(shape=(), dtype=tf.resource, name=None)\n",
      "  139793888708560: TensorSpec(shape=(), dtype=tf.resource, name=None)\n",
      "  139793889206112: TensorSpec(shape=(), dtype=tf.resource, name=None)\n",
      "  139793888707328: TensorSpec(shape=(), dtype=tf.resource, name=None)\n",
      "  139793888723888: TensorSpec(shape=(), dtype=tf.resource, name=None)\n",
      "  139793888723712: TensorSpec(shape=(), dtype=tf.resource, name=None)\n",
      "  139793888726352: TensorSpec(shape=(), dtype=tf.resource, name=None)\n",
      "  139793888726528: TensorSpec(shape=(), dtype=tf.resource, name=None)\n",
      "  139793888745424: TensorSpec(shape=(), dtype=tf.resource, name=None)\n",
      "  139793888745952: TensorSpec(shape=(), dtype=tf.resource, name=None)\n",
      "  139793888769648: TensorSpec(shape=(), dtype=tf.resource, name=None)\n",
      "  139793888769472: TensorSpec(shape=(), dtype=tf.resource, name=None)\n",
      "  139793888796912: TensorSpec(shape=(), dtype=tf.resource, name=None)\n",
      "  139793888796736: TensorSpec(shape=(), dtype=tf.resource, name=None)\n",
      "  139793888799552: TensorSpec(shape=(), dtype=tf.resource, name=None)\n",
      "  139793888799728: TensorSpec(shape=(), dtype=tf.resource, name=None)\n",
      "  139793888834480: TensorSpec(shape=(), dtype=tf.resource, name=None)\n",
      "  139793888834304: TensorSpec(shape=(), dtype=tf.resource, name=None)\n",
      "  139793888859056: TensorSpec(shape=(), dtype=tf.resource, name=None)\n",
      "  139793888860112: TensorSpec(shape=(), dtype=tf.resource, name=None)\n",
      "  139793888874912: TensorSpec(shape=(), dtype=tf.resource, name=None)\n",
      "  139793888874736: TensorSpec(shape=(), dtype=tf.resource, name=None)\n",
      "  139793888896448: TensorSpec(shape=(), dtype=tf.resource, name=None)\n",
      "  139793888896272: TensorSpec(shape=(), dtype=tf.resource, name=None)\n",
      "  139793888920320: TensorSpec(shape=(), dtype=tf.resource, name=None)\n",
      "  139793888921024: TensorSpec(shape=(), dtype=tf.resource, name=None)\n",
      "  139793888948816: TensorSpec(shape=(), dtype=tf.resource, name=None)\n",
      "  139793888948640: TensorSpec(shape=(), dtype=tf.resource, name=None)\n",
      "  139793888951456: TensorSpec(shape=(), dtype=tf.resource, name=None)\n",
      "  139793888951632: TensorSpec(shape=(), dtype=tf.resource, name=None)\n",
      "  139793888442144: TensorSpec(shape=(), dtype=tf.resource, name=None)\n",
      "  139793888442320: TensorSpec(shape=(), dtype=tf.resource, name=None)\n",
      "  139793888468832: TensorSpec(shape=(), dtype=tf.resource, name=None)\n",
      "  139793888491648: TensorSpec(shape=(), dtype=tf.resource, name=None)\n",
      "  139793888493408: TensorSpec(shape=(), dtype=tf.resource, name=None)\n",
      "  139793888510896: TensorSpec(shape=(), dtype=tf.resource, name=None)\n",
      "  139793888513360: TensorSpec(shape=(), dtype=tf.resource, name=None)\n",
      "  139793888513536: TensorSpec(shape=(), dtype=tf.resource, name=None)\n",
      "  139793888551328: TensorSpec(shape=(), dtype=tf.resource, name=None)\n",
      "  139793888551152: TensorSpec(shape=(), dtype=tf.resource, name=None)\n",
      "  139793888554672: TensorSpec(shape=(), dtype=tf.resource, name=None)\n",
      "  139793888571808: TensorSpec(shape=(), dtype=tf.resource, name=None)\n",
      "  139793888574976: TensorSpec(shape=(), dtype=tf.resource, name=None)\n",
      "  139793888575152: TensorSpec(shape=(), dtype=tf.resource, name=None)\n",
      "  139793888602240: TensorSpec(shape=(), dtype=tf.resource, name=None)\n",
      "  139793888602416: TensorSpec(shape=(), dtype=tf.resource, name=None)\n",
      "  139793888617216: TensorSpec(shape=(), dtype=tf.resource, name=None)\n",
      "  139793888617040: TensorSpec(shape=(), dtype=tf.resource, name=None)\n",
      "  139793888643904: TensorSpec(shape=(), dtype=tf.resource, name=None)\n",
      "  139793888644080: TensorSpec(shape=(), dtype=tf.resource, name=None)\n",
      "  139793888664384: TensorSpec(shape=(), dtype=tf.resource, name=None)\n",
      "  139793888665440: TensorSpec(shape=(), dtype=tf.resource, name=None)\n",
      "  139793888684336: TensorSpec(shape=(), dtype=tf.resource, name=None)\n",
      "  139793888684160: TensorSpec(shape=(), dtype=tf.resource, name=None)\n",
      "  139793888189776: TensorSpec(shape=(), dtype=tf.resource, name=None)\n",
      "  139793888189952: TensorSpec(shape=(), dtype=tf.resource, name=None)\n",
      "  139793888201536: TensorSpec(shape=(), dtype=tf.resource, name=None)\n",
      "  139793888201712: TensorSpec(shape=(), dtype=tf.resource, name=None)\n",
      "  139793888226112: TensorSpec(shape=(), dtype=tf.resource, name=None)\n",
      "  139793888226288: TensorSpec(shape=(), dtype=tf.resource, name=None)\n",
      "  139793888249632: TensorSpec(shape=(), dtype=tf.resource, name=None)\n",
      "  139793888249456: TensorSpec(shape=(), dtype=tf.resource, name=None)\n",
      "  139793888278656: TensorSpec(shape=(), dtype=tf.resource, name=None)\n",
      "  139793888278480: TensorSpec(shape=(), dtype=tf.resource, name=None)\n",
      "  139793888308032: TensorSpec(shape=(), dtype=tf.resource, name=None)\n",
      "  139793888307856: TensorSpec(shape=(), dtype=tf.resource, name=None)\n"
     ]
    },
    {
     "name": "stderr",
     "output_type": "stream",
     "text": [
      "WARNING: All log messages before absl::InitializeLog() is called are written to STDERR\n",
      "W0000 00:00:1721836905.262781  246561 tf_tfl_flatbuffer_helpers.cc:392] Ignored output_format.\n",
      "W0000 00:00:1721836905.262809  246561 tf_tfl_flatbuffer_helpers.cc:395] Ignored drop_control_dependency.\n",
      "2024-07-24 12:01:45.263242: I tensorflow/cc/saved_model/reader.cc:83] Reading SavedModel from: /tmp/tmpxae3cqkx\n",
      "2024-07-24 12:01:45.275117: I tensorflow/cc/saved_model/reader.cc:52] Reading meta graph with tags { serve }\n",
      "2024-07-24 12:01:45.275130: I tensorflow/cc/saved_model/reader.cc:147] Reading SavedModel debug info (if present) from: /tmp/tmpxae3cqkx\n",
      "2024-07-24 12:01:45.382869: I tensorflow/compiler/mlir/mlir_graph_optimization_pass.cc:388] MLIR V1 optimization pass is not enabled\n",
      "2024-07-24 12:01:45.401489: I tensorflow/cc/saved_model/loader.cc:236] Restoring SavedModel bundle.\n",
      "2024-07-24 12:01:46.020365: I tensorflow/cc/saved_model/loader.cc:220] Running initialization op on SavedModel bundle at path: /tmp/tmpxae3cqkx\n",
      "2024-07-24 12:01:46.203096: I tensorflow/cc/saved_model/loader.cc:462] SavedModel load for tags { serve }; Status: success: OK. Took 939855 microseconds.\n",
      "2024-07-24 12:01:46.355526: I tensorflow/compiler/mlir/tensorflow/utils/dump_mlir_util.cc:268] disabling MLIR crash reproducer, set env var `MLIR_CRASH_REPRODUCER_DIRECTORY` to enable.\n"
     ]
    },
    {
     "name": "stdout",
     "output_type": "stream",
     "text": [
      "Model conversion to TensorFlow Lite format complete.\n"
     ]
    }
   ],
   "source": [
    "import tensorflow as tf\n",
    "from model import mobileHART_XS  \n",
    "\n",
    "input_shape = (128, 6)\n",
    "activityCount = 10\n",
    "MHART = mobileHART_XS(input_shape, activityCount)\n",
    "\n",
    "MHART.compile(optimizer='adam', loss='sparse_categorical_crossentropy', metrics=['accuracy'])\n",
    "\n",
    "converter = tf.lite.TFLiteConverter.from_keras_model(MHART)\n",
    "tflite_model = converter.convert()\n",
    "\n",
    "with open('mobilehart_model.tflite', 'wb') as f:\n",
    "    f.write(tflite_model)\n",
    "    \n",
    "print(\"Model conversion to TensorFlow Lite format complete.\")"
   ]
  },
  {
   "cell_type": "code",
   "execution_count": null,
   "id": "4d51cff4",
   "metadata": {},
   "outputs": [],
   "source": []
  }
 ],
 "metadata": {
  "kernelspec": {
   "display_name": "Python 3 (ipykernel)",
   "language": "python",
   "name": "python3"
  },
  "language_info": {
   "codemirror_mode": {
    "name": "ipython",
    "version": 3
   },
   "file_extension": ".py",
   "mimetype": "text/x-python",
   "name": "python",
   "nbconvert_exporter": "python",
   "pygments_lexer": "ipython3",
   "version": "3.9.7"
  }
 },
 "nbformat": 4,
 "nbformat_minor": 5
}
