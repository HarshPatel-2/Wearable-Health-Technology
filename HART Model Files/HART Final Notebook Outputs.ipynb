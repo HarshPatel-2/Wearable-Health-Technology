{
 "cells": [
  {
   "cell_type": "code",
   "execution_count": 2,
   "id": "eda511f4",
   "metadata": {},
   "outputs": [
    {
     "name": "stderr",
     "output_type": "stream",
     "text": [
      "2024-07-18 10:28:03.348915: I tensorflow/core/platform/cpu_feature_guard.cc:210] This TensorFlow binary is optimized to use available CPU instructions in performance-critical operations.\n",
      "To enable the following instructions: AVX2 FMA, in other operations, rebuild TensorFlow with the appropriate compiler flags.\n",
      "2024-07-18 10:28:03.822585: W tensorflow/compiler/tf2tensorrt/utils/py_utils.cc:38] TF-TRT Warning: Could not find TensorRT\n"
     ]
    }
   ],
   "source": [
    "import pandas as pd\n",
    "import numpy as np\n",
    "import model\n",
    "from sklearn.model_selection import train_test_split\n",
    "import tensorflow as tf\n",
    "from tensorflow import keras\n",
    "from tensorflow.keras import layers\n",
    "from sklearn.metrics import classification_report\n",
    "import numpy as np\n",
    "from collections import defaultdict\n",
    "from model import HART, mobileHART_XS\n",
    "tf.keras.backend.set_image_data_format('channels_last')"
   ]
  },
  {
   "cell_type": "code",
   "execution_count": 3,
   "id": "16eb5481",
   "metadata": {},
   "outputs": [
    {
     "name": "stdout",
     "output_type": "stream",
     "text": [
      "Defaulting to user installation because normal site-packages is not writeable\n",
      "Requirement already satisfied: tensorflow in ./.local/lib/python3.9/site-packages (2.16.1)\n",
      "Requirement already satisfied: grpcio<2.0,>=1.24.3 in ./.local/lib/python3.9/site-packages (from tensorflow) (1.63.0)\n",
      "Requirement already satisfied: astunparse>=1.6.0 in ./.local/lib/python3.9/site-packages (from tensorflow) (1.6.3)\n",
      "Requirement already satisfied: ml-dtypes~=0.3.1 in ./.local/lib/python3.9/site-packages (from tensorflow) (0.3.2)\n",
      "Requirement already satisfied: h5py>=3.10.0 in ./.local/lib/python3.9/site-packages (from tensorflow) (3.10.0)\n",
      "Requirement already satisfied: packaging in ./.local/lib/python3.9/site-packages (from tensorflow) (24.0)\n",
      "Requirement already satisfied: six>=1.12.0 in /opt/tljh/user/lib/python3.9/site-packages (from tensorflow) (1.16.0)\n",
      "Requirement already satisfied: flatbuffers>=23.5.26 in ./.local/lib/python3.9/site-packages (from tensorflow) (24.3.25)\n",
      "Requirement already satisfied: typing-extensions>=3.6.6 in ./.local/lib/python3.9/site-packages (from tensorflow) (4.10.0)\n",
      "Requirement already satisfied: termcolor>=1.1.0 in ./.local/lib/python3.9/site-packages (from tensorflow) (2.4.0)\n",
      "Requirement already satisfied: tensorboard<2.17,>=2.16 in ./.local/lib/python3.9/site-packages (from tensorflow) (2.16.2)\n",
      "Requirement already satisfied: wrapt>=1.11.0 in ./.local/lib/python3.9/site-packages (from tensorflow) (1.16.0)\n",
      "Requirement already satisfied: absl-py>=1.0.0 in ./.local/lib/python3.9/site-packages (from tensorflow) (2.1.0)\n",
      "Requirement already satisfied: requests<3,>=2.21.0 in ./.local/lib/python3.9/site-packages (from tensorflow) (2.31.0)\n",
      "Requirement already satisfied: google-pasta>=0.1.1 in ./.local/lib/python3.9/site-packages (from tensorflow) (0.2.0)\n",
      "Requirement already satisfied: numpy<2.0.0,>=1.23.5 in ./.local/lib/python3.9/site-packages (from tensorflow) (1.26.4)\n",
      "Requirement already satisfied: setuptools in /opt/tljh/user/lib/python3.9/site-packages (from tensorflow) (58.2.0)\n",
      "Requirement already satisfied: gast!=0.5.0,!=0.5.1,!=0.5.2,>=0.2.1 in ./.local/lib/python3.9/site-packages (from tensorflow) (0.5.4)\n",
      "Requirement already satisfied: protobuf!=4.21.0,!=4.21.1,!=4.21.2,!=4.21.3,!=4.21.4,!=4.21.5,<5.0.0dev,>=3.20.3 in ./.local/lib/python3.9/site-packages (from tensorflow) (4.25.3)\n",
      "Requirement already satisfied: keras>=3.0.0 in ./.local/lib/python3.9/site-packages (from tensorflow) (3.3.3)\n",
      "Requirement already satisfied: tensorflow-io-gcs-filesystem>=0.23.1 in ./.local/lib/python3.9/site-packages (from tensorflow) (0.37.0)\n",
      "Requirement already satisfied: libclang>=13.0.0 in ./.local/lib/python3.9/site-packages (from tensorflow) (18.1.1)\n",
      "Requirement already satisfied: opt-einsum>=2.3.2 in ./.local/lib/python3.9/site-packages (from tensorflow) (3.3.0)\n",
      "Requirement already satisfied: wheel<1.0,>=0.23.0 in /opt/tljh/user/lib/python3.9/site-packages (from astunparse>=1.6.0->tensorflow) (0.37.0)\n",
      "Requirement already satisfied: optree in ./.local/lib/python3.9/site-packages (from keras>=3.0.0->tensorflow) (0.11.0)\n",
      "Requirement already satisfied: rich in ./.local/lib/python3.9/site-packages (from keras>=3.0.0->tensorflow) (13.7.1)\n",
      "Requirement already satisfied: namex in ./.local/lib/python3.9/site-packages (from keras>=3.0.0->tensorflow) (0.0.8)\n",
      "Requirement already satisfied: urllib3<3,>=1.21.1 in /opt/tljh/user/lib/python3.9/site-packages (from requests<3,>=2.21.0->tensorflow) (1.26.7)\n",
      "Requirement already satisfied: idna<4,>=2.5 in /opt/tljh/user/lib/python3.9/site-packages (from requests<3,>=2.21.0->tensorflow) (3.1)\n",
      "Requirement already satisfied: certifi>=2017.4.17 in /opt/tljh/user/lib/python3.9/site-packages (from requests<3,>=2.21.0->tensorflow) (2022.6.15)\n",
      "Requirement already satisfied: charset-normalizer<4,>=2 in /opt/tljh/user/lib/python3.9/site-packages (from requests<3,>=2.21.0->tensorflow) (2.0.0)\n",
      "Requirement already satisfied: werkzeug>=1.0.1 in ./.local/lib/python3.9/site-packages (from tensorboard<2.17,>=2.16->tensorflow) (3.0.2)\n",
      "Requirement already satisfied: tensorboard-data-server<0.8.0,>=0.7.0 in ./.local/lib/python3.9/site-packages (from tensorboard<2.17,>=2.16->tensorflow) (0.7.2)\n",
      "Requirement already satisfied: markdown>=2.6.8 in ./.local/lib/python3.9/site-packages (from tensorboard<2.17,>=2.16->tensorflow) (3.6)\n",
      "Requirement already satisfied: importlib-metadata>=4.4 in ./.local/lib/python3.9/site-packages (from markdown>=2.6.8->tensorboard<2.17,>=2.16->tensorflow) (8.0.0)\n",
      "Requirement already satisfied: MarkupSafe>=2.1.1 in /opt/tljh/user/lib/python3.9/site-packages (from werkzeug>=1.0.1->tensorboard<2.17,>=2.16->tensorflow) (2.1.1)\n",
      "Requirement already satisfied: markdown-it-py>=2.2.0 in ./.local/lib/python3.9/site-packages (from rich->keras>=3.0.0->tensorflow) (3.0.0)\n",
      "Requirement already satisfied: pygments<3.0.0,>=2.13.0 in ./.local/lib/python3.9/site-packages (from rich->keras>=3.0.0->tensorflow) (2.18.0)\n",
      "Requirement already satisfied: zipp>=0.5 in /opt/tljh/user/lib/python3.9/site-packages (from importlib-metadata>=4.4->markdown>=2.6.8->tensorboard<2.17,>=2.16->tensorflow) (3.8.1)\n",
      "Requirement already satisfied: mdurl~=0.1 in ./.local/lib/python3.9/site-packages (from markdown-it-py>=2.2.0->rich->keras>=3.0.0->tensorflow) (0.1.2)\n"
     ]
    }
   ],
   "source": [
    "! pip install tensorflow"
   ]
  },
  {
   "cell_type": "code",
   "execution_count": 4,
   "id": "de77e82c",
   "metadata": {},
   "outputs": [],
   "source": [
    "columns = ['Accel X (g)', 'Accel Y (g)', 'Accel Z (g)',\n",
    "           'Gyro X (°/s)', 'Gyro Y (°/s)', 'Gyro Z (°/s)', 'Activity_Label']\n",
    "df = pd.read_csv(\"Final_Resampled_HAR_And_Inertia.csv\", header=0, names=columns)"
   ]
  },
  {
   "cell_type": "code",
   "execution_count": 5,
   "id": "1acb1a73",
   "metadata": {},
   "outputs": [],
   "source": [
    "labels = pd.factorize(df['Activity_Label'])[0]\n",
    "\n",
    "feature_columns = df.columns[:-1]\n",
    "data = df[feature_columns].values"
   ]
  },
  {
   "cell_type": "code",
   "execution_count": 6,
   "id": "f7791000",
   "metadata": {
    "scrolled": false
   },
   "outputs": [
    {
     "name": "stderr",
     "output_type": "stream",
     "text": [
      "2024-07-18 10:28:19.900434: I external/local_xla/xla/stream_executor/cuda/cuda_executor.cc:998] successful NUMA node read from SysFS had negative value (-1), but there must be at least one NUMA node, so returning NUMA node zero. See more at https://github.com/torvalds/linux/blob/v6.0/Documentation/ABI/testing/sysfs-bus-pci#L344-L355\n",
      "2024-07-18 10:28:19.900629: I external/local_xla/xla/stream_executor/cuda/cuda_executor.cc:998] successful NUMA node read from SysFS had negative value (-1), but there must be at least one NUMA node, so returning NUMA node zero. See more at https://github.com/torvalds/linux/blob/v6.0/Documentation/ABI/testing/sysfs-bus-pci#L344-L355\n",
      "2024-07-18 10:28:19.919958: I external/local_xla/xla/stream_executor/cuda/cuda_executor.cc:998] successful NUMA node read from SysFS had negative value (-1), but there must be at least one NUMA node, so returning NUMA node zero. See more at https://github.com/torvalds/linux/blob/v6.0/Documentation/ABI/testing/sysfs-bus-pci#L344-L355\n",
      "2024-07-18 10:28:19.920230: I external/local_xla/xla/stream_executor/cuda/cuda_executor.cc:998] successful NUMA node read from SysFS had negative value (-1), but there must be at least one NUMA node, so returning NUMA node zero. See more at https://github.com/torvalds/linux/blob/v6.0/Documentation/ABI/testing/sysfs-bus-pci#L344-L355\n",
      "2024-07-18 10:28:19.920438: I external/local_xla/xla/stream_executor/cuda/cuda_executor.cc:998] successful NUMA node read from SysFS had negative value (-1), but there must be at least one NUMA node, so returning NUMA node zero. See more at https://github.com/torvalds/linux/blob/v6.0/Documentation/ABI/testing/sysfs-bus-pci#L344-L355\n",
      "2024-07-18 10:28:19.920649: I external/local_xla/xla/stream_executor/cuda/cuda_executor.cc:998] successful NUMA node read from SysFS had negative value (-1), but there must be at least one NUMA node, so returning NUMA node zero. See more at https://github.com/torvalds/linux/blob/v6.0/Documentation/ABI/testing/sysfs-bus-pci#L344-L355\n",
      "2024-07-18 10:28:19.997646: I external/local_xla/xla/stream_executor/cuda/cuda_executor.cc:998] successful NUMA node read from SysFS had negative value (-1), but there must be at least one NUMA node, so returning NUMA node zero. See more at https://github.com/torvalds/linux/blob/v6.0/Documentation/ABI/testing/sysfs-bus-pci#L344-L355\n",
      "2024-07-18 10:28:19.997822: I external/local_xla/xla/stream_executor/cuda/cuda_executor.cc:998] successful NUMA node read from SysFS had negative value (-1), but there must be at least one NUMA node, so returning NUMA node zero. See more at https://github.com/torvalds/linux/blob/v6.0/Documentation/ABI/testing/sysfs-bus-pci#L344-L355\n",
      "2024-07-18 10:28:19.997971: I external/local_xla/xla/stream_executor/cuda/cuda_executor.cc:998] successful NUMA node read from SysFS had negative value (-1), but there must be at least one NUMA node, so returning NUMA node zero. See more at https://github.com/torvalds/linux/blob/v6.0/Documentation/ABI/testing/sysfs-bus-pci#L344-L355\n",
      "2024-07-18 10:28:19.998115: I external/local_xla/xla/stream_executor/cuda/cuda_executor.cc:998] successful NUMA node read from SysFS had negative value (-1), but there must be at least one NUMA node, so returning NUMA node zero. See more at https://github.com/torvalds/linux/blob/v6.0/Documentation/ABI/testing/sysfs-bus-pci#L344-L355\n",
      "2024-07-18 10:28:19.998252: I external/local_xla/xla/stream_executor/cuda/cuda_executor.cc:998] successful NUMA node read from SysFS had negative value (-1), but there must be at least one NUMA node, so returning NUMA node zero. See more at https://github.com/torvalds/linux/blob/v6.0/Documentation/ABI/testing/sysfs-bus-pci#L344-L355\n",
      "2024-07-18 10:28:19.998389: I external/local_xla/xla/stream_executor/cuda/cuda_executor.cc:998] successful NUMA node read from SysFS had negative value (-1), but there must be at least one NUMA node, so returning NUMA node zero. See more at https://github.com/torvalds/linux/blob/v6.0/Documentation/ABI/testing/sysfs-bus-pci#L344-L355\n",
      "2024-07-18 10:28:20.004008: I external/local_xla/xla/stream_executor/cuda/cuda_executor.cc:998] successful NUMA node read from SysFS had negative value (-1), but there must be at least one NUMA node, so returning NUMA node zero. See more at https://github.com/torvalds/linux/blob/v6.0/Documentation/ABI/testing/sysfs-bus-pci#L344-L355\n",
      "2024-07-18 10:28:20.004171: I external/local_xla/xla/stream_executor/cuda/cuda_executor.cc:998] successful NUMA node read from SysFS had negative value (-1), but there must be at least one NUMA node, so returning NUMA node zero. See more at https://github.com/torvalds/linux/blob/v6.0/Documentation/ABI/testing/sysfs-bus-pci#L344-L355\n",
      "2024-07-18 10:28:20.004321: I external/local_xla/xla/stream_executor/cuda/cuda_executor.cc:998] successful NUMA node read from SysFS had negative value (-1), but there must be at least one NUMA node, so returning NUMA node zero. See more at https://github.com/torvalds/linux/blob/v6.0/Documentation/ABI/testing/sysfs-bus-pci#L344-L355\n",
      "2024-07-18 10:28:20.004464: I external/local_xla/xla/stream_executor/cuda/cuda_executor.cc:998] successful NUMA node read from SysFS had negative value (-1), but there must be at least one NUMA node, so returning NUMA node zero. See more at https://github.com/torvalds/linux/blob/v6.0/Documentation/ABI/testing/sysfs-bus-pci#L344-L355\n",
      "2024-07-18 10:28:20.004609: I external/local_xla/xla/stream_executor/cuda/cuda_executor.cc:998] successful NUMA node read from SysFS had negative value (-1), but there must be at least one NUMA node, so returning NUMA node zero. See more at https://github.com/torvalds/linux/blob/v6.0/Documentation/ABI/testing/sysfs-bus-pci#L344-L355\n",
      "2024-07-18 10:28:20.004733: I tensorflow/core/common_runtime/gpu/gpu_device.cc:1928] Created device /job:localhost/replica:0/task:0/device:GPU:0 with 22463 MB memory:  -> device: 0, name: NVIDIA GeForce RTX 3090, pci bus id: 0000:0b:00.0, compute capability: 8.6\n",
      "2024-07-18 10:28:20.004927: I external/local_xla/xla/stream_executor/cuda/cuda_executor.cc:998] successful NUMA node read from SysFS had negative value (-1), but there must be at least one NUMA node, so returning NUMA node zero. See more at https://github.com/torvalds/linux/blob/v6.0/Documentation/ABI/testing/sysfs-bus-pci#L344-L355\n",
      "2024-07-18 10:28:20.005041: I tensorflow/core/common_runtime/gpu/gpu_device.cc:1928] Created device /job:localhost/replica:0/task:0/device:GPU:1 with 23792 MB memory:  -> device: 1, name: Quadro P6000, pci bus id: 0000:0a:00.0, compute capability: 6.1\n"
     ]
    }
   ],
   "source": [
    "input_shape = (128, 6)\n",
    "activityCount = 10\n",
    "\n",
    "HART = model.HART(input_shape, activityCount)\n",
    "MobileHART = mobileHART_XS(input_shape, activityCount)"
   ]
  },
  {
   "cell_type": "code",
   "execution_count": 12,
   "id": "109ae18c",
   "metadata": {},
   "outputs": [],
   "source": [
    "def create_overlapping_windows(data, window_size, step_size, features):\n",
    "    segments = []\n",
    "    for start in range(0, len(data) - window_size + 1, step_size):\n",
    "        segment = data[start:start + window_size, :features]\n",
    "        segments.append(segment)\n",
    "    return np.array(segments)\n",
    "\n",
    "window_size = 128\n",
    "step_size = 64\n",
    "num_features = 6\n",
    "\n",
    "reshaped_data = create_overlapping_windows(data, window_size, step_size, num_features)\n",
    "\n",
    "def assign_labels_to_windows(labels, window_size, step_size):\n",
    "    window_labels = []\n",
    "    for start in range(0, len(labels) - window_size + 1, step_size):\n",
    "        window_label = np.bincount(labels[start:start + window_size]).argmax()\n",
    "        window_labels.append(window_label)\n",
    "    return np.array(window_labels)\n",
    "\n",
    "window_labels = assign_labels_to_windows(labels, window_size, step_size)"
   ]
  },
  {
   "cell_type": "code",
   "execution_count": 13,
   "id": "f52b4a15",
   "metadata": {},
   "outputs": [],
   "source": [
    "from sklearn.model_selection import train_test_split\n",
    "\n",
    "X_train, X_test, y_train, y_test = train_test_split(reshaped_data, window_labels, test_size=0.2, random_state=21)"
   ]
  },
  {
   "cell_type": "code",
   "execution_count": 14,
   "id": "2dd014af",
   "metadata": {},
   "outputs": [],
   "source": [
    "HART.compile(optimizer='adam', loss='sparse_categorical_crossentropy', metrics=['accuracy'])"
   ]
  },
  {
   "cell_type": "code",
   "execution_count": 15,
   "id": "525b373d",
   "metadata": {},
   "outputs": [],
   "source": [
    "early_stopping = keras.callbacks.EarlyStopping(\n",
    "    monitor='val_loss',  \n",
    "    patience=5,         \n",
    "    restore_best_weights=True  \n",
    ")"
   ]
  },
  {
   "cell_type": "code",
   "execution_count": 16,
   "id": "d3ad5da4",
   "metadata": {
    "scrolled": false
   },
   "outputs": [
    {
     "name": "stdout",
     "output_type": "stream",
     "text": [
      "Epoch 1/200\n",
      "\u001b[1m  7/621\u001b[0m \u001b[37m━━━━━━━━━━━━━━━━━━━━\u001b[0m \u001b[1m5s\u001b[0m 9ms/step - accuracy: 0.9837 - loss: 0.0543     "
     ]
    },
    {
     "name": "stderr",
     "output_type": "stream",
     "text": [
      "I0000 00:00:1721313609.096818  185318 asm_compiler.cc:369] ptxas warning : Registers are spilled to local memory in function 'input_slice_fusion_2', 4 bytes spill stores, 4 bytes spill loads\n",
      "\n"
     ]
    },
    {
     "name": "stdout",
     "output_type": "stream",
     "text": [
      "\u001b[1m621/621\u001b[0m \u001b[32m━━━━━━━━━━━━━━━━━━━━\u001b[0m\u001b[37m\u001b[0m \u001b[1m87s\u001b[0m 67ms/step - accuracy: 0.9827 - loss: 0.0577 - val_accuracy: 0.9859 - val_loss: 0.0508\n",
      "Epoch 2/200\n",
      "\u001b[1m621/621\u001b[0m \u001b[32m━━━━━━━━━━━━━━━━━━━━\u001b[0m\u001b[37m\u001b[0m \u001b[1m5s\u001b[0m 8ms/step - accuracy: 0.9852 - loss: 0.0499 - val_accuracy: 0.9853 - val_loss: 0.0550\n",
      "Epoch 3/200\n",
      "\u001b[1m621/621\u001b[0m \u001b[32m━━━━━━━━━━━━━━━━━━━━\u001b[0m\u001b[37m\u001b[0m \u001b[1m5s\u001b[0m 8ms/step - accuracy: 0.9873 - loss: 0.0468 - val_accuracy: 0.9896 - val_loss: 0.0394\n",
      "Epoch 4/200\n",
      "\u001b[1m621/621\u001b[0m \u001b[32m━━━━━━━━━━━━━━━━━━━━\u001b[0m\u001b[37m\u001b[0m \u001b[1m5s\u001b[0m 8ms/step - accuracy: 0.9835 - loss: 0.0580 - val_accuracy: 0.9889 - val_loss: 0.0410\n",
      "Epoch 5/200\n",
      "\u001b[1m621/621\u001b[0m \u001b[32m━━━━━━━━━━━━━━━━━━━━\u001b[0m\u001b[37m\u001b[0m \u001b[1m5s\u001b[0m 8ms/step - accuracy: 0.9888 - loss: 0.0372 - val_accuracy: 0.9879 - val_loss: 0.0472\n",
      "Epoch 6/200\n",
      "\u001b[1m621/621\u001b[0m \u001b[32m━━━━━━━━━━━━━━━━━━━━\u001b[0m\u001b[37m\u001b[0m \u001b[1m5s\u001b[0m 8ms/step - accuracy: 0.9889 - loss: 0.0372 - val_accuracy: 0.9872 - val_loss: 0.0439\n",
      "Epoch 7/200\n",
      "\u001b[1m621/621\u001b[0m \u001b[32m━━━━━━━━━━━━━━━━━━━━\u001b[0m\u001b[37m\u001b[0m \u001b[1m5s\u001b[0m 8ms/step - accuracy: 0.9878 - loss: 0.0379 - val_accuracy: 0.9835 - val_loss: 0.0498\n",
      "Epoch 8/200\n",
      "\u001b[1m621/621\u001b[0m \u001b[32m━━━━━━━━━━━━━━━━━━━━\u001b[0m\u001b[37m\u001b[0m \u001b[1m5s\u001b[0m 8ms/step - accuracy: 0.9861 - loss: 0.0398 - val_accuracy: 0.9876 - val_loss: 0.0375\n",
      "Epoch 9/200\n",
      "\u001b[1m621/621\u001b[0m \u001b[32m━━━━━━━━━━━━━━━━━━━━\u001b[0m\u001b[37m\u001b[0m \u001b[1m5s\u001b[0m 8ms/step - accuracy: 0.9877 - loss: 0.0407 - val_accuracy: 0.9893 - val_loss: 0.0352\n",
      "Epoch 10/200\n",
      "\u001b[1m621/621\u001b[0m \u001b[32m━━━━━━━━━━━━━━━━━━━━\u001b[0m\u001b[37m\u001b[0m \u001b[1m5s\u001b[0m 8ms/step - accuracy: 0.9864 - loss: 0.0441 - val_accuracy: 0.9839 - val_loss: 0.0589\n",
      "Epoch 11/200\n",
      "\u001b[1m621/621\u001b[0m \u001b[32m━━━━━━━━━━━━━━━━━━━━\u001b[0m\u001b[37m\u001b[0m \u001b[1m5s\u001b[0m 8ms/step - accuracy: 0.9878 - loss: 0.0381 - val_accuracy: 0.9909 - val_loss: 0.0309\n",
      "Epoch 12/200\n",
      "\u001b[1m621/621\u001b[0m \u001b[32m━━━━━━━━━━━━━━━━━━━━\u001b[0m\u001b[37m\u001b[0m \u001b[1m5s\u001b[0m 8ms/step - accuracy: 0.9908 - loss: 0.0272 - val_accuracy: 0.9846 - val_loss: 0.0527\n",
      "Epoch 13/200\n",
      "\u001b[1m621/621\u001b[0m \u001b[32m━━━━━━━━━━━━━━━━━━━━\u001b[0m\u001b[37m\u001b[0m \u001b[1m5s\u001b[0m 8ms/step - accuracy: 0.9907 - loss: 0.0284 - val_accuracy: 0.9901 - val_loss: 0.0371\n",
      "Epoch 14/200\n",
      "\u001b[1m621/621\u001b[0m \u001b[32m━━━━━━━━━━━━━━━━━━━━\u001b[0m\u001b[37m\u001b[0m \u001b[1m5s\u001b[0m 8ms/step - accuracy: 0.9883 - loss: 0.0332 - val_accuracy: 0.9892 - val_loss: 0.0324\n",
      "Epoch 15/200\n",
      "\u001b[1m621/621\u001b[0m \u001b[32m━━━━━━━━━━━━━━━━━━━━\u001b[0m\u001b[37m\u001b[0m \u001b[1m5s\u001b[0m 8ms/step - accuracy: 0.9911 - loss: 0.0262 - val_accuracy: 0.9899 - val_loss: 0.0323\n",
      "Epoch 16/200\n",
      "\u001b[1m621/621\u001b[0m \u001b[32m━━━━━━━━━━━━━━━━━━━━\u001b[0m\u001b[37m\u001b[0m \u001b[1m5s\u001b[0m 8ms/step - accuracy: 0.9895 - loss: 0.0347 - val_accuracy: 0.9904 - val_loss: 0.0337\n"
     ]
    }
   ],
   "source": [
    "history = HART.fit(X_train, y_train, epochs=200, batch_size=64, validation_data=(X_test, y_test),callbacks=[early_stopping])"
   ]
  },
  {
   "cell_type": "code",
   "execution_count": 17,
   "id": "90f0cb19",
   "metadata": {
    "scrolled": false
   },
   "outputs": [
    {
     "name": "stderr",
     "output_type": "stream",
     "text": [
      "I0000 00:00:1721313737.884014  186917 asm_compiler.cc:369] ptxas warning : Registers are spilled to local memory in function 'triton_gemm_dot_2210', 4 bytes spill stores, 4 bytes spill loads\n",
      "\n"
     ]
    },
    {
     "name": "stdout",
     "output_type": "stream",
     "text": [
      "\u001b[1m311/311\u001b[0m \u001b[32m━━━━━━━━━━━━━━━━━━━━\u001b[0m\u001b[37m\u001b[0m \u001b[1m4s\u001b[0m 2ms/step - accuracy: 0.9891 - loss: 0.0349\n",
      "Test Loss: 0.03103194758296013, Test Accuracy: 0.9907351732254028\n"
     ]
    }
   ],
   "source": [
    "performance = HART.evaluate(X_test, y_test)\n",
    "print(f\"Test Loss: {performance[0]}, Test Accuracy: {performance[1]}\")"
   ]
  },
  {
   "cell_type": "code",
   "execution_count": 18,
   "id": "32dded76",
   "metadata": {
    "scrolled": false
   },
   "outputs": [
    {
     "name": "stdout",
     "output_type": "stream",
     "text": [
      "\u001b[1m311/311\u001b[0m \u001b[32m━━━━━━━━━━━━━━━━━━━━\u001b[0m\u001b[37m\u001b[0m \u001b[1m4s\u001b[0m 8ms/step\n",
      "              precision    recall  f1-score   support\n",
      "\n",
      "     Class 0       0.99      0.99      0.99       980\n",
      "     Class 1       1.00      1.00      1.00       945\n",
      "     Class 2       1.00      0.99      0.99      1012\n",
      "     Class 3       1.00      0.99      1.00       985\n",
      "     Class 4       0.98      1.00      0.99       989\n",
      "     Class 5       0.99      1.00      1.00       987\n",
      "     Class 6       0.97      0.99      0.98      1022\n",
      "     Class 7       0.98      0.98      0.98       990\n",
      "     Class 8       1.00      0.97      0.98      1002\n",
      "     Class 9       0.99      0.99      0.99      1018\n",
      "\n",
      "    accuracy                           0.99      9930\n",
      "   macro avg       0.99      0.99      0.99      9930\n",
      "weighted avg       0.99      0.99      0.99      9930\n",
      "\n"
     ]
    }
   ],
   "source": [
    "y_pred_prob = HART.predict(X_test)  \n",
    "y_pred = np.argmax(y_pred_prob, axis=1)  \n",
    "\n",
    "report = classification_report(y_test, y_pred, target_names=[f\"Class {i}\" for i in range(activityCount)])\n",
    "\n",
    "print(report)"
   ]
  },
  {
   "cell_type": "markdown",
   "id": "656ac1df",
   "metadata": {},
   "source": [
    "# Testing the trained model on HAR data"
   ]
  },
  {
   "cell_type": "code",
   "execution_count": 19,
   "id": "3611519d",
   "metadata": {},
   "outputs": [
    {
     "name": "stdout",
     "output_type": "stream",
     "text": [
      "\u001b[1m1544/1552\u001b[0m \u001b[32m━━━━━━━━━━━━━━━━━━━\u001b[0m\u001b[37m━\u001b[0m \u001b[1m0s\u001b[0m 2ms/step - accuracy: 0.9800 - loss: 0.0583"
     ]
    },
    {
     "name": "stderr",
     "output_type": "stream",
     "text": [
      "I0000 00:00:1721313780.400366  187011 asm_compiler.cc:369] ptxas warning : Registers are spilled to local memory in function 'triton_gemm_dot_2210', 16 bytes spill stores, 16 bytes spill loads\n",
      "\n"
     ]
    },
    {
     "name": "stdout",
     "output_type": "stream",
     "text": [
      "\u001b[1m1552/1552\u001b[0m \u001b[32m━━━━━━━━━━━━━━━━━━━━\u001b[0m\u001b[37m\u001b[0m \u001b[1m6s\u001b[0m 4ms/step - accuracy: 0.9801 - loss: 0.0581\n",
      "Test Loss: 0.02030979096889496, Test Accuracy: 0.9935946464538574\n"
     ]
    }
   ],
   "source": [
    "test_columns = ['Accel X (g)', 'Accel Y (g)', 'Accel Z (g)', \n",
    "           'Gyro X (°/s)', 'Gyro Y (°/s)', 'Gyro Z (°/s)', \n",
    "           'Activity_Label']\n",
    "\n",
    "test_df = pd.read_csv(\"Final_Resampled_HAR_And_Inertia.csv\", header=0, names =test_columns)\n",
    "\n",
    "test_labels = pd.factorize(test_df['Activity_Label'])[0]\n",
    "\n",
    "test_feature_columns = test_df.columns[:-1]  \n",
    "test_data = test_df[test_feature_columns].values\n",
    "\n",
    "test_reshaped_data = create_overlapping_windows(test_data, window_size, step_size, num_features)\n",
    "\n",
    "test_window_labels = assign_labels_to_windows(test_labels, window_size, step_size)\n",
    "\n",
    "test_performance = HART.evaluate(test_reshaped_data, test_window_labels)\n",
    "print(f\"Test Loss: {test_performance[0]}, Test Accuracy: {test_performance[1]}\")"
   ]
  },
  {
   "cell_type": "code",
   "execution_count": 20,
   "id": "324bafa4",
   "metadata": {},
   "outputs": [
    {
     "name": "stdout",
     "output_type": "stream",
     "text": [
      "\u001b[1m1552/1552\u001b[0m \u001b[32m━━━━━━━━━━━━━━━━━━━━\u001b[0m\u001b[37m\u001b[0m \u001b[1m5s\u001b[0m 3ms/step\n",
      "              precision    recall  f1-score   support\n",
      "\n",
      "           0       1.00      0.99      0.99      4964\n",
      "           1       1.00      1.00      1.00      4965\n",
      "           2       1.00      0.99      1.00      4965\n",
      "           3       1.00      1.00      1.00      4964\n",
      "           4       0.99      1.00      0.99      4965\n",
      "           5       1.00      1.00      1.00      4965\n",
      "           6       0.98      1.00      0.99      4964\n",
      "           7       0.99      0.99      0.99      4965\n",
      "           8       1.00      0.98      0.99      4964\n",
      "           9       0.99      0.99      0.99      4965\n",
      "\n",
      "    accuracy                           0.99     49646\n",
      "   macro avg       0.99      0.99      0.99     49646\n",
      "weighted avg       0.99      0.99      0.99     49646\n",
      "\n"
     ]
    }
   ],
   "source": [
    "test_predictions = HART.predict(test_reshaped_data)\n",
    "test_predictions = np.argmax(test_predictions, axis=1)\n",
    "\n",
    "print(classification_report(test_window_labels, test_predictions))"
   ]
  },
  {
   "cell_type": "code",
   "execution_count": 21,
   "id": "a80cd7c3",
   "metadata": {},
   "outputs": [
    {
     "name": "stdout",
     "output_type": "stream",
     "text": [
      "                   Label  Count  Total     Ratio\n",
      "17  actual_5_predicted_5   4963   4965  0.999597\n",
      "37  actual_1_predicted_1   4960   4965  0.998993\n",
      "14  actual_4_predicted_4   4960   4965  0.998993\n",
      "19  actual_6_predicted_6   4951   4964  0.997381\n",
      "11  actual_3_predicted_3   4941   4964  0.995367\n",
      "9   actual_2_predicted_2   4926   4965  0.992145\n",
      "34  actual_9_predicted_9   4923   4965  0.991541\n",
      "3   actual_0_predicted_0   4919   4964  0.990935\n",
      "25  actual_7_predicted_7   4919   4965  0.990735\n",
      "28  actual_8_predicted_8   4866   4964  0.980258\n",
      "29  actual_8_predicted_7     51   4964  0.010274\n",
      "33  actual_9_predicted_6     40   4965  0.008056\n",
      "0   actual_0_predicted_4     35   4964  0.007051\n",
      "26  actual_7_predicted_6     29   4965  0.005841\n",
      "31  actual_8_predicted_6     25   4964  0.005036\n",
      "32  actual_8_predicted_9     20   4964  0.004029\n",
      "13  actual_3_predicted_4     18   4964  0.003626\n",
      "10  actual_2_predicted_0     17   4965  0.003424\n",
      "7   actual_2_predicted_4     16   4965  0.003223\n",
      "24  actual_7_predicted_5     15   4965  0.003021\n",
      "21  actual_6_predicted_9      6   4964  0.001209\n",
      "20  actual_6_predicted_7      5   4964  0.001007\n",
      "1   actual_0_predicted_1      5   4964  0.001007\n",
      "12  actual_3_predicted_1      5   4964  0.001007\n",
      "5   actual_1_predicted_4      5   4965  0.001007\n",
      "6   actual_2_predicted_3      4   4965  0.000806\n",
      "2   actual_0_predicted_2      3   4964  0.000604\n",
      "15  actual_4_predicted_1      3   4965  0.000604\n",
      "30  actual_8_predicted_5      2   4964  0.000403\n",
      "4   actual_0_predicted_3      2   4964  0.000403\n",
      "27  actual_7_predicted_8      2   4965  0.000403\n",
      "18  actual_5_predicted_8      2   4965  0.000403\n",
      "8   actual_2_predicted_1      2   4965  0.000403\n",
      "16  actual_4_predicted_3      2   4965  0.000403\n",
      "22  actual_6_predicted_8      1   4964  0.000201\n",
      "23  actual_6_predicted_5      1   4964  0.000201\n",
      "35  actual_9_predicted_8      1   4965  0.000201\n",
      "36  actual_9_predicted_7      1   4965  0.000201\n"
     ]
    }
   ],
   "source": [
    "label_counts = defaultdict(int)\n",
    "total_counts = defaultdict(int)\n",
    "\n",
    "for i in range(len(test_window_labels)):\n",
    "    actual_label = test_window_labels[i]\n",
    "    predicted_label = test_predictions[i]\n",
    "    label_counts[f\"actual_{actual_label}_predicted_{predicted_label}\"] += 1\n",
    "    total_counts[f\"actual{actual_label}\"] += 1\n",
    "\n",
    "data = []\n",
    "for label, count in label_counts.items():\n",
    "    actual_label = label.split(\"_\")[1]\n",
    "    total = total_counts[f\"actual{actual_label}\"]\n",
    "    ratio = count / total if total > 0 else 0\n",
    "    data.append([label, count, total, ratio])\n",
    "\n",
    "results_df = pd.DataFrame(data, columns=[\"Label\", \"Count\", \"Total\", \"Ratio\"])\n",
    "results_df.sort_values(by=\"Ratio\", ascending=False, inplace=True)\n",
    "print(results_df)"
   ]
  },
  {
   "cell_type": "code",
   "execution_count": 22,
   "id": "6b2cb189",
   "metadata": {},
   "outputs": [
    {
     "name": "stdout",
     "output_type": "stream",
     "text": [
      "Tweaked Classification Report for HART trained on HAR dataset\n"
     ]
    },
    {
     "data": {
      "text/html": [
       "<div>\n",
       "<style scoped>\n",
       "    .dataframe tbody tr th:only-of-type {\n",
       "        vertical-align: middle;\n",
       "    }\n",
       "\n",
       "    .dataframe tbody tr th {\n",
       "        vertical-align: top;\n",
       "    }\n",
       "\n",
       "    .dataframe thead th {\n",
       "        text-align: right;\n",
       "    }\n",
       "</style>\n",
       "<table border=\"1\" class=\"dataframe\">\n",
       "  <thead>\n",
       "    <tr style=\"text-align: right;\">\n",
       "      <th></th>\n",
       "      <th>Label</th>\n",
       "      <th>Count</th>\n",
       "      <th>Total</th>\n",
       "      <th>Ratio</th>\n",
       "    </tr>\n",
       "  </thead>\n",
       "  <tbody>\n",
       "    <tr>\n",
       "      <th>17</th>\n",
       "      <td>actual_5_predicted_5</td>\n",
       "      <td>4963</td>\n",
       "      <td>4965</td>\n",
       "      <td>0.999597</td>\n",
       "    </tr>\n",
       "    <tr>\n",
       "      <th>37</th>\n",
       "      <td>actual_1_predicted_1</td>\n",
       "      <td>4960</td>\n",
       "      <td>4965</td>\n",
       "      <td>0.998993</td>\n",
       "    </tr>\n",
       "    <tr>\n",
       "      <th>14</th>\n",
       "      <td>actual_4_predicted_4</td>\n",
       "      <td>4960</td>\n",
       "      <td>4965</td>\n",
       "      <td>0.998993</td>\n",
       "    </tr>\n",
       "    <tr>\n",
       "      <th>19</th>\n",
       "      <td>actual_6_predicted_6</td>\n",
       "      <td>4951</td>\n",
       "      <td>4964</td>\n",
       "      <td>0.997381</td>\n",
       "    </tr>\n",
       "    <tr>\n",
       "      <th>11</th>\n",
       "      <td>actual_3_predicted_3</td>\n",
       "      <td>4941</td>\n",
       "      <td>4964</td>\n",
       "      <td>0.995367</td>\n",
       "    </tr>\n",
       "    <tr>\n",
       "      <th>9</th>\n",
       "      <td>actual_2_predicted_2</td>\n",
       "      <td>4926</td>\n",
       "      <td>4965</td>\n",
       "      <td>0.992145</td>\n",
       "    </tr>\n",
       "    <tr>\n",
       "      <th>34</th>\n",
       "      <td>actual_9_predicted_9</td>\n",
       "      <td>4923</td>\n",
       "      <td>4965</td>\n",
       "      <td>0.991541</td>\n",
       "    </tr>\n",
       "    <tr>\n",
       "      <th>3</th>\n",
       "      <td>actual_0_predicted_0</td>\n",
       "      <td>4919</td>\n",
       "      <td>4964</td>\n",
       "      <td>0.990935</td>\n",
       "    </tr>\n",
       "    <tr>\n",
       "      <th>25</th>\n",
       "      <td>actual_7_predicted_7</td>\n",
       "      <td>4919</td>\n",
       "      <td>4965</td>\n",
       "      <td>0.990735</td>\n",
       "    </tr>\n",
       "    <tr>\n",
       "      <th>28</th>\n",
       "      <td>actual_8_predicted_8</td>\n",
       "      <td>4866</td>\n",
       "      <td>4964</td>\n",
       "      <td>0.980258</td>\n",
       "    </tr>\n",
       "    <tr>\n",
       "      <th>29</th>\n",
       "      <td>actual_8_predicted_7</td>\n",
       "      <td>51</td>\n",
       "      <td>4964</td>\n",
       "      <td>0.010274</td>\n",
       "    </tr>\n",
       "    <tr>\n",
       "      <th>33</th>\n",
       "      <td>actual_9_predicted_6</td>\n",
       "      <td>40</td>\n",
       "      <td>4965</td>\n",
       "      <td>0.008056</td>\n",
       "    </tr>\n",
       "    <tr>\n",
       "      <th>0</th>\n",
       "      <td>actual_0_predicted_4</td>\n",
       "      <td>35</td>\n",
       "      <td>4964</td>\n",
       "      <td>0.007051</td>\n",
       "    </tr>\n",
       "    <tr>\n",
       "      <th>26</th>\n",
       "      <td>actual_7_predicted_6</td>\n",
       "      <td>29</td>\n",
       "      <td>4965</td>\n",
       "      <td>0.005841</td>\n",
       "    </tr>\n",
       "    <tr>\n",
       "      <th>31</th>\n",
       "      <td>actual_8_predicted_6</td>\n",
       "      <td>25</td>\n",
       "      <td>4964</td>\n",
       "      <td>0.005036</td>\n",
       "    </tr>\n",
       "    <tr>\n",
       "      <th>32</th>\n",
       "      <td>actual_8_predicted_9</td>\n",
       "      <td>20</td>\n",
       "      <td>4964</td>\n",
       "      <td>0.004029</td>\n",
       "    </tr>\n",
       "    <tr>\n",
       "      <th>13</th>\n",
       "      <td>actual_3_predicted_4</td>\n",
       "      <td>18</td>\n",
       "      <td>4964</td>\n",
       "      <td>0.003626</td>\n",
       "    </tr>\n",
       "    <tr>\n",
       "      <th>10</th>\n",
       "      <td>actual_2_predicted_0</td>\n",
       "      <td>17</td>\n",
       "      <td>4965</td>\n",
       "      <td>0.003424</td>\n",
       "    </tr>\n",
       "    <tr>\n",
       "      <th>7</th>\n",
       "      <td>actual_2_predicted_4</td>\n",
       "      <td>16</td>\n",
       "      <td>4965</td>\n",
       "      <td>0.003223</td>\n",
       "    </tr>\n",
       "    <tr>\n",
       "      <th>24</th>\n",
       "      <td>actual_7_predicted_5</td>\n",
       "      <td>15</td>\n",
       "      <td>4965</td>\n",
       "      <td>0.003021</td>\n",
       "    </tr>\n",
       "  </tbody>\n",
       "</table>\n",
       "</div>"
      ],
      "text/plain": [
       "                   Label  Count  Total     Ratio\n",
       "17  actual_5_predicted_5   4963   4965  0.999597\n",
       "37  actual_1_predicted_1   4960   4965  0.998993\n",
       "14  actual_4_predicted_4   4960   4965  0.998993\n",
       "19  actual_6_predicted_6   4951   4964  0.997381\n",
       "11  actual_3_predicted_3   4941   4964  0.995367\n",
       "9   actual_2_predicted_2   4926   4965  0.992145\n",
       "34  actual_9_predicted_9   4923   4965  0.991541\n",
       "3   actual_0_predicted_0   4919   4964  0.990935\n",
       "25  actual_7_predicted_7   4919   4965  0.990735\n",
       "28  actual_8_predicted_8   4866   4964  0.980258\n",
       "29  actual_8_predicted_7     51   4964  0.010274\n",
       "33  actual_9_predicted_6     40   4965  0.008056\n",
       "0   actual_0_predicted_4     35   4964  0.007051\n",
       "26  actual_7_predicted_6     29   4965  0.005841\n",
       "31  actual_8_predicted_6     25   4964  0.005036\n",
       "32  actual_8_predicted_9     20   4964  0.004029\n",
       "13  actual_3_predicted_4     18   4964  0.003626\n",
       "10  actual_2_predicted_0     17   4965  0.003424\n",
       "7   actual_2_predicted_4     16   4965  0.003223\n",
       "24  actual_7_predicted_5     15   4965  0.003021"
      ]
     },
     "execution_count": 22,
     "metadata": {},
     "output_type": "execute_result"
    }
   ],
   "source": [
    "print ('''Tweaked Classification Report for HART trained on HAR dataset''')\n",
    "results_df.head(20)"
   ]
  },
  {
   "cell_type": "markdown",
   "id": "bbb21538",
   "metadata": {},
   "source": [
    "# HART Trained on HAR and Inertia dataset finetuning on 30% of the Data"
   ]
  },
  {
   "cell_type": "code",
   "execution_count": 23,
   "id": "a950996c",
   "metadata": {},
   "outputs": [],
   "source": [
    "columns = ['Accel X (g)', 'Accel Y (g)', 'Accel Z (g)', \n",
    "           'Gyro X (°/s)', 'Gyro Y (°/s)', 'Gyro Z (°/s)', \n",
    "           'Activity_Label']\n",
    "\n",
    "df = pd.read_csv(\"Final_Resampled_HAR_And_Inertia.csv\", header=0, names = columns)\n",
    "\n",
    "from sklearn.preprocessing import LabelEncoder\n",
    "\n",
    "LE = LabelEncoder()\n",
    "df['Activity_Label'] = LE.fit_transform(df['Activity_Label'])"
   ]
  },
  {
   "cell_type": "code",
   "execution_count": 24,
   "id": "849db6b1",
   "metadata": {},
   "outputs": [
    {
     "name": "stdout",
     "output_type": "stream",
     "text": [
      "Epoch 1/200\n",
      "\u001b[1m186/187\u001b[0m \u001b[32m━━━━━━━━━━━━━━━━━━━\u001b[0m\u001b[37m━\u001b[0m \u001b[1m0s\u001b[0m 8ms/step - accuracy: 0.8398 - loss: 1.1345"
     ]
    },
    {
     "name": "stderr",
     "output_type": "stream",
     "text": [
      "I0000 00:00:1721313832.763961  187101 asm_compiler.cc:369] ptxas warning : Registers are spilled to local memory in function 'triton_gemm_dot_21996', 4 bytes spill stores, 4 bytes spill loads\n",
      "\n",
      "I0000 00:00:1721313833.368138  187104 asm_compiler.cc:369] ptxas warning : Registers are spilled to local memory in function 'triton_gemm_dot_60', 172 bytes spill stores, 172 bytes spill loads\n",
      "\n",
      "I0000 00:00:1721313834.891016  187098 asm_compiler.cc:369] ptxas warning : Registers are spilled to local memory in function 'triton_gemm_dot_110', 140 bytes spill stores, 140 bytes spill loads\n",
      "\n"
     ]
    },
    {
     "name": "stdout",
     "output_type": "stream",
     "text": [
      "\u001b[1m187/187\u001b[0m \u001b[32m━━━━━━━━━━━━━━━━━━━━\u001b[0m\u001b[37m\u001b[0m \u001b[1m0s\u001b[0m 193ms/step - accuracy: 0.8403 - loss: 1.1302"
     ]
    },
    {
     "name": "stderr",
     "output_type": "stream",
     "text": [
      "I0000 00:00:1721313855.717151  187208 asm_compiler.cc:369] ptxas warning : Registers are spilled to local memory in function 'triton_gemm_dot_2210', 72 bytes spill stores, 120 bytes spill loads\n",
      "\n"
     ]
    },
    {
     "name": "stdout",
     "output_type": "stream",
     "text": [
      "\u001b[1m187/187\u001b[0m \u001b[32m━━━━━━━━━━━━━━━━━━━━\u001b[0m\u001b[37m\u001b[0m \u001b[1m39s\u001b[0m 210ms/step - accuracy: 0.8408 - loss: 1.1260 - val_accuracy: 0.9832 - val_loss: 0.0607\n",
      "Epoch 2/200\n",
      "\u001b[1m187/187\u001b[0m \u001b[32m━━━━━━━━━━━━━━━━━━━━\u001b[0m\u001b[37m\u001b[0m \u001b[1m2s\u001b[0m 9ms/step - accuracy: 0.9740 - loss: 0.0926 - val_accuracy: 0.9896 - val_loss: 0.0301\n",
      "Epoch 3/200\n",
      "\u001b[1m187/187\u001b[0m \u001b[32m━━━━━━━━━━━━━━━━━━━━\u001b[0m\u001b[37m\u001b[0m \u001b[1m2s\u001b[0m 9ms/step - accuracy: 0.9897 - loss: 0.0392 - val_accuracy: 0.9919 - val_loss: 0.0225\n",
      "Epoch 4/200\n",
      "\u001b[1m187/187\u001b[0m \u001b[32m━━━━━━━━━━━━━━━━━━━━\u001b[0m\u001b[37m\u001b[0m \u001b[1m2s\u001b[0m 8ms/step - accuracy: 0.9924 - loss: 0.0308 - val_accuracy: 0.9876 - val_loss: 0.0357\n",
      "Epoch 5/200\n",
      "\u001b[1m187/187\u001b[0m \u001b[32m━━━━━━━━━━━━━━━━━━━━\u001b[0m\u001b[37m\u001b[0m \u001b[1m2s\u001b[0m 9ms/step - accuracy: 0.9899 - loss: 0.0354 - val_accuracy: 0.9930 - val_loss: 0.0206\n",
      "Epoch 6/200\n",
      "\u001b[1m187/187\u001b[0m \u001b[32m━━━━━━━━━━━━━━━━━━━━\u001b[0m\u001b[37m\u001b[0m \u001b[1m2s\u001b[0m 9ms/step - accuracy: 0.9908 - loss: 0.0314 - val_accuracy: 0.9930 - val_loss: 0.0202\n",
      "Epoch 7/200\n",
      "\u001b[1m187/187\u001b[0m \u001b[32m━━━━━━━━━━━━━━━━━━━━\u001b[0m\u001b[37m\u001b[0m \u001b[1m2s\u001b[0m 9ms/step - accuracy: 0.9918 - loss: 0.0258 - val_accuracy: 0.9923 - val_loss: 0.0214\n",
      "Epoch 8/200\n",
      "\u001b[1m187/187\u001b[0m \u001b[32m━━━━━━━━━━━━━━━━━━━━\u001b[0m\u001b[37m\u001b[0m \u001b[1m2s\u001b[0m 8ms/step - accuracy: 0.9931 - loss: 0.0232 - val_accuracy: 0.9933 - val_loss: 0.0208\n",
      "Epoch 9/200\n",
      "\u001b[1m187/187\u001b[0m \u001b[32m━━━━━━━━━━━━━━━━━━━━\u001b[0m\u001b[37m\u001b[0m \u001b[1m2s\u001b[0m 9ms/step - accuracy: 0.9917 - loss: 0.0321 - val_accuracy: 0.9919 - val_loss: 0.0193\n",
      "Epoch 10/200\n",
      "\u001b[1m187/187\u001b[0m \u001b[32m━━━━━━━━━━━━━━━━━━━━\u001b[0m\u001b[37m\u001b[0m \u001b[1m2s\u001b[0m 9ms/step - accuracy: 0.9918 - loss: 0.0282 - val_accuracy: 0.9946 - val_loss: 0.0170\n",
      "Epoch 11/200\n",
      "\u001b[1m187/187\u001b[0m \u001b[32m━━━━━━━━━━━━━━━━━━━━\u001b[0m\u001b[37m\u001b[0m \u001b[1m2s\u001b[0m 8ms/step - accuracy: 0.9913 - loss: 0.0262 - val_accuracy: 0.9936 - val_loss: 0.0195\n",
      "Epoch 12/200\n",
      "\u001b[1m187/187\u001b[0m \u001b[32m━━━━━━━━━━━━━━━━━━━━\u001b[0m\u001b[37m\u001b[0m \u001b[1m2s\u001b[0m 9ms/step - accuracy: 0.9881 - loss: 0.0346 - val_accuracy: 0.9933 - val_loss: 0.0202\n",
      "Epoch 13/200\n",
      "\u001b[1m187/187\u001b[0m \u001b[32m━━━━━━━━━━━━━━━━━━━━\u001b[0m\u001b[37m\u001b[0m \u001b[1m2s\u001b[0m 9ms/step - accuracy: 0.9928 - loss: 0.0212 - val_accuracy: 0.9903 - val_loss: 0.0340\n",
      "Epoch 14/200\n",
      "\u001b[1m187/187\u001b[0m \u001b[32m━━━━━━━━━━━━━━━━━━━━\u001b[0m\u001b[37m\u001b[0m \u001b[1m2s\u001b[0m 9ms/step - accuracy: 0.9930 - loss: 0.0230 - val_accuracy: 0.9916 - val_loss: 0.0259\n",
      "Epoch 15/200\n",
      "\u001b[1m187/187\u001b[0m \u001b[32m━━━━━━━━━━━━━━━━━━━━\u001b[0m\u001b[37m\u001b[0m \u001b[1m2s\u001b[0m 9ms/step - accuracy: 0.9926 - loss: 0.0235 - val_accuracy: 0.9930 - val_loss: 0.0199\n"
     ]
    },
    {
     "data": {
      "text/plain": [
       "<keras.src.callbacks.history.History at 0x7f14f9758220>"
      ]
     },
     "execution_count": 24,
     "metadata": {},
     "output_type": "execute_result"
    }
   ],
   "source": [
    "features = df.columns[:-1]  \n",
    "labels_encoded = df['Activity_Label'].values\n",
    "\n",
    "data_filtered = df[features].values\n",
    "\n",
    "window_size = 128\n",
    "step_size = 64\n",
    "num_features = 6\n",
    "\n",
    "reshaped_data_filtered = create_overlapping_windows(data_filtered, window_size, step_size, num_features)\n",
    "\n",
    "window_labels_filtered = assign_labels_to_windows(labels_encoded, window_size, step_size)\n",
    "\n",
    "X_fine_tune, X_test_new, y_fine_tune, y_test_new = train_test_split(reshaped_data_filtered, window_labels_filtered, test_size=0.7, random_state=21)\n",
    "\n",
    "HART.fit(X_fine_tune, y_fine_tune, epochs=200, batch_size=64, validation_split=0.2, callbacks=[early_stopping])"
   ]
  },
  {
   "cell_type": "code",
   "execution_count": 25,
   "id": "6a2508cf",
   "metadata": {},
   "outputs": [
    {
     "name": "stdout",
     "output_type": "stream",
     "text": [
      "\u001b[1m1087/1087\u001b[0m \u001b[32m━━━━━━━━━━━━━━━━━━━━\u001b[0m\u001b[37m\u001b[0m \u001b[1m4s\u001b[0m 3ms/step - accuracy: 0.9900 - loss: 0.0341\n",
      "Test Loss: 0.02654147520661354, Test Accuracy: 0.9923459887504578\n"
     ]
    }
   ],
   "source": [
    "performance_new = HART.evaluate(X_test_new, y_test_new)\n",
    "print(f\"Test Loss: {performance_new[0]}, Test Accuracy: {performance_new[1]}\")"
   ]
  },
  {
   "cell_type": "markdown",
   "id": "3b169e40",
   "metadata": {},
   "source": [
    "# HART Trained on HAR and Inertia dataset finetuning on 80% of the Data"
   ]
  },
  {
   "cell_type": "code",
   "execution_count": 26,
   "id": "2cc45248",
   "metadata": {},
   "outputs": [
    {
     "name": "stdout",
     "output_type": "stream",
     "text": [
      "Epoch 1/200\n",
      "\u001b[1m  7/621\u001b[0m \u001b[37m━━━━━━━━━━━━━━━━━━━━\u001b[0m \u001b[1m5s\u001b[0m 9ms/step - accuracy: 0.4023 - loss: 6.6273     "
     ]
    },
    {
     "name": "stderr",
     "output_type": "stream",
     "text": [
      "I0000 00:00:1721313945.142357  185319 asm_compiler.cc:369] ptxas warning : Registers are spilled to local memory in function 'input_slice_fusion_2', 4 bytes spill stores, 4 bytes spill loads\n",
      "\n"
     ]
    },
    {
     "name": "stdout",
     "output_type": "stream",
     "text": [
      "\u001b[1m621/621\u001b[0m \u001b[32m━━━━━━━━━━━━━━━━━━━━\u001b[0m\u001b[37m\u001b[0m \u001b[1m88s\u001b[0m 67ms/step - accuracy: 0.8935 - loss: 0.5675 - val_accuracy: 0.9930 - val_loss: 0.0232\n",
      "Epoch 2/200\n",
      "\u001b[1m621/621\u001b[0m \u001b[32m━━━━━━━━━━━━━━━━━━━━\u001b[0m\u001b[37m\u001b[0m \u001b[1m5s\u001b[0m 9ms/step - accuracy: 0.9887 - loss: 0.0360 - val_accuracy: 0.9934 - val_loss: 0.0210\n",
      "Epoch 3/200\n",
      "\u001b[1m621/621\u001b[0m \u001b[32m━━━━━━━━━━━━━━━━━━━━\u001b[0m\u001b[37m\u001b[0m \u001b[1m5s\u001b[0m 8ms/step - accuracy: 0.9895 - loss: 0.0359 - val_accuracy: 0.9914 - val_loss: 0.0245\n",
      "Epoch 4/200\n",
      "\u001b[1m621/621\u001b[0m \u001b[32m━━━━━━━━━━━━━━━━━━━━\u001b[0m\u001b[37m\u001b[0m \u001b[1m5s\u001b[0m 8ms/step - accuracy: 0.9904 - loss: 0.0293 - val_accuracy: 0.9933 - val_loss: 0.0209\n",
      "Epoch 5/200\n",
      "\u001b[1m621/621\u001b[0m \u001b[32m━━━━━━━━━━━━━━━━━━━━\u001b[0m\u001b[37m\u001b[0m \u001b[1m5s\u001b[0m 8ms/step - accuracy: 0.9913 - loss: 0.0276 - val_accuracy: 0.9878 - val_loss: 0.0363\n",
      "Epoch 6/200\n",
      "\u001b[1m621/621\u001b[0m \u001b[32m━━━━━━━━━━━━━━━━━━━━\u001b[0m\u001b[37m\u001b[0m \u001b[1m5s\u001b[0m 8ms/step - accuracy: 0.9907 - loss: 0.0309 - val_accuracy: 0.9930 - val_loss: 0.0289\n",
      "Epoch 7/200\n",
      "\u001b[1m621/621\u001b[0m \u001b[32m━━━━━━━━━━━━━━━━━━━━\u001b[0m\u001b[37m\u001b[0m \u001b[1m5s\u001b[0m 8ms/step - accuracy: 0.9915 - loss: 0.0260 - val_accuracy: 0.9927 - val_loss: 0.0232\n",
      "Epoch 8/200\n",
      "\u001b[1m621/621\u001b[0m \u001b[32m━━━━━━━━━━━━━━━━━━━━\u001b[0m\u001b[37m\u001b[0m \u001b[1m5s\u001b[0m 8ms/step - accuracy: 0.9912 - loss: 0.0262 - val_accuracy: 0.9920 - val_loss: 0.0236\n",
      "Epoch 9/200\n",
      "\u001b[1m621/621\u001b[0m \u001b[32m━━━━━━━━━━━━━━━━━━━━\u001b[0m\u001b[37m\u001b[0m \u001b[1m5s\u001b[0m 8ms/step - accuracy: 0.9908 - loss: 0.0272 - val_accuracy: 0.9910 - val_loss: 0.0295\n"
     ]
    }
   ],
   "source": [
    "columns = ['Accel X (g)', 'Accel Y (g)', 'Accel Z (g)', \n",
    "           'Gyro X (°/s)', 'Gyro Y (°/s)', 'Gyro Z (°/s)', \n",
    "           'Activity_Label']\n",
    "df = pd.read_csv(\"Final_Resampled_HAR_And_Inertia.csv\", header=0, names=columns)\n",
    "labels = pd.factorize(df['Activity_Label'])[0]\n",
    "\n",
    "feature_columns = df.columns[:-1]  \n",
    "data = df[feature_columns].values\n",
    "\n",
    "def create_overlapping_windows(data, window_size, step_size, features):\n",
    "    segments = []\n",
    "    for start in range(0, len(data) - window_size + 1, step_size):\n",
    "        segment = data[start:start + window_size, :features]\n",
    "        segments.append(segment)\n",
    "    return np.array(segments)\n",
    "\n",
    "window_size = 128  \n",
    "step_size = 64    \n",
    "num_features = 6 \n",
    "\n",
    "reshaped_data = create_overlapping_windows(data, window_size, step_size, num_features)\n",
    "\n",
    "\n",
    "def assign_labels_to_windows(labels, window_size, step_size):\n",
    "    window_labels = []\n",
    "    for start in range(0, len(labels) - window_size + 1, step_size):\n",
    "        window_label = np.bincount(labels[start:start + window_size]).argmax()\n",
    "        window_labels.append(window_label)\n",
    "    return np.array(window_labels)\n",
    "\n",
    "window_labels = assign_labels_to_windows(labels, window_size, step_size)\n",
    "\n",
    "\n",
    "X_train, X_test, y_train, y_test = train_test_split(reshaped_data, window_labels, test_size=0.2, random_state=42)\n",
    "\n",
    "HART.compile(optimizer='adam', loss='sparse_categorical_crossentropy', metrics=['accuracy'])\n",
    "\n",
    "early_stopping = keras.callbacks.EarlyStopping(\n",
    "    monitor='val_loss',\n",
    "    patience=5,\n",
    "    restore_best_weights=True\n",
    ")\n",
    "\n",
    "history = HART.fit(X_train, y_train, epochs=200, batch_size=64, validation_data=(X_test, y_test), callbacks=[early_stopping])"
   ]
  },
  {
   "cell_type": "code",
   "execution_count": 27,
   "id": "40ef5ace",
   "metadata": {},
   "outputs": [],
   "source": [
    "columns = ['Accel X (g)', 'Accel Y (g)', 'Accel Z (g)', \n",
    "           'Gyro X (°/s)', 'Gyro Y (°/s)', 'Gyro Z (°/s)', \n",
    "           'Activity_Label']\n",
    "df = pd.read_csv(\"Final_Resampled_HAR_And_Inertia.csv\", header=0, names = columns)\n",
    "\n",
    "from sklearn.preprocessing import LabelEncoder\n",
    "\n",
    "LE = LabelEncoder()\n",
    "df['Activity_Label'] = LE.fit_transform(df['Activity_Label'])"
   ]
  },
  {
   "cell_type": "code",
   "execution_count": 28,
   "id": "05172c46",
   "metadata": {},
   "outputs": [
    {
     "name": "stdout",
     "output_type": "stream",
     "text": [
      "Epoch 1/200\n",
      "\u001b[1m493/497\u001b[0m \u001b[32m━━━━━━━━━━━━━━━━━━━\u001b[0m\u001b[37m━\u001b[0m \u001b[1m0s\u001b[0m 8ms/step - accuracy: 0.9495 - loss: 0.3228"
     ]
    },
    {
     "name": "stderr",
     "output_type": "stream",
     "text": [
      "I0000 00:00:1721314059.661984  188114 asm_compiler.cc:369] ptxas warning : Registers are spilled to local memory in function 'triton_gemm_dot_21996', 92 bytes spill stores, 92 bytes spill loads\n",
      "\n",
      "I0000 00:00:1721314060.719751  188104 asm_compiler.cc:369] ptxas warning : Registers are spilled to local memory in function 'triton_gemm_dot_22245', 24 bytes spill stores, 24 bytes spill loads\n",
      "\n",
      "I0000 00:00:1721314062.038159  188112 asm_compiler.cc:369] ptxas warning : Registers are spilled to local memory in function 'triton_gemm_dot_22245', 32 bytes spill stores, 32 bytes spill loads\n",
      "\n",
      "I0000 00:00:1721314062.245652  188104 asm_compiler.cc:369] ptxas warning : Registers are spilled to local memory in function 'triton_gemm_dot_22245', 32 bytes spill stores, 32 bytes spill loads\n",
      "\n"
     ]
    },
    {
     "name": "stdout",
     "output_type": "stream",
     "text": [
      "\u001b[1m497/497\u001b[0m \u001b[32m━━━━━━━━━━━━━━━━━━━━\u001b[0m\u001b[37m\u001b[0m \u001b[1m0s\u001b[0m 85ms/step - accuracy: 0.9498 - loss: 0.3209"
     ]
    },
    {
     "name": "stderr",
     "output_type": "stream",
     "text": [
      "I0000 00:00:1721314085.108826  188232 asm_compiler.cc:369] ptxas warning : Registers are spilled to local memory in function 'triton_gemm_dot_8', 284 bytes spill stores, 292 bytes spill loads\n",
      "\n"
     ]
    },
    {
     "name": "stdout",
     "output_type": "stream",
     "text": [
      "\u001b[1m497/497\u001b[0m \u001b[32m━━━━━━━━━━━━━━━━━━━━\u001b[0m\u001b[37m\u001b[0m \u001b[1m45s\u001b[0m 91ms/step - accuracy: 0.9498 - loss: 0.3205 - val_accuracy: 0.9926 - val_loss: 0.0251\n",
      "Epoch 2/200\n",
      "\u001b[1m497/497\u001b[0m \u001b[32m━━━━━━━━━━━━━━━━━━━━\u001b[0m\u001b[37m\u001b[0m \u001b[1m4s\u001b[0m 8ms/step - accuracy: 0.9910 - loss: 0.0309 - val_accuracy: 0.9947 - val_loss: 0.0191\n",
      "Epoch 3/200\n",
      "\u001b[1m497/497\u001b[0m \u001b[32m━━━━━━━━━━━━━━━━━━━━\u001b[0m\u001b[37m\u001b[0m \u001b[1m4s\u001b[0m 8ms/step - accuracy: 0.9923 - loss: 0.0247 - val_accuracy: 0.9948 - val_loss: 0.0182\n",
      "Epoch 4/200\n",
      "\u001b[1m497/497\u001b[0m \u001b[32m━━━━━━━━━━━━━━━━━━━━\u001b[0m\u001b[37m\u001b[0m \u001b[1m4s\u001b[0m 8ms/step - accuracy: 0.9921 - loss: 0.0251 - val_accuracy: 0.9941 - val_loss: 0.0174\n",
      "Epoch 5/200\n",
      "\u001b[1m497/497\u001b[0m \u001b[32m━━━━━━━━━━━━━━━━━━━━\u001b[0m\u001b[37m\u001b[0m \u001b[1m4s\u001b[0m 8ms/step - accuracy: 0.9925 - loss: 0.0250 - val_accuracy: 0.9945 - val_loss: 0.0174\n",
      "Epoch 6/200\n",
      "\u001b[1m497/497\u001b[0m \u001b[32m━━━━━━━━━━━━━━━━━━━━\u001b[0m\u001b[37m\u001b[0m \u001b[1m4s\u001b[0m 9ms/step - accuracy: 0.9919 - loss: 0.0246 - val_accuracy: 0.9956 - val_loss: 0.0158\n",
      "Epoch 7/200\n",
      "\u001b[1m497/497\u001b[0m \u001b[32m━━━━━━━━━━━━━━━━━━━━\u001b[0m\u001b[37m\u001b[0m \u001b[1m4s\u001b[0m 8ms/step - accuracy: 0.9904 - loss: 0.0297 - val_accuracy: 0.9961 - val_loss: 0.0130\n",
      "Epoch 8/200\n",
      "\u001b[1m497/497\u001b[0m \u001b[32m━━━━━━━━━━━━━━━━━━━━\u001b[0m\u001b[37m\u001b[0m \u001b[1m4s\u001b[0m 8ms/step - accuracy: 0.9933 - loss: 0.0209 - val_accuracy: 0.9960 - val_loss: 0.0144\n",
      "Epoch 9/200\n",
      "\u001b[1m497/497\u001b[0m \u001b[32m━━━━━━━━━━━━━━━━━━━━\u001b[0m\u001b[37m\u001b[0m \u001b[1m4s\u001b[0m 8ms/step - accuracy: 0.9928 - loss: 0.0227 - val_accuracy: 0.9952 - val_loss: 0.0139\n",
      "Epoch 10/200\n",
      "\u001b[1m497/497\u001b[0m \u001b[32m━━━━━━━━━━━━━━━━━━━━\u001b[0m\u001b[37m\u001b[0m \u001b[1m4s\u001b[0m 8ms/step - accuracy: 0.9922 - loss: 0.0255 - val_accuracy: 0.9950 - val_loss: 0.0177\n",
      "Epoch 11/200\n",
      "\u001b[1m497/497\u001b[0m \u001b[32m━━━━━━━━━━━━━━━━━━━━\u001b[0m\u001b[37m\u001b[0m \u001b[1m4s\u001b[0m 8ms/step - accuracy: 0.9927 - loss: 0.0231 - val_accuracy: 0.9962 - val_loss: 0.0129\n",
      "Epoch 12/200\n",
      "\u001b[1m497/497\u001b[0m \u001b[32m━━━━━━━━━━━━━━━━━━━━\u001b[0m\u001b[37m\u001b[0m \u001b[1m4s\u001b[0m 8ms/step - accuracy: 0.9929 - loss: 0.0214 - val_accuracy: 0.9950 - val_loss: 0.0159\n",
      "Epoch 13/200\n",
      "\u001b[1m497/497\u001b[0m \u001b[32m━━━━━━━━━━━━━━━━━━━━\u001b[0m\u001b[37m\u001b[0m \u001b[1m4s\u001b[0m 8ms/step - accuracy: 0.9924 - loss: 0.0241 - val_accuracy: 0.9955 - val_loss: 0.0149\n",
      "Epoch 14/200\n",
      "\u001b[1m497/497\u001b[0m \u001b[32m━━━━━━━━━━━━━━━━━━━━\u001b[0m\u001b[37m\u001b[0m \u001b[1m4s\u001b[0m 8ms/step - accuracy: 0.9920 - loss: 0.0248 - val_accuracy: 0.9923 - val_loss: 0.0264\n",
      "Epoch 15/200\n",
      "\u001b[1m497/497\u001b[0m \u001b[32m━━━━━━━━━━━━━━━━━━━━\u001b[0m\u001b[37m\u001b[0m \u001b[1m4s\u001b[0m 8ms/step - accuracy: 0.9917 - loss: 0.0250 - val_accuracy: 0.9956 - val_loss: 0.0147\n",
      "Epoch 16/200\n",
      "\u001b[1m497/497\u001b[0m \u001b[32m━━━━━━━━━━━━━━━━━━━━\u001b[0m\u001b[37m\u001b[0m \u001b[1m4s\u001b[0m 8ms/step - accuracy: 0.9944 - loss: 0.0170 - val_accuracy: 0.9967 - val_loss: 0.0107\n",
      "Epoch 17/200\n",
      "\u001b[1m497/497\u001b[0m \u001b[32m━━━━━━━━━━━━━━━━━━━━\u001b[0m\u001b[37m\u001b[0m \u001b[1m4s\u001b[0m 8ms/step - accuracy: 0.9937 - loss: 0.0189 - val_accuracy: 0.9926 - val_loss: 0.0255\n",
      "Epoch 18/200\n",
      "\u001b[1m497/497\u001b[0m \u001b[32m━━━━━━━━━━━━━━━━━━━━\u001b[0m\u001b[37m\u001b[0m \u001b[1m4s\u001b[0m 8ms/step - accuracy: 0.9929 - loss: 0.0195 - val_accuracy: 0.9966 - val_loss: 0.0121\n",
      "Epoch 19/200\n",
      "\u001b[1m497/497\u001b[0m \u001b[32m━━━━━━━━━━━━━━━━━━━━\u001b[0m\u001b[37m\u001b[0m \u001b[1m4s\u001b[0m 8ms/step - accuracy: 0.9939 - loss: 0.0192 - val_accuracy: 0.9947 - val_loss: 0.0143\n",
      "Epoch 20/200\n",
      "\u001b[1m497/497\u001b[0m \u001b[32m━━━━━━━━━━━━━━━━━━━━\u001b[0m\u001b[37m\u001b[0m \u001b[1m4s\u001b[0m 8ms/step - accuracy: 0.9933 - loss: 0.0191 - val_accuracy: 0.9932 - val_loss: 0.0231\n",
      "Epoch 21/200\n",
      "\u001b[1m497/497\u001b[0m \u001b[32m━━━━━━━━━━━━━━━━━━━━\u001b[0m\u001b[37m\u001b[0m \u001b[1m4s\u001b[0m 8ms/step - accuracy: 0.9946 - loss: 0.0159 - val_accuracy: 0.9952 - val_loss: 0.0149\n"
     ]
    },
    {
     "data": {
      "text/plain": [
       "<keras.src.callbacks.history.History at 0x7f1b50355af0>"
      ]
     },
     "execution_count": 28,
     "metadata": {},
     "output_type": "execute_result"
    }
   ],
   "source": [
    "features = df.columns[:-1]  \n",
    "labels_encoded = df['Activity_Label'].values\n",
    "\n",
    "data_filtered = df[features].values\n",
    "\n",
    "window_size = 128\n",
    "step_size = 64\n",
    "num_features = 6\n",
    "\n",
    "reshaped_data_filtered = create_overlapping_windows(data_filtered, window_size, step_size, num_features)\n",
    "\n",
    "window_labels_filtered = assign_labels_to_windows(labels_encoded, window_size, step_size)\n",
    "\n",
    "X_fine_tune, X_test_new, y_fine_tune, y_test_new = train_test_split(reshaped_data_filtered, window_labels_filtered, test_size=0.2, random_state=21)\n",
    "\n",
    "HART.fit(X_fine_tune, y_fine_tune, epochs=200, batch_size=64, validation_split=0.2, callbacks=[early_stopping])"
   ]
  },
  {
   "cell_type": "code",
   "execution_count": 29,
   "id": "6df10fe3",
   "metadata": {},
   "outputs": [
    {
     "name": "stdout",
     "output_type": "stream",
     "text": [
      "\u001b[1m311/311\u001b[0m \u001b[32m━━━━━━━━━━━━━━━━━━━━\u001b[0m\u001b[37m\u001b[0m \u001b[1m2s\u001b[0m 2ms/step - accuracy: 0.9917 - loss: 0.0233\n",
      "Test Loss: 0.021205853670835495, Test Accuracy: 0.9928499460220337\n"
     ]
    }
   ],
   "source": [
    "performance_new = HART.evaluate(X_test_new, y_test_new)\n",
    "print(f\"Test Loss: {performance_new[0]}, Test Accuracy: {performance_new[1]}\")"
   ]
  },
  {
   "cell_type": "markdown",
   "id": "6ee9fb6e",
   "metadata": {},
   "source": [
    "# HART on Smote Data "
   ]
  },
  {
   "cell_type": "code",
   "execution_count": 30,
   "id": "cb13fb7c",
   "metadata": {},
   "outputs": [],
   "source": [
    "columns = ['Accel X (g)', 'Accel Y (g)', 'Accel Z (g)', \n",
    "           'Gyro X (°/s)', 'Gyro Y (°/s)', 'Gyro Z (°/s)', \n",
    "           'Activity_Label']\n",
    "df1 = pd.read_csv(\"Final_Resampled_HAR_And_Inertia.csv\", header=0, names=columns)\n",
    "\n",
    "labels = pd.factorize(df1['Activity_Label'])[0]\n",
    "\n",
    "feature_columns = df1.columns[:-1] \n",
    "data = df1[feature_columns].values"
   ]
  },
  {
   "cell_type": "code",
   "execution_count": 31,
   "id": "1cc050e6",
   "metadata": {},
   "outputs": [],
   "source": [
    "window_size = 128 \n",
    "step_size = 64    \n",
    "num_features = 6 \n",
    "\n",
    "reshaped_data = create_overlapping_windows(data, window_size, step_size, num_features)\n",
    "\n",
    "window_labels = assign_labels_to_windows(labels, window_size, step_size)\n",
    "\n",
    "input_shape = (128, 6)\n",
    "activityCount = len(np.unique(labels)) "
   ]
  },
  {
   "cell_type": "code",
   "execution_count": 32,
   "id": "7bf0d18b",
   "metadata": {},
   "outputs": [],
   "source": [
    "HART = model.HART(input_shape, activityCount)\n",
    "\n",
    "X_train, X_test, y_train, y_test = train_test_split(reshaped_data, window_labels, test_size=0.2, random_state=42)\n",
    "\n",
    "HART.compile(optimizer='adam', loss='sparse_categorical_crossentropy', metrics=['accuracy'])\n",
    "\n",
    "early_stopping = keras.callbacks.EarlyStopping(\n",
    "    monitor='val_loss',\n",
    "    patience=5,\n",
    "    restore_best_weights=True\n",
    ")"
   ]
  },
  {
   "cell_type": "code",
   "execution_count": 33,
   "id": "2fb602b0",
   "metadata": {},
   "outputs": [
    {
     "name": "stdout",
     "output_type": "stream",
     "text": [
      "Epoch 1/200\n",
      "\u001b[1m 13/621\u001b[0m \u001b[37m━━━━━━━━━━━━━━━━━━━━\u001b[0m \u001b[1m5s\u001b[0m 9ms/step - accuracy: 0.2028 - loss: 1.9399   "
     ]
    },
    {
     "name": "stderr",
     "output_type": "stream",
     "text": [
      "I0000 00:00:1721314249.405152  185317 asm_compiler.cc:369] ptxas warning : Registers are spilled to local memory in function 'input_slice_fusion_2', 4 bytes spill stores, 4 bytes spill loads\n",
      "\n"
     ]
    },
    {
     "name": "stdout",
     "output_type": "stream",
     "text": [
      "\u001b[1m621/621\u001b[0m \u001b[32m━━━━━━━━━━━━━━━━━━━━\u001b[0m\u001b[37m\u001b[0m \u001b[1m87s\u001b[0m 66ms/step - accuracy: 0.4344 - loss: 1.2792 - val_accuracy: 0.7055 - val_loss: 0.7057\n",
      "Epoch 2/200\n",
      "\u001b[1m621/621\u001b[0m \u001b[32m━━━━━━━━━━━━━━━━━━━━\u001b[0m\u001b[37m\u001b[0m \u001b[1m5s\u001b[0m 8ms/step - accuracy: 0.7216 - loss: 0.6855 - val_accuracy: 0.7518 - val_loss: 0.5954\n",
      "Epoch 3/200\n",
      "\u001b[1m621/621\u001b[0m \u001b[32m━━━━━━━━━━━━━━━━━━━━\u001b[0m\u001b[37m\u001b[0m \u001b[1m5s\u001b[0m 8ms/step - accuracy: 0.8006 - loss: 0.5196 - val_accuracy: 0.9575 - val_loss: 0.2429\n",
      "Epoch 4/200\n",
      "\u001b[1m621/621\u001b[0m \u001b[32m━━━━━━━━━━━━━━━━━━━━\u001b[0m\u001b[37m\u001b[0m \u001b[1m5s\u001b[0m 8ms/step - accuracy: 0.9187 - loss: 0.2723 - val_accuracy: 0.9709 - val_loss: 0.1471\n",
      "Epoch 5/200\n",
      "\u001b[1m621/621\u001b[0m \u001b[32m━━━━━━━━━━━━━━━━━━━━\u001b[0m\u001b[37m\u001b[0m \u001b[1m5s\u001b[0m 8ms/step - accuracy: 0.9365 - loss: 0.2029 - val_accuracy: 0.9787 - val_loss: 0.1196\n",
      "Epoch 6/200\n",
      "\u001b[1m621/621\u001b[0m \u001b[32m━━━━━━━━━━━━━━━━━━━━\u001b[0m\u001b[37m\u001b[0m \u001b[1m5s\u001b[0m 8ms/step - accuracy: 0.9439 - loss: 0.1750 - val_accuracy: 0.9783 - val_loss: 0.0984\n",
      "Epoch 7/200\n",
      "\u001b[1m621/621\u001b[0m \u001b[32m━━━━━━━━━━━━━━━━━━━━\u001b[0m\u001b[37m\u001b[0m \u001b[1m5s\u001b[0m 8ms/step - accuracy: 0.9498 - loss: 0.1507 - val_accuracy: 0.9777 - val_loss: 0.0936\n",
      "Epoch 8/200\n",
      "\u001b[1m621/621\u001b[0m \u001b[32m━━━━━━━━━━━━━━━━━━━━\u001b[0m\u001b[37m\u001b[0m \u001b[1m5s\u001b[0m 8ms/step - accuracy: 0.9602 - loss: 0.1251 - val_accuracy: 0.9890 - val_loss: 0.0549\n",
      "Epoch 9/200\n",
      "\u001b[1m621/621\u001b[0m \u001b[32m━━━━━━━━━━━━━━━━━━━━\u001b[0m\u001b[37m\u001b[0m \u001b[1m5s\u001b[0m 8ms/step - accuracy: 0.9706 - loss: 0.0929 - val_accuracy: 0.9798 - val_loss: 0.0708\n",
      "Epoch 10/200\n",
      "\u001b[1m621/621\u001b[0m \u001b[32m━━━━━━━━━━━━━━━━━━━━\u001b[0m\u001b[37m\u001b[0m \u001b[1m5s\u001b[0m 8ms/step - accuracy: 0.9793 - loss: 0.0670 - val_accuracy: 0.9864 - val_loss: 0.0472\n",
      "Epoch 11/200\n",
      "\u001b[1m621/621\u001b[0m \u001b[32m━━━━━━━━━━━━━━━━━━━━\u001b[0m\u001b[37m\u001b[0m \u001b[1m5s\u001b[0m 8ms/step - accuracy: 0.9846 - loss: 0.0493 - val_accuracy: 0.9881 - val_loss: 0.0364\n",
      "Epoch 12/200\n",
      "\u001b[1m621/621\u001b[0m \u001b[32m━━━━━━━━━━━━━━━━━━━━\u001b[0m\u001b[37m\u001b[0m \u001b[1m5s\u001b[0m 8ms/step - accuracy: 0.9834 - loss: 0.0536 - val_accuracy: 0.9912 - val_loss: 0.0287\n",
      "Epoch 13/200\n",
      "\u001b[1m621/621\u001b[0m \u001b[32m━━━━━━━━━━━━━━━━━━━━\u001b[0m\u001b[37m\u001b[0m \u001b[1m5s\u001b[0m 8ms/step - accuracy: 0.9841 - loss: 0.0479 - val_accuracy: 0.9892 - val_loss: 0.0361\n",
      "Epoch 14/200\n",
      "\u001b[1m621/621\u001b[0m \u001b[32m━━━━━━━━━━━━━━━━━━━━\u001b[0m\u001b[37m\u001b[0m \u001b[1m5s\u001b[0m 8ms/step - accuracy: 0.9885 - loss: 0.0371 - val_accuracy: 0.9899 - val_loss: 0.0363\n",
      "Epoch 15/200\n",
      "\u001b[1m621/621\u001b[0m \u001b[32m━━━━━━━━━━━━━━━━━━━━\u001b[0m\u001b[37m\u001b[0m \u001b[1m5s\u001b[0m 8ms/step - accuracy: 0.9872 - loss: 0.0386 - val_accuracy: 0.9919 - val_loss: 0.0261\n",
      "Epoch 16/200\n",
      "\u001b[1m621/621\u001b[0m \u001b[32m━━━━━━━━━━━━━━━━━━━━\u001b[0m\u001b[37m\u001b[0m \u001b[1m5s\u001b[0m 8ms/step - accuracy: 0.9875 - loss: 0.0374 - val_accuracy: 0.9907 - val_loss: 0.0299\n",
      "Epoch 17/200\n",
      "\u001b[1m621/621\u001b[0m \u001b[32m━━━━━━━━━━━━━━━━━━━━\u001b[0m\u001b[37m\u001b[0m \u001b[1m5s\u001b[0m 8ms/step - accuracy: 0.9889 - loss: 0.0340 - val_accuracy: 0.9912 - val_loss: 0.0288\n",
      "Epoch 18/200\n",
      "\u001b[1m621/621\u001b[0m \u001b[32m━━━━━━━━━━━━━━━━━━━━\u001b[0m\u001b[37m\u001b[0m \u001b[1m5s\u001b[0m 8ms/step - accuracy: 0.9879 - loss: 0.0369 - val_accuracy: 0.9893 - val_loss: 0.0328\n",
      "Epoch 19/200\n",
      "\u001b[1m621/621\u001b[0m \u001b[32m━━━━━━━━━━━━━━━━━━━━\u001b[0m\u001b[37m\u001b[0m \u001b[1m5s\u001b[0m 8ms/step - accuracy: 0.9890 - loss: 0.0326 - val_accuracy: 0.9916 - val_loss: 0.0277\n",
      "Epoch 20/200\n",
      "\u001b[1m621/621\u001b[0m \u001b[32m━━━━━━━━━━━━━━━━━━━━\u001b[0m\u001b[37m\u001b[0m \u001b[1m5s\u001b[0m 8ms/step - accuracy: 0.9875 - loss: 0.0382 - val_accuracy: 0.9896 - val_loss: 0.0343\n"
     ]
    }
   ],
   "source": [
    "history = HART.fit(X_train, y_train, epochs=200, batch_size=64, validation_data=(X_test, y_test), callbacks=[early_stopping])"
   ]
  },
  {
   "cell_type": "code",
   "execution_count": 34,
   "id": "cc720282",
   "metadata": {
    "scrolled": false
   },
   "outputs": [
    {
     "name": "stdout",
     "output_type": "stream",
     "text": [
      "\u001b[1m311/311\u001b[0m \u001b[32m━━━━━━━━━━━━━━━━━━━━\u001b[0m\u001b[37m\u001b[0m \u001b[1m2s\u001b[0m 2ms/step - accuracy: 0.9917 - loss: 0.0248\n",
      "Test Loss: 0.02601544000208378, Test Accuracy: 0.991540789604187\n"
     ]
    }
   ],
   "source": [
    "performance = HART.evaluate(X_test, y_test)\n",
    "print(f\"Test Loss: {performance[0]}, Test Accuracy: {performance[1]}\")"
   ]
  },
  {
   "cell_type": "code",
   "execution_count": 35,
   "id": "912617ac",
   "metadata": {},
   "outputs": [
    {
     "name": "stdout",
     "output_type": "stream",
     "text": [
      "\u001b[1m1552/1552\u001b[0m \u001b[32m━━━━━━━━━━━━━━━━━━━━\u001b[0m\u001b[37m\u001b[0m \u001b[1m7s\u001b[0m 3ms/step\n",
      "              precision    recall  f1-score   support\n",
      "\n",
      "           0       0.99      0.99      0.99      4964\n",
      "           1       1.00      1.00      1.00      4965\n",
      "           2       1.00      0.99      0.99      4965\n",
      "           3       1.00      1.00      1.00      4964\n",
      "           4       0.99      1.00      0.99      4965\n",
      "           5       1.00      1.00      1.00      4965\n",
      "           6       1.00      0.99      0.99      4964\n",
      "           7       0.99      1.00      0.99      4965\n",
      "           8       1.00      0.99      0.99      4964\n",
      "           9       0.99      1.00      0.99      4965\n",
      "\n",
      "    accuracy                           0.99     49646\n",
      "   macro avg       0.99      0.99      0.99     49646\n",
      "weighted avg       0.99      0.99      0.99     49646\n",
      "\n"
     ]
    }
   ],
   "source": [
    "test_predictions = HART.predict(test_reshaped_data)\n",
    "test_predictions = np.argmax(test_predictions, axis=1)\n",
    "\n",
    "print(classification_report(test_window_labels, test_predictions))"
   ]
  },
  {
   "cell_type": "code",
   "execution_count": null,
   "id": "ecf9ef44",
   "metadata": {},
   "outputs": [],
   "source": []
  }
 ],
 "metadata": {
  "kernelspec": {
   "display_name": "Python 3 (ipykernel)",
   "language": "python",
   "name": "python3"
  },
  "language_info": {
   "codemirror_mode": {
    "name": "ipython",
    "version": 3
   },
   "file_extension": ".py",
   "mimetype": "text/x-python",
   "name": "python",
   "nbconvert_exporter": "python",
   "pygments_lexer": "ipython3",
   "version": "3.9.7"
  }
 },
 "nbformat": 4,
 "nbformat_minor": 5
}
